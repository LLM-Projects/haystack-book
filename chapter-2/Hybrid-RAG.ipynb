{
 "cells": [
  {
   "cell_type": "code",
   "execution_count": 1,
   "id": "1c0f9d42-fd5a-453e-bd3e-fc6aff85f792",
   "metadata": {},
   "outputs": [],
   "source": [
    "from haystack.document_stores.in_memory import InMemoryDocumentStore\n",
    "\n",
    "document_store = InMemoryDocumentStore()"
   ]
  },
  {
   "cell_type": "code",
   "execution_count": 3,
   "id": "e2f5b260-88ae-4005-a53b-605b1dfc8495",
   "metadata": {},
   "outputs": [
    {
     "data": {
      "application/vnd.jupyter.widget-view+json": {
       "model_id": "fed151335926404da59994169b20c6ac",
       "version_major": 2,
       "version_minor": 0
      },
      "text/plain": [
       "Batches:   0%|          | 0/5 [00:00<?, ?it/s]"
      ]
     },
     "metadata": {},
     "output_type": "display_data"
    },
    {
     "data": {
      "text/plain": [
       "{'document_writer': {'documents_written': 129}}"
      ]
     },
     "execution_count": 3,
     "metadata": {},
     "output_type": "execute_result"
    }
   ],
   "source": [
    "from haystack.components.writers import DocumentWriter\n",
    "from haystack.components.embedders import SentenceTransformersDocumentEmbedder\n",
    "from haystack.components.preprocessors.document_splitter import DocumentSplitter\n",
    "from haystack import Pipeline\n",
    "from haystack.utils import ComponentDevice\n",
    "from haystack.components.converters import PyPDFToDocument\n",
    "\n",
    "\n",
    "document_splitter = DocumentSplitter(split_by=\"word\", split_length=512, split_overlap=32)\n",
    "document_embedder = SentenceTransformersDocumentEmbedder(\n",
    "    model=\"BAAI/bge-small-en-v1.5\"\n",
    ")\n",
    "document_writer = DocumentWriter(document_store)\n",
    "\n",
    "indexing_pipeline = Pipeline()\n",
    "indexing_pipeline.add_component(\"document_converter\", PyPDFToDocument())\n",
    "indexing_pipeline.add_component(\"document_splitter\", document_splitter)\n",
    "indexing_pipeline.add_component(\"document_embedder\", document_embedder)\n",
    "indexing_pipeline.add_component(\"document_writer\", document_writer)\n",
    "\n",
    "indexing_pipeline.connect(\"document_converter\", \"document_splitter\")\n",
    "indexing_pipeline.connect(\"document_splitter\", \"document_embedder\")\n",
    "indexing_pipeline.connect(\"document_embedder\", \"document_writer\")\n",
    "\n",
    "indexing_pipeline.run({\"document_converter\": {\"sources\": [\"nvidia-10q-april-2024.pdf\"]}})\n"
   ]
  },
  {
   "cell_type": "code",
   "execution_count": 4,
   "id": "bc6dd6e2-863d-452e-a68a-b393cb2c6fd4",
   "metadata": {},
   "outputs": [],
   "source": [
    "from haystack.components.retrievers.in_memory import InMemoryBM25Retriever, InMemoryEmbeddingRetriever\n",
    "from haystack.components.embedders import SentenceTransformersTextEmbedder\n",
    "\n",
    "text_embedder = SentenceTransformersTextEmbedder(\n",
    "    model=\"BAAI/bge-small-en-v1.5\"\n",
    ")\n",
    "embedding_retriever = InMemoryEmbeddingRetriever(document_store)\n",
    "bm25_retriever = InMemoryBM25Retriever(document_store)\n"
   ]
  },
  {
   "cell_type": "code",
   "execution_count": 5,
   "id": "6b43a418-72af-4ed4-93f2-ce2365f7f389",
   "metadata": {},
   "outputs": [],
   "source": [
    "from haystack.components.joiners import DocumentJoiner\n",
    "\n",
    "document_joiner = DocumentJoiner()\n"
   ]
  },
  {
   "cell_type": "code",
   "execution_count": 6,
   "id": "ae443012-8a05-43c4-afa9-c45b4e8a4057",
   "metadata": {},
   "outputs": [],
   "source": [
    "from haystack.components.rankers import TransformersSimilarityRanker\n",
    "\n",
    "ranker = TransformersSimilarityRanker(model=\"BAAI/bge-reranker-base\")\n"
   ]
  },
  {
   "cell_type": "code",
   "execution_count": 7,
   "id": "4d29aaed-cde2-4181-aba7-349d0acf40d8",
   "metadata": {},
   "outputs": [
    {
     "data": {
      "text/plain": [
       "<haystack.core.pipeline.pipeline.Pipeline object at 0x000002353C1A7F50>\n",
       "🚅 Components\n",
       "  - text_embedder: SentenceTransformersTextEmbedder\n",
       "  - embedding_retriever: InMemoryEmbeddingRetriever\n",
       "  - bm25_retriever: InMemoryBM25Retriever\n",
       "  - document_joiner: DocumentJoiner\n",
       "  - ranker: TransformersSimilarityRanker\n",
       "🛤️ Connections\n",
       "  - text_embedder.embedding -> embedding_retriever.query_embedding (List[float])\n",
       "  - embedding_retriever.documents -> document_joiner.documents (List[Document])\n",
       "  - bm25_retriever.documents -> document_joiner.documents (List[Document])\n",
       "  - document_joiner.documents -> ranker.documents (List[Document])"
      ]
     },
     "execution_count": 7,
     "metadata": {},
     "output_type": "execute_result"
    }
   ],
   "source": [
    "from haystack import Pipeline\n",
    "\n",
    "hybrid_retrieval = Pipeline()\n",
    "hybrid_retrieval.add_component(\"text_embedder\", text_embedder)\n",
    "hybrid_retrieval.add_component(\"embedding_retriever\", embedding_retriever)\n",
    "hybrid_retrieval.add_component(\"bm25_retriever\", bm25_retriever)\n",
    "hybrid_retrieval.add_component(\"document_joiner\", document_joiner)\n",
    "hybrid_retrieval.add_component(\"ranker\", ranker)\n",
    "\n",
    "hybrid_retrieval.connect(\"text_embedder\", \"embedding_retriever\")\n",
    "hybrid_retrieval.connect(\"bm25_retriever\", \"document_joiner\")\n",
    "hybrid_retrieval.connect(\"embedding_retriever\", \"document_joiner\")\n",
    "hybrid_retrieval.connect(\"document_joiner\", \"ranker\")\n"
   ]
  },
  {
   "cell_type": "code",
   "execution_count": 10,
   "id": "fd863716-3d02-43ab-bbd0-aa91c5f130c1",
   "metadata": {},
   "outputs": [
    {
     "data": {
      "application/vnd.jupyter.widget-view+json": {
       "model_id": "b75d52f97728427eb522c32babaf7bc9",
       "version_major": 2,
       "version_minor": 0
      },
      "text/plain": [
       "Batches:   0%|          | 0/1 [00:00<?, ?it/s]"
      ]
     },
     "metadata": {},
     "output_type": "display_data"
    }
   ],
   "source": [
    "query = \"How much did Nvidia pay in income taxes\"\n",
    "\n",
    "result = hybrid_retrieval.run(\n",
    "    {\"text_embedder\": {\"text\": query}, \"bm25_retriever\": {\"query\": query}, \"ranker\": {\"query\": query}}\n",
    ")\n"
   ]
  },
  {
   "cell_type": "code",
   "execution_count": 29,
   "id": "938fac0e-550c-4331-a883-50548e1914c2",
   "metadata": {},
   "outputs": [
    {
     "data": {
      "text/plain": [
       "'$ 1,553 $ 1,361 \\nDeferred revenue (2) 704 573 \\nDeferred income tax 583 462 \\nLicenses payable 60 80 \\nOther 66 65 \\nTotal other long-term liabilities $ 2,966 $ 2,541 \\n(1)    Income tax payable is comprised of the long-term portion of the one-time transition tax payable, unrecognized tax benefits, and related interest and penalties.\\n(2)    Deferred revenue primarily includes deferrals related to hardware support and software support.\\nDeferred Revenue\\nThe following table shows the changes in short and long term deferred revenue during the first quarter of fiscal years 2025 and 2024:\\n Apr 28, 2024 Apr 30, 2023\\n(In millions)\\nBalance at beginning of period $ 1,337 $ 572 \\nDeferred revenue additions during the period 553 287 \\nRevenue recognized during the period (341) (262)\\nBalance at end of period $ 1,549 $ 597 \\nWe recognized $188 million in revenue in the first quarter of fiscal year 2025 from deferred revenue as of January 28, 2024.\\nRevenue allocated to remaining performance obligations, which includes deferred revenue and amounts that will be invoiced and recognized as revenue in\\nfuture period s, was $1.3 billion as of April 28, 2024. We expect to recognize approximately 38% of this revenue over the next twelve months and the remainder\\nthereafter . This excludes revenue related to performance obligations for contracts with a length of one year or less.\\n16\\x0cNVIDIA  Corporation and Subsidiaries\\nNotes to Condensed Consolidated Financial Statements (Continued)\\n(Unaudited)\\nNote 10 - Derivative Financial Instruments\\nWe enter into foreign currency forward contracts to mitigate the impact of foreign currency exchange rate movements on our operating expenses. These\\ncontracts are designated as cash flow hedges for hedge accounting treatment. Gains or losses on the contracts are recorded in accumulated other\\ncomprehensive income or loss and reclassified to operating expense when the related operating expenses are recognized in earnings or ineffectiveness should\\noccur .\\nWe also enter into foreign currency forward contracts to mitigate the impact of foreign currency movements on monetary assets and liabilities. The change in fair\\nvalue of these non-designated contracts is record ed in other income or expense and offsets the change in fair value of the hedged foreign currency denominated\\nmonetary assets and liabilities, which is also recorded in other income or expense.\\nThe table below presents the notional value of our foreign currency contracts outstanding:\\n Apr 28, 2024 Jan 28, 2024\\n(In millions)\\nDesignated as cash flow hedges $ 1,198 $ 1,168 \\nNon-designated hedges $ 704 $ 597 \\nThe unrealized gains and losses or fair value of our foreign currency contracts was not significant as of April 28, 2024 and January 28, 2024.\\nAs of April 28, 2024, all designated foreign curre ncy contracts mature within 18 months. The expected realized gains and losses deferred to accumulated other\\ncomprehensive income or loss related to foreign currency contracts was not significant.\\nDuring the first quarter of fiscal years 2025 and 2024, the impact of derivative financial instruments designated for hedge accounting treatment in other\\ncomprehensive income or loss was not significant and the instruments were determined to be highly ef fective.\\nNote 11 - Debt\\nLong-T erm Debt\\nExpected\\nRemaining T erm\\n(years)Effective\\nInterest RateCarrying V alue at\\nApr 28, 2024 Jan 28, 2024\\n(In millions)\\n0.584% Notes Due 2024 0.1 0.66% 1,250 '"
      ]
     },
     "execution_count": 29,
     "metadata": {},
     "output_type": "execute_result"
    }
   ],
   "source": [
    "result['ranker']['documents'][0].content"
   ]
  },
  {
   "cell_type": "code",
   "execution_count": 30,
   "id": "c8f49528-ee08-4bb1-a705-32ae917d5823",
   "metadata": {},
   "outputs": [
    {
     "name": "stdout",
     "output_type": "stream",
     "text": [
      "$ 1,553 $ 1,361 \n",
      "Deferred revenue (2) 704 573 \n",
      "Deferred income tax 583 462 \n",
      "Licenses payable 60 80 \n",
      "Other 66 65 \n",
      "Total other long-term liabilities $ 2,966 $ 2,541 \n",
      "(1)    Income tax payable is comprised of the long-term portion of the one-time transition tax payable, unrecognized tax benefits, and related interest and penalties.\n",
      "(2)    Deferred revenue primarily includes deferrals related to hardware support and software support.\n",
      "Deferred Revenue\n",
      "The following table shows the changes in short and long term deferred revenue during the first quarter of fiscal years 2025 and 2024:\n",
      " Apr 28, 2024 Apr 30, 2023\n",
      "(In millions)\n",
      "Balance at beginning of period $ 1,337 $ 572 \n",
      "Deferred revenue additions during the period 553 287 \n",
      "Revenue recognized during the period (341) (262)\n",
      "Balance at end of period $ 1,549 $ 597 \n",
      "We recognized $188 million in revenue in the first quarter of fiscal year 2025 from deferred revenue as of January 28, 2024.\n",
      "Revenue allocated to remaining performance obligations, which includes deferred revenue and amounts that will be invoiced and recognized as revenue in\n",
      "future period s, was $1.3 billion as of April 28, 2024. We expect to recognize approximately 38% of this revenue over the next twelve months and the remainder\n",
      "thereafter . This excludes revenue related to performance obligations for contracts with a length of one year or less.\n",
      "16\f",
      "NVIDIA  Corporation and Subsidiaries\n",
      "Notes to Condensed Consolidated Financial Statements (Continued)\n",
      "(Unaudited)\n",
      "Note 10 - Derivative Financial Instruments\n",
      "We enter into foreign currency forward contracts to mitigate the impact of foreign currency exchange rate movements on our operating expenses. These\n",
      "contracts are designated as cash flow hedges for hedge accounting treatment. Gains or losses on the contracts are recorded in accumulated other\n",
      "comprehensive income or loss and reclassified to operating expense when the related operating expenses are recognized in earnings or ineffectiveness should\n",
      "occur .\n",
      "We also enter into foreign currency forward contracts to mitigate the impact of foreign currency movements on monetary assets and liabilities. The change in fair\n",
      "value of these non-designated contracts is record ed in other income or expense and offsets the change in fair value of the hedged foreign currency denominated\n",
      "monetary assets and liabilities, which is also recorded in other income or expense.\n",
      "The table below presents the notional value of our foreign currency contracts outstanding:\n",
      " Apr 28, 2024 Jan 28, 2024\n",
      "(In millions)\n",
      "Designated as cash flow hedges $ 1,198 $ 1,168 \n",
      "Non-designated hedges $ 704 $ 597 \n",
      "The unrealized gains and losses or fair value of our foreign currency contracts was not significant as of April 28, 2024 and January 28, 2024.\n",
      "As of April 28, 2024, all designated foreign curre ncy contracts mature within 18 months. The expected realized gains and losses deferred to accumulated other\n",
      "comprehensive income or loss related to foreign currency contracts was not significant.\n",
      "During the first quarter of fiscal years 2025 and 2024, the impact of derivative financial instruments designated for hedge accounting treatment in other\n",
      "comprehensive income or loss was not significant and the instruments were determined to be highly ef fective.\n",
      "Note 11 - Debt\n",
      "Long-T erm Debt\n",
      "Expected\n",
      "Remaining T erm\n",
      "(years)Effective\n",
      "Interest RateCarrying V alue at\n",
      "Apr 28, 2024 Jan 28, 2024\n",
      "(In millions)\n",
      "0.584% Notes Due 2024 0.1 0.66% 1,250  \t 0.9661032557487488\n"
     ]
    },
    {
     "ename": "KeyError",
     "evalue": "'abstract'",
     "output_type": "error",
     "traceback": [
      "\u001b[1;31m---------------------------------------------------------------------------\u001b[0m",
      "\u001b[1;31mKeyError\u001b[0m                                  Traceback (most recent call last)",
      "Cell \u001b[1;32mIn[30], line 6\u001b[0m\n\u001b[0;32m      4\u001b[0m         \u001b[38;5;28mprint\u001b[39m(doc\u001b[38;5;241m.\u001b[39mmeta[\u001b[38;5;124m\"\u001b[39m\u001b[38;5;124mabstract\u001b[39m\u001b[38;5;124m\"\u001b[39m])\n\u001b[0;32m      5\u001b[0m         \u001b[38;5;28mprint\u001b[39m(\u001b[38;5;124m\"\u001b[39m\u001b[38;5;130;01m\\n\u001b[39;00m\u001b[38;5;124m\"\u001b[39m, \u001b[38;5;124m\"\u001b[39m\u001b[38;5;130;01m\\n\u001b[39;00m\u001b[38;5;124m\"\u001b[39m)\n\u001b[1;32m----> 6\u001b[0m \u001b[43mpretty_print_results\u001b[49m\u001b[43m(\u001b[49m\u001b[43mresult\u001b[49m\u001b[43m[\u001b[49m\u001b[38;5;124;43m\"\u001b[39;49m\u001b[38;5;124;43mranker\u001b[39;49m\u001b[38;5;124;43m\"\u001b[39;49m\u001b[43m]\u001b[49m\u001b[43m)\u001b[49m\n",
      "Cell \u001b[1;32mIn[30], line 4\u001b[0m, in \u001b[0;36mpretty_print_results\u001b[1;34m(prediction)\u001b[0m\n\u001b[0;32m      2\u001b[0m \u001b[38;5;28;01mfor\u001b[39;00m doc \u001b[38;5;129;01min\u001b[39;00m prediction[\u001b[38;5;124m\"\u001b[39m\u001b[38;5;124mdocuments\u001b[39m\u001b[38;5;124m\"\u001b[39m]:\n\u001b[0;32m      3\u001b[0m     \u001b[38;5;28mprint\u001b[39m(doc\u001b[38;5;241m.\u001b[39mcontent, \u001b[38;5;124m\"\u001b[39m\u001b[38;5;130;01m\\t\u001b[39;00m\u001b[38;5;124m\"\u001b[39m, doc\u001b[38;5;241m.\u001b[39mscore)\n\u001b[1;32m----> 4\u001b[0m     \u001b[38;5;28mprint\u001b[39m(\u001b[43mdoc\u001b[49m\u001b[38;5;241;43m.\u001b[39;49m\u001b[43mmeta\u001b[49m\u001b[43m[\u001b[49m\u001b[38;5;124;43m\"\u001b[39;49m\u001b[38;5;124;43mabstract\u001b[39;49m\u001b[38;5;124;43m\"\u001b[39;49m\u001b[43m]\u001b[49m)\n\u001b[0;32m      5\u001b[0m     \u001b[38;5;28mprint\u001b[39m(\u001b[38;5;124m\"\u001b[39m\u001b[38;5;130;01m\\n\u001b[39;00m\u001b[38;5;124m\"\u001b[39m, \u001b[38;5;124m\"\u001b[39m\u001b[38;5;130;01m\\n\u001b[39;00m\u001b[38;5;124m\"\u001b[39m)\n",
      "\u001b[1;31mKeyError\u001b[0m: 'abstract'"
     ]
    }
   ],
   "source": [
    "def pretty_print_results(prediction):\n",
    "    for doc in prediction[\"documents\"]:\n",
    "        print(doc.content, \"\\t\", doc.score)\n",
    "        print(doc.meta[\"abstract\"])\n",
    "        print(\"\\n\", \"\\n\")\n",
    "pretty_print_results(result[\"ranker\"])"
   ]
  },
  {
   "cell_type": "code",
   "execution_count": null,
   "id": "4d40d0c8-0354-4576-adc2-c467de39c9e6",
   "metadata": {},
   "outputs": [],
   "source": []
  }
 ],
 "metadata": {
  "kernelspec": {
   "display_name": "Python 3 (ipykernel)",
   "language": "python",
   "name": "python3"
  },
  "language_info": {
   "codemirror_mode": {
    "name": "ipython",
    "version": 3
   },
   "file_extension": ".py",
   "mimetype": "text/x-python",
   "name": "python",
   "nbconvert_exporter": "python",
   "pygments_lexer": "ipython3",
   "version": "3.11.8"
  }
 },
 "nbformat": 4,
 "nbformat_minor": 5
}
