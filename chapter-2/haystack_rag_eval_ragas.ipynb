{
  "nbformat": 4,
  "nbformat_minor": 0,
  "metadata": {
    "colab": {
      "provenance": []
    },
    "kernelspec": {
      "name": "python3",
      "display_name": "Python 3"
    },
    "language_info": {
      "name": "python"
    },
    "widgets": {
      "application/vnd.jupyter.widget-state+json": {
        "ce9c14ec0c044a49bfed40cc8aec88bc": {
          "model_module": "@jupyter-widgets/controls",
          "model_name": "HBoxModel",
          "model_module_version": "1.5.0",
          "state": {
            "_dom_classes": [],
            "_model_module": "@jupyter-widgets/controls",
            "_model_module_version": "1.5.0",
            "_model_name": "HBoxModel",
            "_view_count": null,
            "_view_module": "@jupyter-widgets/controls",
            "_view_module_version": "1.5.0",
            "_view_name": "HBoxView",
            "box_style": "",
            "children": [
              "IPY_MODEL_c91f6f5fe78c477e9d6140dde06bbf28",
              "IPY_MODEL_849b38bee0db4f29bc5781b5cf780647",
              "IPY_MODEL_cff0c4b3e4ae4d3d8e0e9ac639eaa11c"
            ],
            "layout": "IPY_MODEL_9c099fbd1cb04ea4a6c94e11fddf9dfe"
          }
        },
        "c91f6f5fe78c477e9d6140dde06bbf28": {
          "model_module": "@jupyter-widgets/controls",
          "model_name": "HTMLModel",
          "model_module_version": "1.5.0",
          "state": {
            "_dom_classes": [],
            "_model_module": "@jupyter-widgets/controls",
            "_model_module_version": "1.5.0",
            "_model_name": "HTMLModel",
            "_view_count": null,
            "_view_module": "@jupyter-widgets/controls",
            "_view_module_version": "1.5.0",
            "_view_name": "HTMLView",
            "description": "",
            "description_tooltip": null,
            "layout": "IPY_MODEL_9c7e5d897e3e4237b14e78acc2fa6d9c",
            "placeholder": "​",
            "style": "IPY_MODEL_8c463028131b4845acd3b94c80fb563d",
            "value": "Evaluating: 100%"
          }
        },
        "849b38bee0db4f29bc5781b5cf780647": {
          "model_module": "@jupyter-widgets/controls",
          "model_name": "FloatProgressModel",
          "model_module_version": "1.5.0",
          "state": {
            "_dom_classes": [],
            "_model_module": "@jupyter-widgets/controls",
            "_model_module_version": "1.5.0",
            "_model_name": "FloatProgressModel",
            "_view_count": null,
            "_view_module": "@jupyter-widgets/controls",
            "_view_module_version": "1.5.0",
            "_view_name": "ProgressView",
            "bar_style": "success",
            "description": "",
            "description_tooltip": null,
            "layout": "IPY_MODEL_1cace84d14264044999c74e63cabe5d5",
            "max": 30,
            "min": 0,
            "orientation": "horizontal",
            "style": "IPY_MODEL_768201df92e24e9e8cea2a2fa7175965",
            "value": 30
          }
        },
        "cff0c4b3e4ae4d3d8e0e9ac639eaa11c": {
          "model_module": "@jupyter-widgets/controls",
          "model_name": "HTMLModel",
          "model_module_version": "1.5.0",
          "state": {
            "_dom_classes": [],
            "_model_module": "@jupyter-widgets/controls",
            "_model_module_version": "1.5.0",
            "_model_name": "HTMLModel",
            "_view_count": null,
            "_view_module": "@jupyter-widgets/controls",
            "_view_module_version": "1.5.0",
            "_view_name": "HTMLView",
            "description": "",
            "description_tooltip": null,
            "layout": "IPY_MODEL_15605c2b4d424fb49c2fc7749cdc96b5",
            "placeholder": "​",
            "style": "IPY_MODEL_1e2d98cd705944b4a805f21bdb9fb214",
            "value": " 30/30 [00:07&lt;00:00,  6.61it/s]"
          }
        },
        "9c099fbd1cb04ea4a6c94e11fddf9dfe": {
          "model_module": "@jupyter-widgets/base",
          "model_name": "LayoutModel",
          "model_module_version": "1.2.0",
          "state": {
            "_model_module": "@jupyter-widgets/base",
            "_model_module_version": "1.2.0",
            "_model_name": "LayoutModel",
            "_view_count": null,
            "_view_module": "@jupyter-widgets/base",
            "_view_module_version": "1.2.0",
            "_view_name": "LayoutView",
            "align_content": null,
            "align_items": null,
            "align_self": null,
            "border": null,
            "bottom": null,
            "display": null,
            "flex": null,
            "flex_flow": null,
            "grid_area": null,
            "grid_auto_columns": null,
            "grid_auto_flow": null,
            "grid_auto_rows": null,
            "grid_column": null,
            "grid_gap": null,
            "grid_row": null,
            "grid_template_areas": null,
            "grid_template_columns": null,
            "grid_template_rows": null,
            "height": null,
            "justify_content": null,
            "justify_items": null,
            "left": null,
            "margin": null,
            "max_height": null,
            "max_width": null,
            "min_height": null,
            "min_width": null,
            "object_fit": null,
            "object_position": null,
            "order": null,
            "overflow": null,
            "overflow_x": null,
            "overflow_y": null,
            "padding": null,
            "right": null,
            "top": null,
            "visibility": null,
            "width": null
          }
        },
        "9c7e5d897e3e4237b14e78acc2fa6d9c": {
          "model_module": "@jupyter-widgets/base",
          "model_name": "LayoutModel",
          "model_module_version": "1.2.0",
          "state": {
            "_model_module": "@jupyter-widgets/base",
            "_model_module_version": "1.2.0",
            "_model_name": "LayoutModel",
            "_view_count": null,
            "_view_module": "@jupyter-widgets/base",
            "_view_module_version": "1.2.0",
            "_view_name": "LayoutView",
            "align_content": null,
            "align_items": null,
            "align_self": null,
            "border": null,
            "bottom": null,
            "display": null,
            "flex": null,
            "flex_flow": null,
            "grid_area": null,
            "grid_auto_columns": null,
            "grid_auto_flow": null,
            "grid_auto_rows": null,
            "grid_column": null,
            "grid_gap": null,
            "grid_row": null,
            "grid_template_areas": null,
            "grid_template_columns": null,
            "grid_template_rows": null,
            "height": null,
            "justify_content": null,
            "justify_items": null,
            "left": null,
            "margin": null,
            "max_height": null,
            "max_width": null,
            "min_height": null,
            "min_width": null,
            "object_fit": null,
            "object_position": null,
            "order": null,
            "overflow": null,
            "overflow_x": null,
            "overflow_y": null,
            "padding": null,
            "right": null,
            "top": null,
            "visibility": null,
            "width": null
          }
        },
        "8c463028131b4845acd3b94c80fb563d": {
          "model_module": "@jupyter-widgets/controls",
          "model_name": "DescriptionStyleModel",
          "model_module_version": "1.5.0",
          "state": {
            "_model_module": "@jupyter-widgets/controls",
            "_model_module_version": "1.5.0",
            "_model_name": "DescriptionStyleModel",
            "_view_count": null,
            "_view_module": "@jupyter-widgets/base",
            "_view_module_version": "1.2.0",
            "_view_name": "StyleView",
            "description_width": ""
          }
        },
        "1cace84d14264044999c74e63cabe5d5": {
          "model_module": "@jupyter-widgets/base",
          "model_name": "LayoutModel",
          "model_module_version": "1.2.0",
          "state": {
            "_model_module": "@jupyter-widgets/base",
            "_model_module_version": "1.2.0",
            "_model_name": "LayoutModel",
            "_view_count": null,
            "_view_module": "@jupyter-widgets/base",
            "_view_module_version": "1.2.0",
            "_view_name": "LayoutView",
            "align_content": null,
            "align_items": null,
            "align_self": null,
            "border": null,
            "bottom": null,
            "display": null,
            "flex": null,
            "flex_flow": null,
            "grid_area": null,
            "grid_auto_columns": null,
            "grid_auto_flow": null,
            "grid_auto_rows": null,
            "grid_column": null,
            "grid_gap": null,
            "grid_row": null,
            "grid_template_areas": null,
            "grid_template_columns": null,
            "grid_template_rows": null,
            "height": null,
            "justify_content": null,
            "justify_items": null,
            "left": null,
            "margin": null,
            "max_height": null,
            "max_width": null,
            "min_height": null,
            "min_width": null,
            "object_fit": null,
            "object_position": null,
            "order": null,
            "overflow": null,
            "overflow_x": null,
            "overflow_y": null,
            "padding": null,
            "right": null,
            "top": null,
            "visibility": null,
            "width": null
          }
        },
        "768201df92e24e9e8cea2a2fa7175965": {
          "model_module": "@jupyter-widgets/controls",
          "model_name": "ProgressStyleModel",
          "model_module_version": "1.5.0",
          "state": {
            "_model_module": "@jupyter-widgets/controls",
            "_model_module_version": "1.5.0",
            "_model_name": "ProgressStyleModel",
            "_view_count": null,
            "_view_module": "@jupyter-widgets/base",
            "_view_module_version": "1.2.0",
            "_view_name": "StyleView",
            "bar_color": null,
            "description_width": ""
          }
        },
        "15605c2b4d424fb49c2fc7749cdc96b5": {
          "model_module": "@jupyter-widgets/base",
          "model_name": "LayoutModel",
          "model_module_version": "1.2.0",
          "state": {
            "_model_module": "@jupyter-widgets/base",
            "_model_module_version": "1.2.0",
            "_model_name": "LayoutModel",
            "_view_count": null,
            "_view_module": "@jupyter-widgets/base",
            "_view_module_version": "1.2.0",
            "_view_name": "LayoutView",
            "align_content": null,
            "align_items": null,
            "align_self": null,
            "border": null,
            "bottom": null,
            "display": null,
            "flex": null,
            "flex_flow": null,
            "grid_area": null,
            "grid_auto_columns": null,
            "grid_auto_flow": null,
            "grid_auto_rows": null,
            "grid_column": null,
            "grid_gap": null,
            "grid_row": null,
            "grid_template_areas": null,
            "grid_template_columns": null,
            "grid_template_rows": null,
            "height": null,
            "justify_content": null,
            "justify_items": null,
            "left": null,
            "margin": null,
            "max_height": null,
            "max_width": null,
            "min_height": null,
            "min_width": null,
            "object_fit": null,
            "object_position": null,
            "order": null,
            "overflow": null,
            "overflow_x": null,
            "overflow_y": null,
            "padding": null,
            "right": null,
            "top": null,
            "visibility": null,
            "width": null
          }
        },
        "1e2d98cd705944b4a805f21bdb9fb214": {
          "model_module": "@jupyter-widgets/controls",
          "model_name": "DescriptionStyleModel",
          "model_module_version": "1.5.0",
          "state": {
            "_model_module": "@jupyter-widgets/controls",
            "_model_module_version": "1.5.0",
            "_model_name": "DescriptionStyleModel",
            "_view_count": null,
            "_view_module": "@jupyter-widgets/base",
            "_view_module_version": "1.2.0",
            "_view_name": "StyleView",
            "description_width": ""
          }
        },
        "ff1ee82624e94c8da13a7a12f3c8a358": {
          "model_module": "@jupyter-widgets/controls",
          "model_name": "HBoxModel",
          "model_module_version": "1.5.0",
          "state": {
            "_dom_classes": [],
            "_model_module": "@jupyter-widgets/controls",
            "_model_module_version": "1.5.0",
            "_model_name": "HBoxModel",
            "_view_count": null,
            "_view_module": "@jupyter-widgets/controls",
            "_view_module_version": "1.5.0",
            "_view_name": "HBoxView",
            "box_style": "",
            "children": [
              "IPY_MODEL_d971be05d71a421db90e529227d0acce",
              "IPY_MODEL_be779440abac4599989467690b64eba3",
              "IPY_MODEL_48fa942dde3f47a88adfc7314551b7e8"
            ],
            "layout": "IPY_MODEL_7c08051e387847539e8f09c8ba638748"
          }
        },
        "d971be05d71a421db90e529227d0acce": {
          "model_module": "@jupyter-widgets/controls",
          "model_name": "HTMLModel",
          "model_module_version": "1.5.0",
          "state": {
            "_dom_classes": [],
            "_model_module": "@jupyter-widgets/controls",
            "_model_module_version": "1.5.0",
            "_model_name": "HTMLModel",
            "_view_count": null,
            "_view_module": "@jupyter-widgets/controls",
            "_view_module_version": "1.5.0",
            "_view_name": "HTMLView",
            "description": "",
            "description_tooltip": null,
            "layout": "IPY_MODEL_56f761a949204fed8c0d0f97e2282876",
            "placeholder": "​",
            "style": "IPY_MODEL_54840f91182c4f9998efc1d8ffa43cc8",
            "value": "Evaluating: 100%"
          }
        },
        "be779440abac4599989467690b64eba3": {
          "model_module": "@jupyter-widgets/controls",
          "model_name": "FloatProgressModel",
          "model_module_version": "1.5.0",
          "state": {
            "_dom_classes": [],
            "_model_module": "@jupyter-widgets/controls",
            "_model_module_version": "1.5.0",
            "_model_name": "FloatProgressModel",
            "_view_count": null,
            "_view_module": "@jupyter-widgets/controls",
            "_view_module_version": "1.5.0",
            "_view_name": "ProgressView",
            "bar_style": "success",
            "description": "",
            "description_tooltip": null,
            "layout": "IPY_MODEL_733d4b3920b241da98f7df04f49eb8a2",
            "max": 30,
            "min": 0,
            "orientation": "horizontal",
            "style": "IPY_MODEL_2ddfab2b0bb84a87b556c755cb0cfd9b",
            "value": 30
          }
        },
        "48fa942dde3f47a88adfc7314551b7e8": {
          "model_module": "@jupyter-widgets/controls",
          "model_name": "HTMLModel",
          "model_module_version": "1.5.0",
          "state": {
            "_dom_classes": [],
            "_model_module": "@jupyter-widgets/controls",
            "_model_module_version": "1.5.0",
            "_model_name": "HTMLModel",
            "_view_count": null,
            "_view_module": "@jupyter-widgets/controls",
            "_view_module_version": "1.5.0",
            "_view_name": "HTMLView",
            "description": "",
            "description_tooltip": null,
            "layout": "IPY_MODEL_0f4728f6ab244f0286d060c9a210b705",
            "placeholder": "​",
            "style": "IPY_MODEL_2719372de11b43c4ad290e3930097007",
            "value": " 30/30 [00:09&lt;00:00,  3.78it/s]"
          }
        },
        "7c08051e387847539e8f09c8ba638748": {
          "model_module": "@jupyter-widgets/base",
          "model_name": "LayoutModel",
          "model_module_version": "1.2.0",
          "state": {
            "_model_module": "@jupyter-widgets/base",
            "_model_module_version": "1.2.0",
            "_model_name": "LayoutModel",
            "_view_count": null,
            "_view_module": "@jupyter-widgets/base",
            "_view_module_version": "1.2.0",
            "_view_name": "LayoutView",
            "align_content": null,
            "align_items": null,
            "align_self": null,
            "border": null,
            "bottom": null,
            "display": null,
            "flex": null,
            "flex_flow": null,
            "grid_area": null,
            "grid_auto_columns": null,
            "grid_auto_flow": null,
            "grid_auto_rows": null,
            "grid_column": null,
            "grid_gap": null,
            "grid_row": null,
            "grid_template_areas": null,
            "grid_template_columns": null,
            "grid_template_rows": null,
            "height": null,
            "justify_content": null,
            "justify_items": null,
            "left": null,
            "margin": null,
            "max_height": null,
            "max_width": null,
            "min_height": null,
            "min_width": null,
            "object_fit": null,
            "object_position": null,
            "order": null,
            "overflow": null,
            "overflow_x": null,
            "overflow_y": null,
            "padding": null,
            "right": null,
            "top": null,
            "visibility": null,
            "width": null
          }
        },
        "56f761a949204fed8c0d0f97e2282876": {
          "model_module": "@jupyter-widgets/base",
          "model_name": "LayoutModel",
          "model_module_version": "1.2.0",
          "state": {
            "_model_module": "@jupyter-widgets/base",
            "_model_module_version": "1.2.0",
            "_model_name": "LayoutModel",
            "_view_count": null,
            "_view_module": "@jupyter-widgets/base",
            "_view_module_version": "1.2.0",
            "_view_name": "LayoutView",
            "align_content": null,
            "align_items": null,
            "align_self": null,
            "border": null,
            "bottom": null,
            "display": null,
            "flex": null,
            "flex_flow": null,
            "grid_area": null,
            "grid_auto_columns": null,
            "grid_auto_flow": null,
            "grid_auto_rows": null,
            "grid_column": null,
            "grid_gap": null,
            "grid_row": null,
            "grid_template_areas": null,
            "grid_template_columns": null,
            "grid_template_rows": null,
            "height": null,
            "justify_content": null,
            "justify_items": null,
            "left": null,
            "margin": null,
            "max_height": null,
            "max_width": null,
            "min_height": null,
            "min_width": null,
            "object_fit": null,
            "object_position": null,
            "order": null,
            "overflow": null,
            "overflow_x": null,
            "overflow_y": null,
            "padding": null,
            "right": null,
            "top": null,
            "visibility": null,
            "width": null
          }
        },
        "54840f91182c4f9998efc1d8ffa43cc8": {
          "model_module": "@jupyter-widgets/controls",
          "model_name": "DescriptionStyleModel",
          "model_module_version": "1.5.0",
          "state": {
            "_model_module": "@jupyter-widgets/controls",
            "_model_module_version": "1.5.0",
            "_model_name": "DescriptionStyleModel",
            "_view_count": null,
            "_view_module": "@jupyter-widgets/base",
            "_view_module_version": "1.2.0",
            "_view_name": "StyleView",
            "description_width": ""
          }
        },
        "733d4b3920b241da98f7df04f49eb8a2": {
          "model_module": "@jupyter-widgets/base",
          "model_name": "LayoutModel",
          "model_module_version": "1.2.0",
          "state": {
            "_model_module": "@jupyter-widgets/base",
            "_model_module_version": "1.2.0",
            "_model_name": "LayoutModel",
            "_view_count": null,
            "_view_module": "@jupyter-widgets/base",
            "_view_module_version": "1.2.0",
            "_view_name": "LayoutView",
            "align_content": null,
            "align_items": null,
            "align_self": null,
            "border": null,
            "bottom": null,
            "display": null,
            "flex": null,
            "flex_flow": null,
            "grid_area": null,
            "grid_auto_columns": null,
            "grid_auto_flow": null,
            "grid_auto_rows": null,
            "grid_column": null,
            "grid_gap": null,
            "grid_row": null,
            "grid_template_areas": null,
            "grid_template_columns": null,
            "grid_template_rows": null,
            "height": null,
            "justify_content": null,
            "justify_items": null,
            "left": null,
            "margin": null,
            "max_height": null,
            "max_width": null,
            "min_height": null,
            "min_width": null,
            "object_fit": null,
            "object_position": null,
            "order": null,
            "overflow": null,
            "overflow_x": null,
            "overflow_y": null,
            "padding": null,
            "right": null,
            "top": null,
            "visibility": null,
            "width": null
          }
        },
        "2ddfab2b0bb84a87b556c755cb0cfd9b": {
          "model_module": "@jupyter-widgets/controls",
          "model_name": "ProgressStyleModel",
          "model_module_version": "1.5.0",
          "state": {
            "_model_module": "@jupyter-widgets/controls",
            "_model_module_version": "1.5.0",
            "_model_name": "ProgressStyleModel",
            "_view_count": null,
            "_view_module": "@jupyter-widgets/base",
            "_view_module_version": "1.2.0",
            "_view_name": "StyleView",
            "bar_color": null,
            "description_width": ""
          }
        },
        "0f4728f6ab244f0286d060c9a210b705": {
          "model_module": "@jupyter-widgets/base",
          "model_name": "LayoutModel",
          "model_module_version": "1.2.0",
          "state": {
            "_model_module": "@jupyter-widgets/base",
            "_model_module_version": "1.2.0",
            "_model_name": "LayoutModel",
            "_view_count": null,
            "_view_module": "@jupyter-widgets/base",
            "_view_module_version": "1.2.0",
            "_view_name": "LayoutView",
            "align_content": null,
            "align_items": null,
            "align_self": null,
            "border": null,
            "bottom": null,
            "display": null,
            "flex": null,
            "flex_flow": null,
            "grid_area": null,
            "grid_auto_columns": null,
            "grid_auto_flow": null,
            "grid_auto_rows": null,
            "grid_column": null,
            "grid_gap": null,
            "grid_row": null,
            "grid_template_areas": null,
            "grid_template_columns": null,
            "grid_template_rows": null,
            "height": null,
            "justify_content": null,
            "justify_items": null,
            "left": null,
            "margin": null,
            "max_height": null,
            "max_width": null,
            "min_height": null,
            "min_width": null,
            "object_fit": null,
            "object_position": null,
            "order": null,
            "overflow": null,
            "overflow_x": null,
            "overflow_y": null,
            "padding": null,
            "right": null,
            "top": null,
            "visibility": null,
            "width": null
          }
        },
        "2719372de11b43c4ad290e3930097007": {
          "model_module": "@jupyter-widgets/controls",
          "model_name": "DescriptionStyleModel",
          "model_module_version": "1.5.0",
          "state": {
            "_model_module": "@jupyter-widgets/controls",
            "_model_module_version": "1.5.0",
            "_model_name": "DescriptionStyleModel",
            "_view_count": null,
            "_view_module": "@jupyter-widgets/base",
            "_view_module_version": "1.2.0",
            "_view_name": "StyleView",
            "description_width": ""
          }
        },
        "a4302dea116840cdbf8bff7036941a7e": {
          "model_module": "@jupyter-widgets/controls",
          "model_name": "HBoxModel",
          "model_module_version": "1.5.0",
          "state": {
            "_dom_classes": [],
            "_model_module": "@jupyter-widgets/controls",
            "_model_module_version": "1.5.0",
            "_model_name": "HBoxModel",
            "_view_count": null,
            "_view_module": "@jupyter-widgets/controls",
            "_view_module_version": "1.5.0",
            "_view_name": "HBoxView",
            "box_style": "",
            "children": [
              "IPY_MODEL_8b680785f92448d19aae518a1c25a5bc",
              "IPY_MODEL_8d04dc3111cd498fa8d8a695a97e0403",
              "IPY_MODEL_36eae9d5bed6409ea239322c6c27af93"
            ],
            "layout": "IPY_MODEL_c8d49873c8ad41f1973d5fe41c04137c"
          }
        },
        "8b680785f92448d19aae518a1c25a5bc": {
          "model_module": "@jupyter-widgets/controls",
          "model_name": "HTMLModel",
          "model_module_version": "1.5.0",
          "state": {
            "_dom_classes": [],
            "_model_module": "@jupyter-widgets/controls",
            "_model_module_version": "1.5.0",
            "_model_name": "HTMLModel",
            "_view_count": null,
            "_view_module": "@jupyter-widgets/controls",
            "_view_module_version": "1.5.0",
            "_view_name": "HTMLView",
            "description": "",
            "description_tooltip": null,
            "layout": "IPY_MODEL_800fe1dce8f84fcfa5b9d19d38ab39cd",
            "placeholder": "​",
            "style": "IPY_MODEL_2468a2e7fffc45ac938ee3600e61ffaa",
            "value": "Evaluating: 100%"
          }
        },
        "8d04dc3111cd498fa8d8a695a97e0403": {
          "model_module": "@jupyter-widgets/controls",
          "model_name": "FloatProgressModel",
          "model_module_version": "1.5.0",
          "state": {
            "_dom_classes": [],
            "_model_module": "@jupyter-widgets/controls",
            "_model_module_version": "1.5.0",
            "_model_name": "FloatProgressModel",
            "_view_count": null,
            "_view_module": "@jupyter-widgets/controls",
            "_view_module_version": "1.5.0",
            "_view_name": "ProgressView",
            "bar_style": "success",
            "description": "",
            "description_tooltip": null,
            "layout": "IPY_MODEL_4325694c6ec84b48af4d0779a3444206",
            "max": 30,
            "min": 0,
            "orientation": "horizontal",
            "style": "IPY_MODEL_7d187e85ba8347bba95c2a03a7892ac3",
            "value": 30
          }
        },
        "36eae9d5bed6409ea239322c6c27af93": {
          "model_module": "@jupyter-widgets/controls",
          "model_name": "HTMLModel",
          "model_module_version": "1.5.0",
          "state": {
            "_dom_classes": [],
            "_model_module": "@jupyter-widgets/controls",
            "_model_module_version": "1.5.0",
            "_model_name": "HTMLModel",
            "_view_count": null,
            "_view_module": "@jupyter-widgets/controls",
            "_view_module_version": "1.5.0",
            "_view_name": "HTMLView",
            "description": "",
            "description_tooltip": null,
            "layout": "IPY_MODEL_c6de6371e244427ba814c5e419beac5d",
            "placeholder": "​",
            "style": "IPY_MODEL_40642c36c63d4263ac2552790ed84e8f",
            "value": " 30/30 [00:12&lt;00:00,  1.85it/s]"
          }
        },
        "c8d49873c8ad41f1973d5fe41c04137c": {
          "model_module": "@jupyter-widgets/base",
          "model_name": "LayoutModel",
          "model_module_version": "1.2.0",
          "state": {
            "_model_module": "@jupyter-widgets/base",
            "_model_module_version": "1.2.0",
            "_model_name": "LayoutModel",
            "_view_count": null,
            "_view_module": "@jupyter-widgets/base",
            "_view_module_version": "1.2.0",
            "_view_name": "LayoutView",
            "align_content": null,
            "align_items": null,
            "align_self": null,
            "border": null,
            "bottom": null,
            "display": null,
            "flex": null,
            "flex_flow": null,
            "grid_area": null,
            "grid_auto_columns": null,
            "grid_auto_flow": null,
            "grid_auto_rows": null,
            "grid_column": null,
            "grid_gap": null,
            "grid_row": null,
            "grid_template_areas": null,
            "grid_template_columns": null,
            "grid_template_rows": null,
            "height": null,
            "justify_content": null,
            "justify_items": null,
            "left": null,
            "margin": null,
            "max_height": null,
            "max_width": null,
            "min_height": null,
            "min_width": null,
            "object_fit": null,
            "object_position": null,
            "order": null,
            "overflow": null,
            "overflow_x": null,
            "overflow_y": null,
            "padding": null,
            "right": null,
            "top": null,
            "visibility": null,
            "width": null
          }
        },
        "800fe1dce8f84fcfa5b9d19d38ab39cd": {
          "model_module": "@jupyter-widgets/base",
          "model_name": "LayoutModel",
          "model_module_version": "1.2.0",
          "state": {
            "_model_module": "@jupyter-widgets/base",
            "_model_module_version": "1.2.0",
            "_model_name": "LayoutModel",
            "_view_count": null,
            "_view_module": "@jupyter-widgets/base",
            "_view_module_version": "1.2.0",
            "_view_name": "LayoutView",
            "align_content": null,
            "align_items": null,
            "align_self": null,
            "border": null,
            "bottom": null,
            "display": null,
            "flex": null,
            "flex_flow": null,
            "grid_area": null,
            "grid_auto_columns": null,
            "grid_auto_flow": null,
            "grid_auto_rows": null,
            "grid_column": null,
            "grid_gap": null,
            "grid_row": null,
            "grid_template_areas": null,
            "grid_template_columns": null,
            "grid_template_rows": null,
            "height": null,
            "justify_content": null,
            "justify_items": null,
            "left": null,
            "margin": null,
            "max_height": null,
            "max_width": null,
            "min_height": null,
            "min_width": null,
            "object_fit": null,
            "object_position": null,
            "order": null,
            "overflow": null,
            "overflow_x": null,
            "overflow_y": null,
            "padding": null,
            "right": null,
            "top": null,
            "visibility": null,
            "width": null
          }
        },
        "2468a2e7fffc45ac938ee3600e61ffaa": {
          "model_module": "@jupyter-widgets/controls",
          "model_name": "DescriptionStyleModel",
          "model_module_version": "1.5.0",
          "state": {
            "_model_module": "@jupyter-widgets/controls",
            "_model_module_version": "1.5.0",
            "_model_name": "DescriptionStyleModel",
            "_view_count": null,
            "_view_module": "@jupyter-widgets/base",
            "_view_module_version": "1.2.0",
            "_view_name": "StyleView",
            "description_width": ""
          }
        },
        "4325694c6ec84b48af4d0779a3444206": {
          "model_module": "@jupyter-widgets/base",
          "model_name": "LayoutModel",
          "model_module_version": "1.2.0",
          "state": {
            "_model_module": "@jupyter-widgets/base",
            "_model_module_version": "1.2.0",
            "_model_name": "LayoutModel",
            "_view_count": null,
            "_view_module": "@jupyter-widgets/base",
            "_view_module_version": "1.2.0",
            "_view_name": "LayoutView",
            "align_content": null,
            "align_items": null,
            "align_self": null,
            "border": null,
            "bottom": null,
            "display": null,
            "flex": null,
            "flex_flow": null,
            "grid_area": null,
            "grid_auto_columns": null,
            "grid_auto_flow": null,
            "grid_auto_rows": null,
            "grid_column": null,
            "grid_gap": null,
            "grid_row": null,
            "grid_template_areas": null,
            "grid_template_columns": null,
            "grid_template_rows": null,
            "height": null,
            "justify_content": null,
            "justify_items": null,
            "left": null,
            "margin": null,
            "max_height": null,
            "max_width": null,
            "min_height": null,
            "min_width": null,
            "object_fit": null,
            "object_position": null,
            "order": null,
            "overflow": null,
            "overflow_x": null,
            "overflow_y": null,
            "padding": null,
            "right": null,
            "top": null,
            "visibility": null,
            "width": null
          }
        },
        "7d187e85ba8347bba95c2a03a7892ac3": {
          "model_module": "@jupyter-widgets/controls",
          "model_name": "ProgressStyleModel",
          "model_module_version": "1.5.0",
          "state": {
            "_model_module": "@jupyter-widgets/controls",
            "_model_module_version": "1.5.0",
            "_model_name": "ProgressStyleModel",
            "_view_count": null,
            "_view_module": "@jupyter-widgets/base",
            "_view_module_version": "1.2.0",
            "_view_name": "StyleView",
            "bar_color": null,
            "description_width": ""
          }
        },
        "c6de6371e244427ba814c5e419beac5d": {
          "model_module": "@jupyter-widgets/base",
          "model_name": "LayoutModel",
          "model_module_version": "1.2.0",
          "state": {
            "_model_module": "@jupyter-widgets/base",
            "_model_module_version": "1.2.0",
            "_model_name": "LayoutModel",
            "_view_count": null,
            "_view_module": "@jupyter-widgets/base",
            "_view_module_version": "1.2.0",
            "_view_name": "LayoutView",
            "align_content": null,
            "align_items": null,
            "align_self": null,
            "border": null,
            "bottom": null,
            "display": null,
            "flex": null,
            "flex_flow": null,
            "grid_area": null,
            "grid_auto_columns": null,
            "grid_auto_flow": null,
            "grid_auto_rows": null,
            "grid_column": null,
            "grid_gap": null,
            "grid_row": null,
            "grid_template_areas": null,
            "grid_template_columns": null,
            "grid_template_rows": null,
            "height": null,
            "justify_content": null,
            "justify_items": null,
            "left": null,
            "margin": null,
            "max_height": null,
            "max_width": null,
            "min_height": null,
            "min_width": null,
            "object_fit": null,
            "object_position": null,
            "order": null,
            "overflow": null,
            "overflow_x": null,
            "overflow_y": null,
            "padding": null,
            "right": null,
            "top": null,
            "visibility": null,
            "width": null
          }
        },
        "40642c36c63d4263ac2552790ed84e8f": {
          "model_module": "@jupyter-widgets/controls",
          "model_name": "DescriptionStyleModel",
          "model_module_version": "1.5.0",
          "state": {
            "_model_module": "@jupyter-widgets/controls",
            "_model_module_version": "1.5.0",
            "_model_name": "DescriptionStyleModel",
            "_view_count": null,
            "_view_module": "@jupyter-widgets/base",
            "_view_module_version": "1.2.0",
            "_view_name": "StyleView",
            "description_width": ""
          }
        },
        "1623d07812de4fda9ff4e960d0658587": {
          "model_module": "@jupyter-widgets/controls",
          "model_name": "HBoxModel",
          "model_module_version": "1.5.0",
          "state": {
            "_dom_classes": [],
            "_model_module": "@jupyter-widgets/controls",
            "_model_module_version": "1.5.0",
            "_model_name": "HBoxModel",
            "_view_count": null,
            "_view_module": "@jupyter-widgets/controls",
            "_view_module_version": "1.5.0",
            "_view_name": "HBoxView",
            "box_style": "",
            "children": [
              "IPY_MODEL_0bb3cb7fb28e4d29b4c9ffb687cdeb4a",
              "IPY_MODEL_0eb3b9c657794253a1c5d6dc2070a6d4",
              "IPY_MODEL_78b045a1ba5d4f5c9ce15284068552e4"
            ],
            "layout": "IPY_MODEL_aa01c55f754347b28bfa36b82d09d958"
          }
        },
        "0bb3cb7fb28e4d29b4c9ffb687cdeb4a": {
          "model_module": "@jupyter-widgets/controls",
          "model_name": "HTMLModel",
          "model_module_version": "1.5.0",
          "state": {
            "_dom_classes": [],
            "_model_module": "@jupyter-widgets/controls",
            "_model_module_version": "1.5.0",
            "_model_name": "HTMLModel",
            "_view_count": null,
            "_view_module": "@jupyter-widgets/controls",
            "_view_module_version": "1.5.0",
            "_view_name": "HTMLView",
            "description": "",
            "description_tooltip": null,
            "layout": "IPY_MODEL_8949ad3add0246f1954363e0c5c581cd",
            "placeholder": "​",
            "style": "IPY_MODEL_5f52c1d531824ebeb256e75dc76f22a4",
            "value": "Evaluating: 100%"
          }
        },
        "0eb3b9c657794253a1c5d6dc2070a6d4": {
          "model_module": "@jupyter-widgets/controls",
          "model_name": "FloatProgressModel",
          "model_module_version": "1.5.0",
          "state": {
            "_dom_classes": [],
            "_model_module": "@jupyter-widgets/controls",
            "_model_module_version": "1.5.0",
            "_model_name": "FloatProgressModel",
            "_view_count": null,
            "_view_module": "@jupyter-widgets/controls",
            "_view_module_version": "1.5.0",
            "_view_name": "ProgressView",
            "bar_style": "success",
            "description": "",
            "description_tooltip": null,
            "layout": "IPY_MODEL_ad69858cd6154563a4f0a9429ddb8c07",
            "max": 30,
            "min": 0,
            "orientation": "horizontal",
            "style": "IPY_MODEL_f9d8f3eb8d6749e18399f00fe250f028",
            "value": 30
          }
        },
        "78b045a1ba5d4f5c9ce15284068552e4": {
          "model_module": "@jupyter-widgets/controls",
          "model_name": "HTMLModel",
          "model_module_version": "1.5.0",
          "state": {
            "_dom_classes": [],
            "_model_module": "@jupyter-widgets/controls",
            "_model_module_version": "1.5.0",
            "_model_name": "HTMLModel",
            "_view_count": null,
            "_view_module": "@jupyter-widgets/controls",
            "_view_module_version": "1.5.0",
            "_view_name": "HTMLView",
            "description": "",
            "description_tooltip": null,
            "layout": "IPY_MODEL_b15dd92f456a4bd092bdbb612808fb58",
            "placeholder": "​",
            "style": "IPY_MODEL_4796640829a6483daaacd1e41b7719fc",
            "value": " 30/30 [00:13&lt;00:00,  3.42it/s]"
          }
        },
        "aa01c55f754347b28bfa36b82d09d958": {
          "model_module": "@jupyter-widgets/base",
          "model_name": "LayoutModel",
          "model_module_version": "1.2.0",
          "state": {
            "_model_module": "@jupyter-widgets/base",
            "_model_module_version": "1.2.0",
            "_model_name": "LayoutModel",
            "_view_count": null,
            "_view_module": "@jupyter-widgets/base",
            "_view_module_version": "1.2.0",
            "_view_name": "LayoutView",
            "align_content": null,
            "align_items": null,
            "align_self": null,
            "border": null,
            "bottom": null,
            "display": null,
            "flex": null,
            "flex_flow": null,
            "grid_area": null,
            "grid_auto_columns": null,
            "grid_auto_flow": null,
            "grid_auto_rows": null,
            "grid_column": null,
            "grid_gap": null,
            "grid_row": null,
            "grid_template_areas": null,
            "grid_template_columns": null,
            "grid_template_rows": null,
            "height": null,
            "justify_content": null,
            "justify_items": null,
            "left": null,
            "margin": null,
            "max_height": null,
            "max_width": null,
            "min_height": null,
            "min_width": null,
            "object_fit": null,
            "object_position": null,
            "order": null,
            "overflow": null,
            "overflow_x": null,
            "overflow_y": null,
            "padding": null,
            "right": null,
            "top": null,
            "visibility": null,
            "width": null
          }
        },
        "8949ad3add0246f1954363e0c5c581cd": {
          "model_module": "@jupyter-widgets/base",
          "model_name": "LayoutModel",
          "model_module_version": "1.2.0",
          "state": {
            "_model_module": "@jupyter-widgets/base",
            "_model_module_version": "1.2.0",
            "_model_name": "LayoutModel",
            "_view_count": null,
            "_view_module": "@jupyter-widgets/base",
            "_view_module_version": "1.2.0",
            "_view_name": "LayoutView",
            "align_content": null,
            "align_items": null,
            "align_self": null,
            "border": null,
            "bottom": null,
            "display": null,
            "flex": null,
            "flex_flow": null,
            "grid_area": null,
            "grid_auto_columns": null,
            "grid_auto_flow": null,
            "grid_auto_rows": null,
            "grid_column": null,
            "grid_gap": null,
            "grid_row": null,
            "grid_template_areas": null,
            "grid_template_columns": null,
            "grid_template_rows": null,
            "height": null,
            "justify_content": null,
            "justify_items": null,
            "left": null,
            "margin": null,
            "max_height": null,
            "max_width": null,
            "min_height": null,
            "min_width": null,
            "object_fit": null,
            "object_position": null,
            "order": null,
            "overflow": null,
            "overflow_x": null,
            "overflow_y": null,
            "padding": null,
            "right": null,
            "top": null,
            "visibility": null,
            "width": null
          }
        },
        "5f52c1d531824ebeb256e75dc76f22a4": {
          "model_module": "@jupyter-widgets/controls",
          "model_name": "DescriptionStyleModel",
          "model_module_version": "1.5.0",
          "state": {
            "_model_module": "@jupyter-widgets/controls",
            "_model_module_version": "1.5.0",
            "_model_name": "DescriptionStyleModel",
            "_view_count": null,
            "_view_module": "@jupyter-widgets/base",
            "_view_module_version": "1.2.0",
            "_view_name": "StyleView",
            "description_width": ""
          }
        },
        "ad69858cd6154563a4f0a9429ddb8c07": {
          "model_module": "@jupyter-widgets/base",
          "model_name": "LayoutModel",
          "model_module_version": "1.2.0",
          "state": {
            "_model_module": "@jupyter-widgets/base",
            "_model_module_version": "1.2.0",
            "_model_name": "LayoutModel",
            "_view_count": null,
            "_view_module": "@jupyter-widgets/base",
            "_view_module_version": "1.2.0",
            "_view_name": "LayoutView",
            "align_content": null,
            "align_items": null,
            "align_self": null,
            "border": null,
            "bottom": null,
            "display": null,
            "flex": null,
            "flex_flow": null,
            "grid_area": null,
            "grid_auto_columns": null,
            "grid_auto_flow": null,
            "grid_auto_rows": null,
            "grid_column": null,
            "grid_gap": null,
            "grid_row": null,
            "grid_template_areas": null,
            "grid_template_columns": null,
            "grid_template_rows": null,
            "height": null,
            "justify_content": null,
            "justify_items": null,
            "left": null,
            "margin": null,
            "max_height": null,
            "max_width": null,
            "min_height": null,
            "min_width": null,
            "object_fit": null,
            "object_position": null,
            "order": null,
            "overflow": null,
            "overflow_x": null,
            "overflow_y": null,
            "padding": null,
            "right": null,
            "top": null,
            "visibility": null,
            "width": null
          }
        },
        "f9d8f3eb8d6749e18399f00fe250f028": {
          "model_module": "@jupyter-widgets/controls",
          "model_name": "ProgressStyleModel",
          "model_module_version": "1.5.0",
          "state": {
            "_model_module": "@jupyter-widgets/controls",
            "_model_module_version": "1.5.0",
            "_model_name": "ProgressStyleModel",
            "_view_count": null,
            "_view_module": "@jupyter-widgets/base",
            "_view_module_version": "1.2.0",
            "_view_name": "StyleView",
            "bar_color": null,
            "description_width": ""
          }
        },
        "b15dd92f456a4bd092bdbb612808fb58": {
          "model_module": "@jupyter-widgets/base",
          "model_name": "LayoutModel",
          "model_module_version": "1.2.0",
          "state": {
            "_model_module": "@jupyter-widgets/base",
            "_model_module_version": "1.2.0",
            "_model_name": "LayoutModel",
            "_view_count": null,
            "_view_module": "@jupyter-widgets/base",
            "_view_module_version": "1.2.0",
            "_view_name": "LayoutView",
            "align_content": null,
            "align_items": null,
            "align_self": null,
            "border": null,
            "bottom": null,
            "display": null,
            "flex": null,
            "flex_flow": null,
            "grid_area": null,
            "grid_auto_columns": null,
            "grid_auto_flow": null,
            "grid_auto_rows": null,
            "grid_column": null,
            "grid_gap": null,
            "grid_row": null,
            "grid_template_areas": null,
            "grid_template_columns": null,
            "grid_template_rows": null,
            "height": null,
            "justify_content": null,
            "justify_items": null,
            "left": null,
            "margin": null,
            "max_height": null,
            "max_width": null,
            "min_height": null,
            "min_width": null,
            "object_fit": null,
            "object_position": null,
            "order": null,
            "overflow": null,
            "overflow_x": null,
            "overflow_y": null,
            "padding": null,
            "right": null,
            "top": null,
            "visibility": null,
            "width": null
          }
        },
        "4796640829a6483daaacd1e41b7719fc": {
          "model_module": "@jupyter-widgets/controls",
          "model_name": "DescriptionStyleModel",
          "model_module_version": "1.5.0",
          "state": {
            "_model_module": "@jupyter-widgets/controls",
            "_model_module_version": "1.5.0",
            "_model_name": "DescriptionStyleModel",
            "_view_count": null,
            "_view_module": "@jupyter-widgets/base",
            "_view_module_version": "1.2.0",
            "_view_name": "StyleView",
            "description_width": ""
          }
        },
        "a69b5ec3a991474a9897f6bd45509296": {
          "model_module": "@jupyter-widgets/controls",
          "model_name": "HBoxModel",
          "model_module_version": "1.5.0",
          "state": {
            "_dom_classes": [],
            "_model_module": "@jupyter-widgets/controls",
            "_model_module_version": "1.5.0",
            "_model_name": "HBoxModel",
            "_view_count": null,
            "_view_module": "@jupyter-widgets/controls",
            "_view_module_version": "1.5.0",
            "_view_name": "HBoxView",
            "box_style": "",
            "children": [
              "IPY_MODEL_5ac48fcd90424f5786fcaacc78112b80",
              "IPY_MODEL_18cfc159dc8a4c4a85f9cc1840956d02",
              "IPY_MODEL_3879b4b671a246b8ba42b149135ca357"
            ],
            "layout": "IPY_MODEL_dfcf983d1cab4746965c87707eee748f"
          }
        },
        "5ac48fcd90424f5786fcaacc78112b80": {
          "model_module": "@jupyter-widgets/controls",
          "model_name": "HTMLModel",
          "model_module_version": "1.5.0",
          "state": {
            "_dom_classes": [],
            "_model_module": "@jupyter-widgets/controls",
            "_model_module_version": "1.5.0",
            "_model_name": "HTMLModel",
            "_view_count": null,
            "_view_module": "@jupyter-widgets/controls",
            "_view_module_version": "1.5.0",
            "_view_name": "HTMLView",
            "description": "",
            "description_tooltip": null,
            "layout": "IPY_MODEL_197f99f268b44ad8805ed7fbd187e66e",
            "placeholder": "​",
            "style": "IPY_MODEL_8ffdb1b15b524d1d8438056491e70869",
            "value": "Evaluating: 100%"
          }
        },
        "18cfc159dc8a4c4a85f9cc1840956d02": {
          "model_module": "@jupyter-widgets/controls",
          "model_name": "FloatProgressModel",
          "model_module_version": "1.5.0",
          "state": {
            "_dom_classes": [],
            "_model_module": "@jupyter-widgets/controls",
            "_model_module_version": "1.5.0",
            "_model_name": "FloatProgressModel",
            "_view_count": null,
            "_view_module": "@jupyter-widgets/controls",
            "_view_module_version": "1.5.0",
            "_view_name": "ProgressView",
            "bar_style": "success",
            "description": "",
            "description_tooltip": null,
            "layout": "IPY_MODEL_6a48c919da6b40ec82a4d9f6eaf40abb",
            "max": 30,
            "min": 0,
            "orientation": "horizontal",
            "style": "IPY_MODEL_c8f344ee04514146ac82c31a4f90b05a",
            "value": 30
          }
        },
        "3879b4b671a246b8ba42b149135ca357": {
          "model_module": "@jupyter-widgets/controls",
          "model_name": "HTMLModel",
          "model_module_version": "1.5.0",
          "state": {
            "_dom_classes": [],
            "_model_module": "@jupyter-widgets/controls",
            "_model_module_version": "1.5.0",
            "_model_name": "HTMLModel",
            "_view_count": null,
            "_view_module": "@jupyter-widgets/controls",
            "_view_module_version": "1.5.0",
            "_view_name": "HTMLView",
            "description": "",
            "description_tooltip": null,
            "layout": "IPY_MODEL_b541b77ebe57414f8c1d465c1a3126d6",
            "placeholder": "​",
            "style": "IPY_MODEL_c77ac2cc9f1a4a20ac6bd46471e40631",
            "value": " 30/30 [00:35&lt;00:00,  2.42s/it]"
          }
        },
        "dfcf983d1cab4746965c87707eee748f": {
          "model_module": "@jupyter-widgets/base",
          "model_name": "LayoutModel",
          "model_module_version": "1.2.0",
          "state": {
            "_model_module": "@jupyter-widgets/base",
            "_model_module_version": "1.2.0",
            "_model_name": "LayoutModel",
            "_view_count": null,
            "_view_module": "@jupyter-widgets/base",
            "_view_module_version": "1.2.0",
            "_view_name": "LayoutView",
            "align_content": null,
            "align_items": null,
            "align_self": null,
            "border": null,
            "bottom": null,
            "display": null,
            "flex": null,
            "flex_flow": null,
            "grid_area": null,
            "grid_auto_columns": null,
            "grid_auto_flow": null,
            "grid_auto_rows": null,
            "grid_column": null,
            "grid_gap": null,
            "grid_row": null,
            "grid_template_areas": null,
            "grid_template_columns": null,
            "grid_template_rows": null,
            "height": null,
            "justify_content": null,
            "justify_items": null,
            "left": null,
            "margin": null,
            "max_height": null,
            "max_width": null,
            "min_height": null,
            "min_width": null,
            "object_fit": null,
            "object_position": null,
            "order": null,
            "overflow": null,
            "overflow_x": null,
            "overflow_y": null,
            "padding": null,
            "right": null,
            "top": null,
            "visibility": null,
            "width": null
          }
        },
        "197f99f268b44ad8805ed7fbd187e66e": {
          "model_module": "@jupyter-widgets/base",
          "model_name": "LayoutModel",
          "model_module_version": "1.2.0",
          "state": {
            "_model_module": "@jupyter-widgets/base",
            "_model_module_version": "1.2.0",
            "_model_name": "LayoutModel",
            "_view_count": null,
            "_view_module": "@jupyter-widgets/base",
            "_view_module_version": "1.2.0",
            "_view_name": "LayoutView",
            "align_content": null,
            "align_items": null,
            "align_self": null,
            "border": null,
            "bottom": null,
            "display": null,
            "flex": null,
            "flex_flow": null,
            "grid_area": null,
            "grid_auto_columns": null,
            "grid_auto_flow": null,
            "grid_auto_rows": null,
            "grid_column": null,
            "grid_gap": null,
            "grid_row": null,
            "grid_template_areas": null,
            "grid_template_columns": null,
            "grid_template_rows": null,
            "height": null,
            "justify_content": null,
            "justify_items": null,
            "left": null,
            "margin": null,
            "max_height": null,
            "max_width": null,
            "min_height": null,
            "min_width": null,
            "object_fit": null,
            "object_position": null,
            "order": null,
            "overflow": null,
            "overflow_x": null,
            "overflow_y": null,
            "padding": null,
            "right": null,
            "top": null,
            "visibility": null,
            "width": null
          }
        },
        "8ffdb1b15b524d1d8438056491e70869": {
          "model_module": "@jupyter-widgets/controls",
          "model_name": "DescriptionStyleModel",
          "model_module_version": "1.5.0",
          "state": {
            "_model_module": "@jupyter-widgets/controls",
            "_model_module_version": "1.5.0",
            "_model_name": "DescriptionStyleModel",
            "_view_count": null,
            "_view_module": "@jupyter-widgets/base",
            "_view_module_version": "1.2.0",
            "_view_name": "StyleView",
            "description_width": ""
          }
        },
        "6a48c919da6b40ec82a4d9f6eaf40abb": {
          "model_module": "@jupyter-widgets/base",
          "model_name": "LayoutModel",
          "model_module_version": "1.2.0",
          "state": {
            "_model_module": "@jupyter-widgets/base",
            "_model_module_version": "1.2.0",
            "_model_name": "LayoutModel",
            "_view_count": null,
            "_view_module": "@jupyter-widgets/base",
            "_view_module_version": "1.2.0",
            "_view_name": "LayoutView",
            "align_content": null,
            "align_items": null,
            "align_self": null,
            "border": null,
            "bottom": null,
            "display": null,
            "flex": null,
            "flex_flow": null,
            "grid_area": null,
            "grid_auto_columns": null,
            "grid_auto_flow": null,
            "grid_auto_rows": null,
            "grid_column": null,
            "grid_gap": null,
            "grid_row": null,
            "grid_template_areas": null,
            "grid_template_columns": null,
            "grid_template_rows": null,
            "height": null,
            "justify_content": null,
            "justify_items": null,
            "left": null,
            "margin": null,
            "max_height": null,
            "max_width": null,
            "min_height": null,
            "min_width": null,
            "object_fit": null,
            "object_position": null,
            "order": null,
            "overflow": null,
            "overflow_x": null,
            "overflow_y": null,
            "padding": null,
            "right": null,
            "top": null,
            "visibility": null,
            "width": null
          }
        },
        "c8f344ee04514146ac82c31a4f90b05a": {
          "model_module": "@jupyter-widgets/controls",
          "model_name": "ProgressStyleModel",
          "model_module_version": "1.5.0",
          "state": {
            "_model_module": "@jupyter-widgets/controls",
            "_model_module_version": "1.5.0",
            "_model_name": "ProgressStyleModel",
            "_view_count": null,
            "_view_module": "@jupyter-widgets/base",
            "_view_module_version": "1.2.0",
            "_view_name": "StyleView",
            "bar_color": null,
            "description_width": ""
          }
        },
        "b541b77ebe57414f8c1d465c1a3126d6": {
          "model_module": "@jupyter-widgets/base",
          "model_name": "LayoutModel",
          "model_module_version": "1.2.0",
          "state": {
            "_model_module": "@jupyter-widgets/base",
            "_model_module_version": "1.2.0",
            "_model_name": "LayoutModel",
            "_view_count": null,
            "_view_module": "@jupyter-widgets/base",
            "_view_module_version": "1.2.0",
            "_view_name": "LayoutView",
            "align_content": null,
            "align_items": null,
            "align_self": null,
            "border": null,
            "bottom": null,
            "display": null,
            "flex": null,
            "flex_flow": null,
            "grid_area": null,
            "grid_auto_columns": null,
            "grid_auto_flow": null,
            "grid_auto_rows": null,
            "grid_column": null,
            "grid_gap": null,
            "grid_row": null,
            "grid_template_areas": null,
            "grid_template_columns": null,
            "grid_template_rows": null,
            "height": null,
            "justify_content": null,
            "justify_items": null,
            "left": null,
            "margin": null,
            "max_height": null,
            "max_width": null,
            "min_height": null,
            "min_width": null,
            "object_fit": null,
            "object_position": null,
            "order": null,
            "overflow": null,
            "overflow_x": null,
            "overflow_y": null,
            "padding": null,
            "right": null,
            "top": null,
            "visibility": null,
            "width": null
          }
        },
        "c77ac2cc9f1a4a20ac6bd46471e40631": {
          "model_module": "@jupyter-widgets/controls",
          "model_name": "DescriptionStyleModel",
          "model_module_version": "1.5.0",
          "state": {
            "_model_module": "@jupyter-widgets/controls",
            "_model_module_version": "1.5.0",
            "_model_name": "DescriptionStyleModel",
            "_view_count": null,
            "_view_module": "@jupyter-widgets/base",
            "_view_module_version": "1.2.0",
            "_view_name": "StyleView",
            "description_width": ""
          }
        },
        "c524f28f5b9c4cafa16fe6a0d864c2d1": {
          "model_module": "@jupyter-widgets/controls",
          "model_name": "HBoxModel",
          "model_module_version": "1.5.0",
          "state": {
            "_dom_classes": [],
            "_model_module": "@jupyter-widgets/controls",
            "_model_module_version": "1.5.0",
            "_model_name": "HBoxModel",
            "_view_count": null,
            "_view_module": "@jupyter-widgets/controls",
            "_view_module_version": "1.5.0",
            "_view_name": "HBoxView",
            "box_style": "",
            "children": [
              "IPY_MODEL_6fe494f5008044bab15a736832765728",
              "IPY_MODEL_ab77b4532aa34111bafa12f57b4110dc",
              "IPY_MODEL_9e611d3f650c4845814be8f20ee6e08f"
            ],
            "layout": "IPY_MODEL_39f69f333d464d2fab053a3c7f3434af"
          }
        },
        "6fe494f5008044bab15a736832765728": {
          "model_module": "@jupyter-widgets/controls",
          "model_name": "HTMLModel",
          "model_module_version": "1.5.0",
          "state": {
            "_dom_classes": [],
            "_model_module": "@jupyter-widgets/controls",
            "_model_module_version": "1.5.0",
            "_model_name": "HTMLModel",
            "_view_count": null,
            "_view_module": "@jupyter-widgets/controls",
            "_view_module_version": "1.5.0",
            "_view_name": "HTMLView",
            "description": "",
            "description_tooltip": null,
            "layout": "IPY_MODEL_546bec1c365342a380791017cde8d76a",
            "placeholder": "​",
            "style": "IPY_MODEL_414282e38f044dd88f764d0d542be55e",
            "value": "Evaluating: 100%"
          }
        },
        "ab77b4532aa34111bafa12f57b4110dc": {
          "model_module": "@jupyter-widgets/controls",
          "model_name": "FloatProgressModel",
          "model_module_version": "1.5.0",
          "state": {
            "_dom_classes": [],
            "_model_module": "@jupyter-widgets/controls",
            "_model_module_version": "1.5.0",
            "_model_name": "FloatProgressModel",
            "_view_count": null,
            "_view_module": "@jupyter-widgets/controls",
            "_view_module_version": "1.5.0",
            "_view_name": "ProgressView",
            "bar_style": "success",
            "description": "",
            "description_tooltip": null,
            "layout": "IPY_MODEL_39dd82de8030493ca368c44f5f5adf0e",
            "max": 30,
            "min": 0,
            "orientation": "horizontal",
            "style": "IPY_MODEL_8428796b6bc44b7798a6eeae8b8c9378",
            "value": 30
          }
        },
        "9e611d3f650c4845814be8f20ee6e08f": {
          "model_module": "@jupyter-widgets/controls",
          "model_name": "HTMLModel",
          "model_module_version": "1.5.0",
          "state": {
            "_dom_classes": [],
            "_model_module": "@jupyter-widgets/controls",
            "_model_module_version": "1.5.0",
            "_model_name": "HTMLModel",
            "_view_count": null,
            "_view_module": "@jupyter-widgets/controls",
            "_view_module_version": "1.5.0",
            "_view_name": "HTMLView",
            "description": "",
            "description_tooltip": null,
            "layout": "IPY_MODEL_098b81367e7b4195b3c469632c67f6f6",
            "placeholder": "​",
            "style": "IPY_MODEL_6de29dfb7ec145df92ced4fa640cb163",
            "value": " 30/30 [00:51&lt;00:00,  3.80s/it]"
          }
        },
        "39f69f333d464d2fab053a3c7f3434af": {
          "model_module": "@jupyter-widgets/base",
          "model_name": "LayoutModel",
          "model_module_version": "1.2.0",
          "state": {
            "_model_module": "@jupyter-widgets/base",
            "_model_module_version": "1.2.0",
            "_model_name": "LayoutModel",
            "_view_count": null,
            "_view_module": "@jupyter-widgets/base",
            "_view_module_version": "1.2.0",
            "_view_name": "LayoutView",
            "align_content": null,
            "align_items": null,
            "align_self": null,
            "border": null,
            "bottom": null,
            "display": null,
            "flex": null,
            "flex_flow": null,
            "grid_area": null,
            "grid_auto_columns": null,
            "grid_auto_flow": null,
            "grid_auto_rows": null,
            "grid_column": null,
            "grid_gap": null,
            "grid_row": null,
            "grid_template_areas": null,
            "grid_template_columns": null,
            "grid_template_rows": null,
            "height": null,
            "justify_content": null,
            "justify_items": null,
            "left": null,
            "margin": null,
            "max_height": null,
            "max_width": null,
            "min_height": null,
            "min_width": null,
            "object_fit": null,
            "object_position": null,
            "order": null,
            "overflow": null,
            "overflow_x": null,
            "overflow_y": null,
            "padding": null,
            "right": null,
            "top": null,
            "visibility": null,
            "width": null
          }
        },
        "546bec1c365342a380791017cde8d76a": {
          "model_module": "@jupyter-widgets/base",
          "model_name": "LayoutModel",
          "model_module_version": "1.2.0",
          "state": {
            "_model_module": "@jupyter-widgets/base",
            "_model_module_version": "1.2.0",
            "_model_name": "LayoutModel",
            "_view_count": null,
            "_view_module": "@jupyter-widgets/base",
            "_view_module_version": "1.2.0",
            "_view_name": "LayoutView",
            "align_content": null,
            "align_items": null,
            "align_self": null,
            "border": null,
            "bottom": null,
            "display": null,
            "flex": null,
            "flex_flow": null,
            "grid_area": null,
            "grid_auto_columns": null,
            "grid_auto_flow": null,
            "grid_auto_rows": null,
            "grid_column": null,
            "grid_gap": null,
            "grid_row": null,
            "grid_template_areas": null,
            "grid_template_columns": null,
            "grid_template_rows": null,
            "height": null,
            "justify_content": null,
            "justify_items": null,
            "left": null,
            "margin": null,
            "max_height": null,
            "max_width": null,
            "min_height": null,
            "min_width": null,
            "object_fit": null,
            "object_position": null,
            "order": null,
            "overflow": null,
            "overflow_x": null,
            "overflow_y": null,
            "padding": null,
            "right": null,
            "top": null,
            "visibility": null,
            "width": null
          }
        },
        "414282e38f044dd88f764d0d542be55e": {
          "model_module": "@jupyter-widgets/controls",
          "model_name": "DescriptionStyleModel",
          "model_module_version": "1.5.0",
          "state": {
            "_model_module": "@jupyter-widgets/controls",
            "_model_module_version": "1.5.0",
            "_model_name": "DescriptionStyleModel",
            "_view_count": null,
            "_view_module": "@jupyter-widgets/base",
            "_view_module_version": "1.2.0",
            "_view_name": "StyleView",
            "description_width": ""
          }
        },
        "39dd82de8030493ca368c44f5f5adf0e": {
          "model_module": "@jupyter-widgets/base",
          "model_name": "LayoutModel",
          "model_module_version": "1.2.0",
          "state": {
            "_model_module": "@jupyter-widgets/base",
            "_model_module_version": "1.2.0",
            "_model_name": "LayoutModel",
            "_view_count": null,
            "_view_module": "@jupyter-widgets/base",
            "_view_module_version": "1.2.0",
            "_view_name": "LayoutView",
            "align_content": null,
            "align_items": null,
            "align_self": null,
            "border": null,
            "bottom": null,
            "display": null,
            "flex": null,
            "flex_flow": null,
            "grid_area": null,
            "grid_auto_columns": null,
            "grid_auto_flow": null,
            "grid_auto_rows": null,
            "grid_column": null,
            "grid_gap": null,
            "grid_row": null,
            "grid_template_areas": null,
            "grid_template_columns": null,
            "grid_template_rows": null,
            "height": null,
            "justify_content": null,
            "justify_items": null,
            "left": null,
            "margin": null,
            "max_height": null,
            "max_width": null,
            "min_height": null,
            "min_width": null,
            "object_fit": null,
            "object_position": null,
            "order": null,
            "overflow": null,
            "overflow_x": null,
            "overflow_y": null,
            "padding": null,
            "right": null,
            "top": null,
            "visibility": null,
            "width": null
          }
        },
        "8428796b6bc44b7798a6eeae8b8c9378": {
          "model_module": "@jupyter-widgets/controls",
          "model_name": "ProgressStyleModel",
          "model_module_version": "1.5.0",
          "state": {
            "_model_module": "@jupyter-widgets/controls",
            "_model_module_version": "1.5.0",
            "_model_name": "ProgressStyleModel",
            "_view_count": null,
            "_view_module": "@jupyter-widgets/base",
            "_view_module_version": "1.2.0",
            "_view_name": "StyleView",
            "bar_color": null,
            "description_width": ""
          }
        },
        "098b81367e7b4195b3c469632c67f6f6": {
          "model_module": "@jupyter-widgets/base",
          "model_name": "LayoutModel",
          "model_module_version": "1.2.0",
          "state": {
            "_model_module": "@jupyter-widgets/base",
            "_model_module_version": "1.2.0",
            "_model_name": "LayoutModel",
            "_view_count": null,
            "_view_module": "@jupyter-widgets/base",
            "_view_module_version": "1.2.0",
            "_view_name": "LayoutView",
            "align_content": null,
            "align_items": null,
            "align_self": null,
            "border": null,
            "bottom": null,
            "display": null,
            "flex": null,
            "flex_flow": null,
            "grid_area": null,
            "grid_auto_columns": null,
            "grid_auto_flow": null,
            "grid_auto_rows": null,
            "grid_column": null,
            "grid_gap": null,
            "grid_row": null,
            "grid_template_areas": null,
            "grid_template_columns": null,
            "grid_template_rows": null,
            "height": null,
            "justify_content": null,
            "justify_items": null,
            "left": null,
            "margin": null,
            "max_height": null,
            "max_width": null,
            "min_height": null,
            "min_width": null,
            "object_fit": null,
            "object_position": null,
            "order": null,
            "overflow": null,
            "overflow_x": null,
            "overflow_y": null,
            "padding": null,
            "right": null,
            "top": null,
            "visibility": null,
            "width": null
          }
        },
        "6de29dfb7ec145df92ced4fa640cb163": {
          "model_module": "@jupyter-widgets/controls",
          "model_name": "DescriptionStyleModel",
          "model_module_version": "1.5.0",
          "state": {
            "_model_module": "@jupyter-widgets/controls",
            "_model_module_version": "1.5.0",
            "_model_name": "DescriptionStyleModel",
            "_view_count": null,
            "_view_module": "@jupyter-widgets/base",
            "_view_module_version": "1.2.0",
            "_view_name": "StyleView",
            "description_width": ""
          }
        },
        "8cef841469a947c59e04576017ed036e": {
          "model_module": "@jupyter-widgets/controls",
          "model_name": "HBoxModel",
          "model_module_version": "1.5.0",
          "state": {
            "_dom_classes": [],
            "_model_module": "@jupyter-widgets/controls",
            "_model_module_version": "1.5.0",
            "_model_name": "HBoxModel",
            "_view_count": null,
            "_view_module": "@jupyter-widgets/controls",
            "_view_module_version": "1.5.0",
            "_view_name": "HBoxView",
            "box_style": "",
            "children": [
              "IPY_MODEL_763f6e7731834497aee71433079bcb3a",
              "IPY_MODEL_178b11ea79b24e3d997d01175e29cfc2",
              "IPY_MODEL_5b952079bf134dcd8054b2826fc5596f"
            ],
            "layout": "IPY_MODEL_789f833442414d07a440dc254eb5c800"
          }
        },
        "763f6e7731834497aee71433079bcb3a": {
          "model_module": "@jupyter-widgets/controls",
          "model_name": "HTMLModel",
          "model_module_version": "1.5.0",
          "state": {
            "_dom_classes": [],
            "_model_module": "@jupyter-widgets/controls",
            "_model_module_version": "1.5.0",
            "_model_name": "HTMLModel",
            "_view_count": null,
            "_view_module": "@jupyter-widgets/controls",
            "_view_module_version": "1.5.0",
            "_view_name": "HTMLView",
            "description": "",
            "description_tooltip": null,
            "layout": "IPY_MODEL_b4bdb98062684863bdb95878e1a35e42",
            "placeholder": "​",
            "style": "IPY_MODEL_8ae2598ab1c646eab5155c6cd6031d28",
            "value": "Evaluating: 100%"
          }
        },
        "178b11ea79b24e3d997d01175e29cfc2": {
          "model_module": "@jupyter-widgets/controls",
          "model_name": "FloatProgressModel",
          "model_module_version": "1.5.0",
          "state": {
            "_dom_classes": [],
            "_model_module": "@jupyter-widgets/controls",
            "_model_module_version": "1.5.0",
            "_model_name": "FloatProgressModel",
            "_view_count": null,
            "_view_module": "@jupyter-widgets/controls",
            "_view_module_version": "1.5.0",
            "_view_name": "ProgressView",
            "bar_style": "success",
            "description": "",
            "description_tooltip": null,
            "layout": "IPY_MODEL_d3a191c67ca3457d8415858cdce91434",
            "max": 30,
            "min": 0,
            "orientation": "horizontal",
            "style": "IPY_MODEL_ed80b7fe6706403789d8ecd4f23753fb",
            "value": 30
          }
        },
        "5b952079bf134dcd8054b2826fc5596f": {
          "model_module": "@jupyter-widgets/controls",
          "model_name": "HTMLModel",
          "model_module_version": "1.5.0",
          "state": {
            "_dom_classes": [],
            "_model_module": "@jupyter-widgets/controls",
            "_model_module_version": "1.5.0",
            "_model_name": "HTMLModel",
            "_view_count": null,
            "_view_module": "@jupyter-widgets/controls",
            "_view_module_version": "1.5.0",
            "_view_name": "HTMLView",
            "description": "",
            "description_tooltip": null,
            "layout": "IPY_MODEL_96bfef6514284cc58540b212d16cf2cb",
            "placeholder": "​",
            "style": "IPY_MODEL_d2a84fd299fc4125a1fa1a5935cfca31",
            "value": " 30/30 [00:02&lt;00:00, 14.87it/s]"
          }
        },
        "789f833442414d07a440dc254eb5c800": {
          "model_module": "@jupyter-widgets/base",
          "model_name": "LayoutModel",
          "model_module_version": "1.2.0",
          "state": {
            "_model_module": "@jupyter-widgets/base",
            "_model_module_version": "1.2.0",
            "_model_name": "LayoutModel",
            "_view_count": null,
            "_view_module": "@jupyter-widgets/base",
            "_view_module_version": "1.2.0",
            "_view_name": "LayoutView",
            "align_content": null,
            "align_items": null,
            "align_self": null,
            "border": null,
            "bottom": null,
            "display": null,
            "flex": null,
            "flex_flow": null,
            "grid_area": null,
            "grid_auto_columns": null,
            "grid_auto_flow": null,
            "grid_auto_rows": null,
            "grid_column": null,
            "grid_gap": null,
            "grid_row": null,
            "grid_template_areas": null,
            "grid_template_columns": null,
            "grid_template_rows": null,
            "height": null,
            "justify_content": null,
            "justify_items": null,
            "left": null,
            "margin": null,
            "max_height": null,
            "max_width": null,
            "min_height": null,
            "min_width": null,
            "object_fit": null,
            "object_position": null,
            "order": null,
            "overflow": null,
            "overflow_x": null,
            "overflow_y": null,
            "padding": null,
            "right": null,
            "top": null,
            "visibility": null,
            "width": null
          }
        },
        "b4bdb98062684863bdb95878e1a35e42": {
          "model_module": "@jupyter-widgets/base",
          "model_name": "LayoutModel",
          "model_module_version": "1.2.0",
          "state": {
            "_model_module": "@jupyter-widgets/base",
            "_model_module_version": "1.2.0",
            "_model_name": "LayoutModel",
            "_view_count": null,
            "_view_module": "@jupyter-widgets/base",
            "_view_module_version": "1.2.0",
            "_view_name": "LayoutView",
            "align_content": null,
            "align_items": null,
            "align_self": null,
            "border": null,
            "bottom": null,
            "display": null,
            "flex": null,
            "flex_flow": null,
            "grid_area": null,
            "grid_auto_columns": null,
            "grid_auto_flow": null,
            "grid_auto_rows": null,
            "grid_column": null,
            "grid_gap": null,
            "grid_row": null,
            "grid_template_areas": null,
            "grid_template_columns": null,
            "grid_template_rows": null,
            "height": null,
            "justify_content": null,
            "justify_items": null,
            "left": null,
            "margin": null,
            "max_height": null,
            "max_width": null,
            "min_height": null,
            "min_width": null,
            "object_fit": null,
            "object_position": null,
            "order": null,
            "overflow": null,
            "overflow_x": null,
            "overflow_y": null,
            "padding": null,
            "right": null,
            "top": null,
            "visibility": null,
            "width": null
          }
        },
        "8ae2598ab1c646eab5155c6cd6031d28": {
          "model_module": "@jupyter-widgets/controls",
          "model_name": "DescriptionStyleModel",
          "model_module_version": "1.5.0",
          "state": {
            "_model_module": "@jupyter-widgets/controls",
            "_model_module_version": "1.5.0",
            "_model_name": "DescriptionStyleModel",
            "_view_count": null,
            "_view_module": "@jupyter-widgets/base",
            "_view_module_version": "1.2.0",
            "_view_name": "StyleView",
            "description_width": ""
          }
        },
        "d3a191c67ca3457d8415858cdce91434": {
          "model_module": "@jupyter-widgets/base",
          "model_name": "LayoutModel",
          "model_module_version": "1.2.0",
          "state": {
            "_model_module": "@jupyter-widgets/base",
            "_model_module_version": "1.2.0",
            "_model_name": "LayoutModel",
            "_view_count": null,
            "_view_module": "@jupyter-widgets/base",
            "_view_module_version": "1.2.0",
            "_view_name": "LayoutView",
            "align_content": null,
            "align_items": null,
            "align_self": null,
            "border": null,
            "bottom": null,
            "display": null,
            "flex": null,
            "flex_flow": null,
            "grid_area": null,
            "grid_auto_columns": null,
            "grid_auto_flow": null,
            "grid_auto_rows": null,
            "grid_column": null,
            "grid_gap": null,
            "grid_row": null,
            "grid_template_areas": null,
            "grid_template_columns": null,
            "grid_template_rows": null,
            "height": null,
            "justify_content": null,
            "justify_items": null,
            "left": null,
            "margin": null,
            "max_height": null,
            "max_width": null,
            "min_height": null,
            "min_width": null,
            "object_fit": null,
            "object_position": null,
            "order": null,
            "overflow": null,
            "overflow_x": null,
            "overflow_y": null,
            "padding": null,
            "right": null,
            "top": null,
            "visibility": null,
            "width": null
          }
        },
        "ed80b7fe6706403789d8ecd4f23753fb": {
          "model_module": "@jupyter-widgets/controls",
          "model_name": "ProgressStyleModel",
          "model_module_version": "1.5.0",
          "state": {
            "_model_module": "@jupyter-widgets/controls",
            "_model_module_version": "1.5.0",
            "_model_name": "ProgressStyleModel",
            "_view_count": null,
            "_view_module": "@jupyter-widgets/base",
            "_view_module_version": "1.2.0",
            "_view_name": "StyleView",
            "bar_color": null,
            "description_width": ""
          }
        },
        "96bfef6514284cc58540b212d16cf2cb": {
          "model_module": "@jupyter-widgets/base",
          "model_name": "LayoutModel",
          "model_module_version": "1.2.0",
          "state": {
            "_model_module": "@jupyter-widgets/base",
            "_model_module_version": "1.2.0",
            "_model_name": "LayoutModel",
            "_view_count": null,
            "_view_module": "@jupyter-widgets/base",
            "_view_module_version": "1.2.0",
            "_view_name": "LayoutView",
            "align_content": null,
            "align_items": null,
            "align_self": null,
            "border": null,
            "bottom": null,
            "display": null,
            "flex": null,
            "flex_flow": null,
            "grid_area": null,
            "grid_auto_columns": null,
            "grid_auto_flow": null,
            "grid_auto_rows": null,
            "grid_column": null,
            "grid_gap": null,
            "grid_row": null,
            "grid_template_areas": null,
            "grid_template_columns": null,
            "grid_template_rows": null,
            "height": null,
            "justify_content": null,
            "justify_items": null,
            "left": null,
            "margin": null,
            "max_height": null,
            "max_width": null,
            "min_height": null,
            "min_width": null,
            "object_fit": null,
            "object_position": null,
            "order": null,
            "overflow": null,
            "overflow_x": null,
            "overflow_y": null,
            "padding": null,
            "right": null,
            "top": null,
            "visibility": null,
            "width": null
          }
        },
        "d2a84fd299fc4125a1fa1a5935cfca31": {
          "model_module": "@jupyter-widgets/controls",
          "model_name": "DescriptionStyleModel",
          "model_module_version": "1.5.0",
          "state": {
            "_model_module": "@jupyter-widgets/controls",
            "_model_module_version": "1.5.0",
            "_model_name": "DescriptionStyleModel",
            "_view_count": null,
            "_view_module": "@jupyter-widgets/base",
            "_view_module_version": "1.2.0",
            "_view_name": "StyleView",
            "description_width": ""
          }
        },
        "4cbaf3a893714a3dbfeb121cbdc8887b": {
          "model_module": "@jupyter-widgets/controls",
          "model_name": "HBoxModel",
          "model_module_version": "1.5.0",
          "state": {
            "_dom_classes": [],
            "_model_module": "@jupyter-widgets/controls",
            "_model_module_version": "1.5.0",
            "_model_name": "HBoxModel",
            "_view_count": null,
            "_view_module": "@jupyter-widgets/controls",
            "_view_module_version": "1.5.0",
            "_view_name": "HBoxView",
            "box_style": "",
            "children": [
              "IPY_MODEL_de12a604b4464036ae18e31324f66990",
              "IPY_MODEL_a44830178af44e3b9dae1d6ffde2e01e",
              "IPY_MODEL_b407ba26ea7c4158ac613b6593af4572"
            ],
            "layout": "IPY_MODEL_7fd060c1f22d4af192f17dbf273dd7f1"
          }
        },
        "de12a604b4464036ae18e31324f66990": {
          "model_module": "@jupyter-widgets/controls",
          "model_name": "HTMLModel",
          "model_module_version": "1.5.0",
          "state": {
            "_dom_classes": [],
            "_model_module": "@jupyter-widgets/controls",
            "_model_module_version": "1.5.0",
            "_model_name": "HTMLModel",
            "_view_count": null,
            "_view_module": "@jupyter-widgets/controls",
            "_view_module_version": "1.5.0",
            "_view_name": "HTMLView",
            "description": "",
            "description_tooltip": null,
            "layout": "IPY_MODEL_301cfa98958b41e8bf46a67aa159df26",
            "placeholder": "​",
            "style": "IPY_MODEL_778340d2f99141738bbf310bcf64b7dc",
            "value": "Evaluating: 100%"
          }
        },
        "a44830178af44e3b9dae1d6ffde2e01e": {
          "model_module": "@jupyter-widgets/controls",
          "model_name": "FloatProgressModel",
          "model_module_version": "1.5.0",
          "state": {
            "_dom_classes": [],
            "_model_module": "@jupyter-widgets/controls",
            "_model_module_version": "1.5.0",
            "_model_name": "FloatProgressModel",
            "_view_count": null,
            "_view_module": "@jupyter-widgets/controls",
            "_view_module_version": "1.5.0",
            "_view_name": "ProgressView",
            "bar_style": "success",
            "description": "",
            "description_tooltip": null,
            "layout": "IPY_MODEL_292ccd15f55f4c4f8ca63683e00ccccb",
            "max": 30,
            "min": 0,
            "orientation": "horizontal",
            "style": "IPY_MODEL_d03df3919cdf42349d400d7cbffdf240",
            "value": 30
          }
        },
        "b407ba26ea7c4158ac613b6593af4572": {
          "model_module": "@jupyter-widgets/controls",
          "model_name": "HTMLModel",
          "model_module_version": "1.5.0",
          "state": {
            "_dom_classes": [],
            "_model_module": "@jupyter-widgets/controls",
            "_model_module_version": "1.5.0",
            "_model_name": "HTMLModel",
            "_view_count": null,
            "_view_module": "@jupyter-widgets/controls",
            "_view_module_version": "1.5.0",
            "_view_name": "HTMLView",
            "description": "",
            "description_tooltip": null,
            "layout": "IPY_MODEL_c1593b2afa8a46d4916bfcdf15ad16f5",
            "placeholder": "​",
            "style": "IPY_MODEL_9466c3dc2dbb4cf99b035847f296edc6",
            "value": " 30/30 [00:04&lt;00:00, 31.30it/s]"
          }
        },
        "7fd060c1f22d4af192f17dbf273dd7f1": {
          "model_module": "@jupyter-widgets/base",
          "model_name": "LayoutModel",
          "model_module_version": "1.2.0",
          "state": {
            "_model_module": "@jupyter-widgets/base",
            "_model_module_version": "1.2.0",
            "_model_name": "LayoutModel",
            "_view_count": null,
            "_view_module": "@jupyter-widgets/base",
            "_view_module_version": "1.2.0",
            "_view_name": "LayoutView",
            "align_content": null,
            "align_items": null,
            "align_self": null,
            "border": null,
            "bottom": null,
            "display": null,
            "flex": null,
            "flex_flow": null,
            "grid_area": null,
            "grid_auto_columns": null,
            "grid_auto_flow": null,
            "grid_auto_rows": null,
            "grid_column": null,
            "grid_gap": null,
            "grid_row": null,
            "grid_template_areas": null,
            "grid_template_columns": null,
            "grid_template_rows": null,
            "height": null,
            "justify_content": null,
            "justify_items": null,
            "left": null,
            "margin": null,
            "max_height": null,
            "max_width": null,
            "min_height": null,
            "min_width": null,
            "object_fit": null,
            "object_position": null,
            "order": null,
            "overflow": null,
            "overflow_x": null,
            "overflow_y": null,
            "padding": null,
            "right": null,
            "top": null,
            "visibility": null,
            "width": null
          }
        },
        "301cfa98958b41e8bf46a67aa159df26": {
          "model_module": "@jupyter-widgets/base",
          "model_name": "LayoutModel",
          "model_module_version": "1.2.0",
          "state": {
            "_model_module": "@jupyter-widgets/base",
            "_model_module_version": "1.2.0",
            "_model_name": "LayoutModel",
            "_view_count": null,
            "_view_module": "@jupyter-widgets/base",
            "_view_module_version": "1.2.0",
            "_view_name": "LayoutView",
            "align_content": null,
            "align_items": null,
            "align_self": null,
            "border": null,
            "bottom": null,
            "display": null,
            "flex": null,
            "flex_flow": null,
            "grid_area": null,
            "grid_auto_columns": null,
            "grid_auto_flow": null,
            "grid_auto_rows": null,
            "grid_column": null,
            "grid_gap": null,
            "grid_row": null,
            "grid_template_areas": null,
            "grid_template_columns": null,
            "grid_template_rows": null,
            "height": null,
            "justify_content": null,
            "justify_items": null,
            "left": null,
            "margin": null,
            "max_height": null,
            "max_width": null,
            "min_height": null,
            "min_width": null,
            "object_fit": null,
            "object_position": null,
            "order": null,
            "overflow": null,
            "overflow_x": null,
            "overflow_y": null,
            "padding": null,
            "right": null,
            "top": null,
            "visibility": null,
            "width": null
          }
        },
        "778340d2f99141738bbf310bcf64b7dc": {
          "model_module": "@jupyter-widgets/controls",
          "model_name": "DescriptionStyleModel",
          "model_module_version": "1.5.0",
          "state": {
            "_model_module": "@jupyter-widgets/controls",
            "_model_module_version": "1.5.0",
            "_model_name": "DescriptionStyleModel",
            "_view_count": null,
            "_view_module": "@jupyter-widgets/base",
            "_view_module_version": "1.2.0",
            "_view_name": "StyleView",
            "description_width": ""
          }
        },
        "292ccd15f55f4c4f8ca63683e00ccccb": {
          "model_module": "@jupyter-widgets/base",
          "model_name": "LayoutModel",
          "model_module_version": "1.2.0",
          "state": {
            "_model_module": "@jupyter-widgets/base",
            "_model_module_version": "1.2.0",
            "_model_name": "LayoutModel",
            "_view_count": null,
            "_view_module": "@jupyter-widgets/base",
            "_view_module_version": "1.2.0",
            "_view_name": "LayoutView",
            "align_content": null,
            "align_items": null,
            "align_self": null,
            "border": null,
            "bottom": null,
            "display": null,
            "flex": null,
            "flex_flow": null,
            "grid_area": null,
            "grid_auto_columns": null,
            "grid_auto_flow": null,
            "grid_auto_rows": null,
            "grid_column": null,
            "grid_gap": null,
            "grid_row": null,
            "grid_template_areas": null,
            "grid_template_columns": null,
            "grid_template_rows": null,
            "height": null,
            "justify_content": null,
            "justify_items": null,
            "left": null,
            "margin": null,
            "max_height": null,
            "max_width": null,
            "min_height": null,
            "min_width": null,
            "object_fit": null,
            "object_position": null,
            "order": null,
            "overflow": null,
            "overflow_x": null,
            "overflow_y": null,
            "padding": null,
            "right": null,
            "top": null,
            "visibility": null,
            "width": null
          }
        },
        "d03df3919cdf42349d400d7cbffdf240": {
          "model_module": "@jupyter-widgets/controls",
          "model_name": "ProgressStyleModel",
          "model_module_version": "1.5.0",
          "state": {
            "_model_module": "@jupyter-widgets/controls",
            "_model_module_version": "1.5.0",
            "_model_name": "ProgressStyleModel",
            "_view_count": null,
            "_view_module": "@jupyter-widgets/base",
            "_view_module_version": "1.2.0",
            "_view_name": "StyleView",
            "bar_color": null,
            "description_width": ""
          }
        },
        "c1593b2afa8a46d4916bfcdf15ad16f5": {
          "model_module": "@jupyter-widgets/base",
          "model_name": "LayoutModel",
          "model_module_version": "1.2.0",
          "state": {
            "_model_module": "@jupyter-widgets/base",
            "_model_module_version": "1.2.0",
            "_model_name": "LayoutModel",
            "_view_count": null,
            "_view_module": "@jupyter-widgets/base",
            "_view_module_version": "1.2.0",
            "_view_name": "LayoutView",
            "align_content": null,
            "align_items": null,
            "align_self": null,
            "border": null,
            "bottom": null,
            "display": null,
            "flex": null,
            "flex_flow": null,
            "grid_area": null,
            "grid_auto_columns": null,
            "grid_auto_flow": null,
            "grid_auto_rows": null,
            "grid_column": null,
            "grid_gap": null,
            "grid_row": null,
            "grid_template_areas": null,
            "grid_template_columns": null,
            "grid_template_rows": null,
            "height": null,
            "justify_content": null,
            "justify_items": null,
            "left": null,
            "margin": null,
            "max_height": null,
            "max_width": null,
            "min_height": null,
            "min_width": null,
            "object_fit": null,
            "object_position": null,
            "order": null,
            "overflow": null,
            "overflow_x": null,
            "overflow_y": null,
            "padding": null,
            "right": null,
            "top": null,
            "visibility": null,
            "width": null
          }
        },
        "9466c3dc2dbb4cf99b035847f296edc6": {
          "model_module": "@jupyter-widgets/controls",
          "model_name": "DescriptionStyleModel",
          "model_module_version": "1.5.0",
          "state": {
            "_model_module": "@jupyter-widgets/controls",
            "_model_module_version": "1.5.0",
            "_model_name": "DescriptionStyleModel",
            "_view_count": null,
            "_view_module": "@jupyter-widgets/base",
            "_view_module_version": "1.2.0",
            "_view_name": "StyleView",
            "description_width": ""
          }
        }
      }
    }
  },
  "cells": [
    {
      "cell_type": "markdown",
      "source": [
        "# RAG pipeline evaluation using [Ragas](https://ragas.io/)"
      ],
      "metadata": {
        "id": "8M6hx6y2OKzN"
      }
    },
    {
      "cell_type": "code",
      "source": [
        "!pip install datasets haystack-ai ragas-haystack"
      ],
      "metadata": {
        "colab": {
          "base_uri": "https://localhost:8080/"
        },
        "id": "YmaM3ALztyg2",
        "outputId": "fc5022d4-6d0e-4024-9d64-8a6a435c4893"
      },
      "execution_count": 1,
      "outputs": [
        {
          "output_type": "stream",
          "name": "stdout",
          "text": [
            "Requirement already satisfied: datasets in /usr/local/lib/python3.10/dist-packages (2.21.0)\n",
            "Requirement already satisfied: haystack-ai in /usr/local/lib/python3.10/dist-packages (2.4.0)\n",
            "Requirement already satisfied: ragas-haystack in /usr/local/lib/python3.10/dist-packages (1.0.0)\n",
            "Requirement already satisfied: filelock in /usr/local/lib/python3.10/dist-packages (from datasets) (3.15.4)\n",
            "Requirement already satisfied: numpy>=1.17 in /usr/local/lib/python3.10/dist-packages (from datasets) (1.26.4)\n",
            "Requirement already satisfied: pyarrow>=15.0.0 in /usr/local/lib/python3.10/dist-packages (from datasets) (17.0.0)\n",
            "Requirement already satisfied: dill<0.3.9,>=0.3.0 in /usr/local/lib/python3.10/dist-packages (from datasets) (0.3.8)\n",
            "Requirement already satisfied: pandas in /usr/local/lib/python3.10/dist-packages (from datasets) (2.1.4)\n",
            "Requirement already satisfied: requests>=2.32.2 in /usr/local/lib/python3.10/dist-packages (from datasets) (2.32.3)\n",
            "Requirement already satisfied: tqdm>=4.66.3 in /usr/local/lib/python3.10/dist-packages (from datasets) (4.66.5)\n",
            "Requirement already satisfied: xxhash in /usr/local/lib/python3.10/dist-packages (from datasets) (3.5.0)\n",
            "Requirement already satisfied: multiprocess in /usr/local/lib/python3.10/dist-packages (from datasets) (0.70.16)\n",
            "Requirement already satisfied: fsspec<=2024.6.1,>=2023.1.0 in /usr/local/lib/python3.10/dist-packages (from fsspec[http]<=2024.6.1,>=2023.1.0->datasets) (2024.6.1)\n",
            "Requirement already satisfied: aiohttp in /usr/local/lib/python3.10/dist-packages (from datasets) (3.10.2)\n",
            "Requirement already satisfied: huggingface-hub>=0.21.2 in /usr/local/lib/python3.10/dist-packages (from datasets) (0.23.5)\n",
            "Requirement already satisfied: packaging in /usr/local/lib/python3.10/dist-packages (from datasets) (24.1)\n",
            "Requirement already satisfied: pyyaml>=5.1 in /usr/local/lib/python3.10/dist-packages (from datasets) (6.0.2)\n",
            "Requirement already satisfied: haystack-experimental in /usr/local/lib/python3.10/dist-packages (from haystack-ai) (0.1.1)\n",
            "Requirement already satisfied: jinja2 in /usr/local/lib/python3.10/dist-packages (from haystack-ai) (3.1.4)\n",
            "Requirement already satisfied: lazy-imports in /usr/local/lib/python3.10/dist-packages (from haystack-ai) (0.3.1)\n",
            "Requirement already satisfied: more-itertools in /usr/local/lib/python3.10/dist-packages (from haystack-ai) (10.3.0)\n",
            "Requirement already satisfied: networkx in /usr/local/lib/python3.10/dist-packages (from haystack-ai) (3.3)\n",
            "Requirement already satisfied: openai>=1.1.0 in /usr/local/lib/python3.10/dist-packages (from haystack-ai) (1.41.0)\n",
            "Requirement already satisfied: posthog in /usr/local/lib/python3.10/dist-packages (from haystack-ai) (3.5.0)\n",
            "Requirement already satisfied: python-dateutil in /usr/local/lib/python3.10/dist-packages (from haystack-ai) (2.8.2)\n",
            "Requirement already satisfied: tenacity!=8.4.0 in /usr/local/lib/python3.10/dist-packages (from haystack-ai) (8.5.0)\n",
            "Requirement already satisfied: typing-extensions>=4.7 in /usr/local/lib/python3.10/dist-packages (from haystack-ai) (4.12.2)\n",
            "Requirement already satisfied: ragas>=0.1.11 in /usr/local/lib/python3.10/dist-packages (from ragas-haystack) (0.1.14)\n",
            "Requirement already satisfied: aiohappyeyeballs>=2.3.0 in /usr/local/lib/python3.10/dist-packages (from aiohttp->datasets) (2.3.5)\n",
            "Requirement already satisfied: aiosignal>=1.1.2 in /usr/local/lib/python3.10/dist-packages (from aiohttp->datasets) (1.3.1)\n",
            "Requirement already satisfied: attrs>=17.3.0 in /usr/local/lib/python3.10/dist-packages (from aiohttp->datasets) (24.2.0)\n",
            "Requirement already satisfied: frozenlist>=1.1.1 in /usr/local/lib/python3.10/dist-packages (from aiohttp->datasets) (1.4.1)\n",
            "Requirement already satisfied: multidict<7.0,>=4.5 in /usr/local/lib/python3.10/dist-packages (from aiohttp->datasets) (6.0.5)\n",
            "Requirement already satisfied: yarl<2.0,>=1.0 in /usr/local/lib/python3.10/dist-packages (from aiohttp->datasets) (1.9.4)\n",
            "Requirement already satisfied: async-timeout<5.0,>=4.0 in /usr/local/lib/python3.10/dist-packages (from aiohttp->datasets) (4.0.3)\n",
            "Requirement already satisfied: anyio<5,>=3.5.0 in /usr/local/lib/python3.10/dist-packages (from openai>=1.1.0->haystack-ai) (3.7.1)\n",
            "Requirement already satisfied: distro<2,>=1.7.0 in /usr/lib/python3/dist-packages (from openai>=1.1.0->haystack-ai) (1.7.0)\n",
            "Requirement already satisfied: httpx<1,>=0.23.0 in /usr/local/lib/python3.10/dist-packages (from openai>=1.1.0->haystack-ai) (0.27.0)\n",
            "Requirement already satisfied: jiter<1,>=0.4.0 in /usr/local/lib/python3.10/dist-packages (from openai>=1.1.0->haystack-ai) (0.5.0)\n",
            "Requirement already satisfied: pydantic<3,>=1.9.0 in /usr/local/lib/python3.10/dist-packages (from openai>=1.1.0->haystack-ai) (2.8.2)\n",
            "Requirement already satisfied: sniffio in /usr/local/lib/python3.10/dist-packages (from openai>=1.1.0->haystack-ai) (1.3.1)\n",
            "Requirement already satisfied: tiktoken in /usr/local/lib/python3.10/dist-packages (from ragas>=0.1.11->ragas-haystack) (0.7.0)\n",
            "Requirement already satisfied: langchain in /usr/local/lib/python3.10/dist-packages (from ragas>=0.1.11->ragas-haystack) (0.2.14)\n",
            "Requirement already satisfied: langchain-core in /usr/local/lib/python3.10/dist-packages (from ragas>=0.1.11->ragas-haystack) (0.2.33)\n",
            "Requirement already satisfied: langchain-community in /usr/local/lib/python3.10/dist-packages (from ragas>=0.1.11->ragas-haystack) (0.2.12)\n",
            "Requirement already satisfied: langchain-openai in /usr/local/lib/python3.10/dist-packages (from ragas>=0.1.11->ragas-haystack) (0.1.22)\n",
            "Requirement already satisfied: pysbd>=0.3.4 in /usr/local/lib/python3.10/dist-packages (from ragas>=0.1.11->ragas-haystack) (0.3.4)\n",
            "Requirement already satisfied: nest-asyncio in /usr/local/lib/python3.10/dist-packages (from ragas>=0.1.11->ragas-haystack) (1.6.0)\n",
            "Requirement already satisfied: appdirs in /usr/local/lib/python3.10/dist-packages (from ragas>=0.1.11->ragas-haystack) (1.4.4)\n",
            "Requirement already satisfied: charset-normalizer<4,>=2 in /usr/local/lib/python3.10/dist-packages (from requests>=2.32.2->datasets) (3.3.2)\n",
            "Requirement already satisfied: idna<4,>=2.5 in /usr/local/lib/python3.10/dist-packages (from requests>=2.32.2->datasets) (3.7)\n",
            "Requirement already satisfied: urllib3<3,>=1.21.1 in /usr/local/lib/python3.10/dist-packages (from requests>=2.32.2->datasets) (2.0.7)\n",
            "Requirement already satisfied: certifi>=2017.4.17 in /usr/local/lib/python3.10/dist-packages (from requests>=2.32.2->datasets) (2024.7.4)\n",
            "Requirement already satisfied: MarkupSafe>=2.0 in /usr/local/lib/python3.10/dist-packages (from jinja2->haystack-ai) (2.1.5)\n",
            "Requirement already satisfied: pytz>=2020.1 in /usr/local/lib/python3.10/dist-packages (from pandas->datasets) (2024.1)\n",
            "Requirement already satisfied: tzdata>=2022.1 in /usr/local/lib/python3.10/dist-packages (from pandas->datasets) (2024.1)\n",
            "Requirement already satisfied: six>=1.5 in /usr/local/lib/python3.10/dist-packages (from python-dateutil->haystack-ai) (1.16.0)\n",
            "Requirement already satisfied: monotonic>=1.5 in /usr/local/lib/python3.10/dist-packages (from posthog->haystack-ai) (1.6)\n",
            "Requirement already satisfied: backoff>=1.10.0 in /usr/local/lib/python3.10/dist-packages (from posthog->haystack-ai) (2.2.1)\n",
            "Requirement already satisfied: exceptiongroup in /usr/local/lib/python3.10/dist-packages (from anyio<5,>=3.5.0->openai>=1.1.0->haystack-ai) (1.2.2)\n",
            "Requirement already satisfied: httpcore==1.* in /usr/local/lib/python3.10/dist-packages (from httpx<1,>=0.23.0->openai>=1.1.0->haystack-ai) (1.0.5)\n",
            "Requirement already satisfied: h11<0.15,>=0.13 in /usr/local/lib/python3.10/dist-packages (from httpcore==1.*->httpx<1,>=0.23.0->openai>=1.1.0->haystack-ai) (0.14.0)\n",
            "Requirement already satisfied: annotated-types>=0.4.0 in /usr/local/lib/python3.10/dist-packages (from pydantic<3,>=1.9.0->openai>=1.1.0->haystack-ai) (0.7.0)\n",
            "Requirement already satisfied: pydantic-core==2.20.1 in /usr/local/lib/python3.10/dist-packages (from pydantic<3,>=1.9.0->openai>=1.1.0->haystack-ai) (2.20.1)\n",
            "Requirement already satisfied: SQLAlchemy<3,>=1.4 in /usr/local/lib/python3.10/dist-packages (from langchain->ragas>=0.1.11->ragas-haystack) (2.0.32)\n",
            "Requirement already satisfied: langchain-text-splitters<0.3.0,>=0.2.0 in /usr/local/lib/python3.10/dist-packages (from langchain->ragas>=0.1.11->ragas-haystack) (0.2.2)\n",
            "Requirement already satisfied: langsmith<0.2.0,>=0.1.17 in /usr/local/lib/python3.10/dist-packages (from langchain->ragas>=0.1.11->ragas-haystack) (0.1.99)\n",
            "Requirement already satisfied: jsonpatch<2.0,>=1.33 in /usr/local/lib/python3.10/dist-packages (from langchain-core->ragas>=0.1.11->ragas-haystack) (1.33)\n",
            "Requirement already satisfied: dataclasses-json<0.7,>=0.5.7 in /usr/local/lib/python3.10/dist-packages (from langchain-community->ragas>=0.1.11->ragas-haystack) (0.6.7)\n",
            "Requirement already satisfied: regex>=2022.1.18 in /usr/local/lib/python3.10/dist-packages (from tiktoken->ragas>=0.1.11->ragas-haystack) (2024.5.15)\n",
            "Requirement already satisfied: marshmallow<4.0.0,>=3.18.0 in /usr/local/lib/python3.10/dist-packages (from dataclasses-json<0.7,>=0.5.7->langchain-community->ragas>=0.1.11->ragas-haystack) (3.21.3)\n",
            "Requirement already satisfied: typing-inspect<1,>=0.4.0 in /usr/local/lib/python3.10/dist-packages (from dataclasses-json<0.7,>=0.5.7->langchain-community->ragas>=0.1.11->ragas-haystack) (0.9.0)\n",
            "Requirement already satisfied: jsonpointer>=1.9 in /usr/local/lib/python3.10/dist-packages (from jsonpatch<2.0,>=1.33->langchain-core->ragas>=0.1.11->ragas-haystack) (3.0.0)\n",
            "Requirement already satisfied: orjson<4.0.0,>=3.9.14 in /usr/local/lib/python3.10/dist-packages (from langsmith<0.2.0,>=0.1.17->langchain->ragas>=0.1.11->ragas-haystack) (3.10.7)\n",
            "Requirement already satisfied: greenlet!=0.4.17 in /usr/local/lib/python3.10/dist-packages (from SQLAlchemy<3,>=1.4->langchain->ragas>=0.1.11->ragas-haystack) (3.0.3)\n",
            "Requirement already satisfied: mypy-extensions>=0.3.0 in /usr/local/lib/python3.10/dist-packages (from typing-inspect<1,>=0.4.0->dataclasses-json<0.7,>=0.5.7->langchain-community->ragas>=0.1.11->ragas-haystack) (1.0.0)\n"
          ]
        }
      ]
    },
    {
      "cell_type": "markdown",
      "source": [
        "## Install dependencies"
      ],
      "metadata": {
        "id": "drm6GzHuO_qA"
      }
    },
    {
      "cell_type": "code",
      "execution_count": 2,
      "metadata": {
        "id": "PCh6BdbitpgX"
      },
      "outputs": [],
      "source": [
        "import os\n",
        "from getpass import getpass\n",
        "from typing import List\n",
        "import pandas as pd\n",
        "\n",
        "from datasets import load_dataset\n",
        "\n",
        "from haystack import Document\n",
        "from haystack.document_stores.in_memory import InMemoryDocumentStore\n",
        "from haystack.components.builders import PromptBuilder\n",
        "from haystack.components.generators import OpenAIGenerator\n",
        "from haystack.components.retrievers.in_memory import InMemoryBM25Retriever\n",
        "from haystack import Pipeline\n",
        "from haystack.components.builders.answer_builder import AnswerBuilder\n",
        "from haystack_integrations.components.evaluators.ragas import RagasEvaluator, RagasMetric"
      ]
    },
    {
      "cell_type": "code",
      "source": [
        "os.environ[\"OPENAI_API_KEY\"] = getpass(\"Enter OpenAI API key:\")"
      ],
      "metadata": {
        "colab": {
          "base_uri": "https://localhost:8080/"
        },
        "id": "yx5WIMp272_9",
        "outputId": "5c128447-0395-4ffb-a878-b42274e46476"
      },
      "execution_count": 3,
      "outputs": [
        {
          "name": "stdout",
          "output_type": "stream",
          "text": [
            "Enter OpenAI API key:··········\n"
          ]
        }
      ]
    },
    {
      "cell_type": "markdown",
      "source": [
        "## Load the dataset"
      ],
      "metadata": {
        "id": "sj4TgEKgPE0i"
      }
    },
    {
      "cell_type": "code",
      "source": [
        "data = load_dataset(\"Hello-SimpleAI/HC3\", \"finance\")\n",
        "df = data[\"train\"].to_pandas()\n",
        "df = df.iloc[:1000]\n",
        "df = df.drop(columns=[\"id\"], axis=1)\n",
        "df.head()"
      ],
      "metadata": {
        "colab": {
          "base_uri": "https://localhost:8080/",
          "height": 326
        },
        "id": "XtiASL_stwz_",
        "outputId": "640f09f6-060d-44ce-cf2f-eba79dfb49d9"
      },
      "execution_count": 4,
      "outputs": [
        {
          "output_type": "stream",
          "name": "stderr",
          "text": [
            "/usr/local/lib/python3.10/dist-packages/huggingface_hub/utils/_token.py:89: UserWarning: \n",
            "The secret `HF_TOKEN` does not exist in your Colab secrets.\n",
            "To authenticate with the Hugging Face Hub, create a token in your settings tab (https://huggingface.co/settings/tokens), set it as secret in your Google Colab and restart your session.\n",
            "You will be able to reuse this secret in all of your notebooks.\n",
            "Please note that authentication is recommended but still optional to access public models or datasets.\n",
            "  warnings.warn(\n"
          ]
        },
        {
          "output_type": "execute_result",
          "data": {
            "text/plain": [
              "                                            question  \\\n",
              "0  Historical P/E ratios of small-cap vs. large-c...   \n",
              "1  Should you co-sign a personal loan for a frien...   \n",
              "2  Should I avoid credit card use to improve our ...   \n",
              "3  Difference between 'split and redemption' of s...   \n",
              "4     Pros & cons of investing in gold vs. platinum?   \n",
              "\n",
              "                                       human_answers  \\\n",
              "0  [There is most likely an error in the WSJ's da...   \n",
              "1  [I know this question has a lot of answers alr...   \n",
              "2  [If you pay it off before the cycle closes it ...   \n",
              "3  [It is the first time I encounter redemption p...   \n",
              "4  [Why Investors Buy Platinum is an old (1995) a...   \n",
              "\n",
              "                                     chatgpt_answers  \n",
              "0  [Historical price-to-earnings (P/E) ratios for...  \n",
              "1  [Co-signing a personal loan for a friend or fa...  \n",
              "2  [It can be a good idea to avoid using credit c...  \n",
              "3  [Share split and redemption are two different ...  \n",
              "4  [Gold and platinum are both precious metals th...  "
            ],
            "text/html": [
              "\n",
              "  <div id=\"df-3b2aec67-9393-41a1-a60f-74e7f8462673\" class=\"colab-df-container\">\n",
              "    <div>\n",
              "<style scoped>\n",
              "    .dataframe tbody tr th:only-of-type {\n",
              "        vertical-align: middle;\n",
              "    }\n",
              "\n",
              "    .dataframe tbody tr th {\n",
              "        vertical-align: top;\n",
              "    }\n",
              "\n",
              "    .dataframe thead th {\n",
              "        text-align: right;\n",
              "    }\n",
              "</style>\n",
              "<table border=\"1\" class=\"dataframe\">\n",
              "  <thead>\n",
              "    <tr style=\"text-align: right;\">\n",
              "      <th></th>\n",
              "      <th>question</th>\n",
              "      <th>human_answers</th>\n",
              "      <th>chatgpt_answers</th>\n",
              "    </tr>\n",
              "  </thead>\n",
              "  <tbody>\n",
              "    <tr>\n",
              "      <th>0</th>\n",
              "      <td>Historical P/E ratios of small-cap vs. large-c...</td>\n",
              "      <td>[There is most likely an error in the WSJ's da...</td>\n",
              "      <td>[Historical price-to-earnings (P/E) ratios for...</td>\n",
              "    </tr>\n",
              "    <tr>\n",
              "      <th>1</th>\n",
              "      <td>Should you co-sign a personal loan for a frien...</td>\n",
              "      <td>[I know this question has a lot of answers alr...</td>\n",
              "      <td>[Co-signing a personal loan for a friend or fa...</td>\n",
              "    </tr>\n",
              "    <tr>\n",
              "      <th>2</th>\n",
              "      <td>Should I avoid credit card use to improve our ...</td>\n",
              "      <td>[If you pay it off before the cycle closes it ...</td>\n",
              "      <td>[It can be a good idea to avoid using credit c...</td>\n",
              "    </tr>\n",
              "    <tr>\n",
              "      <th>3</th>\n",
              "      <td>Difference between 'split and redemption' of s...</td>\n",
              "      <td>[It is the first time I encounter redemption p...</td>\n",
              "      <td>[Share split and redemption are two different ...</td>\n",
              "    </tr>\n",
              "    <tr>\n",
              "      <th>4</th>\n",
              "      <td>Pros &amp; cons of investing in gold vs. platinum?</td>\n",
              "      <td>[Why Investors Buy Platinum is an old (1995) a...</td>\n",
              "      <td>[Gold and platinum are both precious metals th...</td>\n",
              "    </tr>\n",
              "  </tbody>\n",
              "</table>\n",
              "</div>\n",
              "    <div class=\"colab-df-buttons\">\n",
              "\n",
              "  <div class=\"colab-df-container\">\n",
              "    <button class=\"colab-df-convert\" onclick=\"convertToInteractive('df-3b2aec67-9393-41a1-a60f-74e7f8462673')\"\n",
              "            title=\"Convert this dataframe to an interactive table.\"\n",
              "            style=\"display:none;\">\n",
              "\n",
              "  <svg xmlns=\"http://www.w3.org/2000/svg\" height=\"24px\" viewBox=\"0 -960 960 960\">\n",
              "    <path d=\"M120-120v-720h720v720H120Zm60-500h600v-160H180v160Zm220 220h160v-160H400v160Zm0 220h160v-160H400v160ZM180-400h160v-160H180v160Zm440 0h160v-160H620v160ZM180-180h160v-160H180v160Zm440 0h160v-160H620v160Z\"/>\n",
              "  </svg>\n",
              "    </button>\n",
              "\n",
              "  <style>\n",
              "    .colab-df-container {\n",
              "      display:flex;\n",
              "      gap: 12px;\n",
              "    }\n",
              "\n",
              "    .colab-df-convert {\n",
              "      background-color: #E8F0FE;\n",
              "      border: none;\n",
              "      border-radius: 50%;\n",
              "      cursor: pointer;\n",
              "      display: none;\n",
              "      fill: #1967D2;\n",
              "      height: 32px;\n",
              "      padding: 0 0 0 0;\n",
              "      width: 32px;\n",
              "    }\n",
              "\n",
              "    .colab-df-convert:hover {\n",
              "      background-color: #E2EBFA;\n",
              "      box-shadow: 0px 1px 2px rgba(60, 64, 67, 0.3), 0px 1px 3px 1px rgba(60, 64, 67, 0.15);\n",
              "      fill: #174EA6;\n",
              "    }\n",
              "\n",
              "    .colab-df-buttons div {\n",
              "      margin-bottom: 4px;\n",
              "    }\n",
              "\n",
              "    [theme=dark] .colab-df-convert {\n",
              "      background-color: #3B4455;\n",
              "      fill: #D2E3FC;\n",
              "    }\n",
              "\n",
              "    [theme=dark] .colab-df-convert:hover {\n",
              "      background-color: #434B5C;\n",
              "      box-shadow: 0px 1px 3px 1px rgba(0, 0, 0, 0.15);\n",
              "      filter: drop-shadow(0px 1px 2px rgba(0, 0, 0, 0.3));\n",
              "      fill: #FFFFFF;\n",
              "    }\n",
              "  </style>\n",
              "\n",
              "    <script>\n",
              "      const buttonEl =\n",
              "        document.querySelector('#df-3b2aec67-9393-41a1-a60f-74e7f8462673 button.colab-df-convert');\n",
              "      buttonEl.style.display =\n",
              "        google.colab.kernel.accessAllowed ? 'block' : 'none';\n",
              "\n",
              "      async function convertToInteractive(key) {\n",
              "        const element = document.querySelector('#df-3b2aec67-9393-41a1-a60f-74e7f8462673');\n",
              "        const dataTable =\n",
              "          await google.colab.kernel.invokeFunction('convertToInteractive',\n",
              "                                                    [key], {});\n",
              "        if (!dataTable) return;\n",
              "\n",
              "        const docLinkHtml = 'Like what you see? Visit the ' +\n",
              "          '<a target=\"_blank\" href=https://colab.research.google.com/notebooks/data_table.ipynb>data table notebook</a>'\n",
              "          + ' to learn more about interactive tables.';\n",
              "        element.innerHTML = '';\n",
              "        dataTable['output_type'] = 'display_data';\n",
              "        await google.colab.output.renderOutput(dataTable, element);\n",
              "        const docLink = document.createElement('div');\n",
              "        docLink.innerHTML = docLinkHtml;\n",
              "        element.appendChild(docLink);\n",
              "      }\n",
              "    </script>\n",
              "  </div>\n",
              "\n",
              "\n",
              "<div id=\"df-34a9f08a-fb5f-4963-92c5-1f7e984252c1\">\n",
              "  <button class=\"colab-df-quickchart\" onclick=\"quickchart('df-34a9f08a-fb5f-4963-92c5-1f7e984252c1')\"\n",
              "            title=\"Suggest charts\"\n",
              "            style=\"display:none;\">\n",
              "\n",
              "<svg xmlns=\"http://www.w3.org/2000/svg\" height=\"24px\"viewBox=\"0 0 24 24\"\n",
              "     width=\"24px\">\n",
              "    <g>\n",
              "        <path d=\"M19 3H5c-1.1 0-2 .9-2 2v14c0 1.1.9 2 2 2h14c1.1 0 2-.9 2-2V5c0-1.1-.9-2-2-2zM9 17H7v-7h2v7zm4 0h-2V7h2v10zm4 0h-2v-4h2v4z\"/>\n",
              "    </g>\n",
              "</svg>\n",
              "  </button>\n",
              "\n",
              "<style>\n",
              "  .colab-df-quickchart {\n",
              "      --bg-color: #E8F0FE;\n",
              "      --fill-color: #1967D2;\n",
              "      --hover-bg-color: #E2EBFA;\n",
              "      --hover-fill-color: #174EA6;\n",
              "      --disabled-fill-color: #AAA;\n",
              "      --disabled-bg-color: #DDD;\n",
              "  }\n",
              "\n",
              "  [theme=dark] .colab-df-quickchart {\n",
              "      --bg-color: #3B4455;\n",
              "      --fill-color: #D2E3FC;\n",
              "      --hover-bg-color: #434B5C;\n",
              "      --hover-fill-color: #FFFFFF;\n",
              "      --disabled-bg-color: #3B4455;\n",
              "      --disabled-fill-color: #666;\n",
              "  }\n",
              "\n",
              "  .colab-df-quickchart {\n",
              "    background-color: var(--bg-color);\n",
              "    border: none;\n",
              "    border-radius: 50%;\n",
              "    cursor: pointer;\n",
              "    display: none;\n",
              "    fill: var(--fill-color);\n",
              "    height: 32px;\n",
              "    padding: 0;\n",
              "    width: 32px;\n",
              "  }\n",
              "\n",
              "  .colab-df-quickchart:hover {\n",
              "    background-color: var(--hover-bg-color);\n",
              "    box-shadow: 0 1px 2px rgba(60, 64, 67, 0.3), 0 1px 3px 1px rgba(60, 64, 67, 0.15);\n",
              "    fill: var(--button-hover-fill-color);\n",
              "  }\n",
              "\n",
              "  .colab-df-quickchart-complete:disabled,\n",
              "  .colab-df-quickchart-complete:disabled:hover {\n",
              "    background-color: var(--disabled-bg-color);\n",
              "    fill: var(--disabled-fill-color);\n",
              "    box-shadow: none;\n",
              "  }\n",
              "\n",
              "  .colab-df-spinner {\n",
              "    border: 2px solid var(--fill-color);\n",
              "    border-color: transparent;\n",
              "    border-bottom-color: var(--fill-color);\n",
              "    animation:\n",
              "      spin 1s steps(1) infinite;\n",
              "  }\n",
              "\n",
              "  @keyframes spin {\n",
              "    0% {\n",
              "      border-color: transparent;\n",
              "      border-bottom-color: var(--fill-color);\n",
              "      border-left-color: var(--fill-color);\n",
              "    }\n",
              "    20% {\n",
              "      border-color: transparent;\n",
              "      border-left-color: var(--fill-color);\n",
              "      border-top-color: var(--fill-color);\n",
              "    }\n",
              "    30% {\n",
              "      border-color: transparent;\n",
              "      border-left-color: var(--fill-color);\n",
              "      border-top-color: var(--fill-color);\n",
              "      border-right-color: var(--fill-color);\n",
              "    }\n",
              "    40% {\n",
              "      border-color: transparent;\n",
              "      border-right-color: var(--fill-color);\n",
              "      border-top-color: var(--fill-color);\n",
              "    }\n",
              "    60% {\n",
              "      border-color: transparent;\n",
              "      border-right-color: var(--fill-color);\n",
              "    }\n",
              "    80% {\n",
              "      border-color: transparent;\n",
              "      border-right-color: var(--fill-color);\n",
              "      border-bottom-color: var(--fill-color);\n",
              "    }\n",
              "    90% {\n",
              "      border-color: transparent;\n",
              "      border-bottom-color: var(--fill-color);\n",
              "    }\n",
              "  }\n",
              "</style>\n",
              "\n",
              "  <script>\n",
              "    async function quickchart(key) {\n",
              "      const quickchartButtonEl =\n",
              "        document.querySelector('#' + key + ' button');\n",
              "      quickchartButtonEl.disabled = true;  // To prevent multiple clicks.\n",
              "      quickchartButtonEl.classList.add('colab-df-spinner');\n",
              "      try {\n",
              "        const charts = await google.colab.kernel.invokeFunction(\n",
              "            'suggestCharts', [key], {});\n",
              "      } catch (error) {\n",
              "        console.error('Error during call to suggestCharts:', error);\n",
              "      }\n",
              "      quickchartButtonEl.classList.remove('colab-df-spinner');\n",
              "      quickchartButtonEl.classList.add('colab-df-quickchart-complete');\n",
              "    }\n",
              "    (() => {\n",
              "      let quickchartButtonEl =\n",
              "        document.querySelector('#df-34a9f08a-fb5f-4963-92c5-1f7e984252c1 button');\n",
              "      quickchartButtonEl.style.display =\n",
              "        google.colab.kernel.accessAllowed ? 'block' : 'none';\n",
              "    })();\n",
              "  </script>\n",
              "</div>\n",
              "\n",
              "    </div>\n",
              "  </div>\n"
            ],
            "application/vnd.google.colaboratory.intrinsic+json": {
              "type": "dataframe",
              "variable_name": "df",
              "summary": "{\n  \"name\": \"df\",\n  \"rows\": 1000,\n  \"fields\": [\n    {\n      \"column\": \"question\",\n      \"properties\": {\n        \"dtype\": \"string\",\n        \"num_unique_values\": 1000,\n        \"samples\": [\n          \"Should I use put extra money toward paying off my student loans or investing in an index fund?\",\n          \"How do I do double-entry bookkeeping for separately-managed investment accounts?\",\n          \"Online service that computes implied volatility \"\n        ],\n        \"semantic_type\": \"\",\n        \"description\": \"\"\n      }\n    },\n    {\n      \"column\": \"human_answers\",\n      \"properties\": {\n        \"dtype\": \"object\",\n        \"semantic_type\": \"\",\n        \"description\": \"\"\n      }\n    },\n    {\n      \"column\": \"chatgpt_answers\",\n      \"properties\": {\n        \"dtype\": \"object\",\n        \"semantic_type\": \"\",\n        \"description\": \"\"\n      }\n    }\n  ]\n}"
            }
          },
          "metadata": {},
          "execution_count": 4
        }
      ]
    },
    {
      "cell_type": "markdown",
      "source": [
        "## Custom CSV to [Document](https://docs.haystack.deepset.ai/docs/components_overview#data-classes) [Convertor](https://docs.haystack.deepset.ai/docs/converters)"
      ],
      "metadata": {
        "id": "C6tOKVPBPr8S"
      }
    },
    {
      "cell_type": "code",
      "source": [
        "class CSVToDocumentConvertor:\n",
        "    documents = []\n",
        "\n",
        "    @classmethod\n",
        "    def to_list_of_documents(self, data: pd.DataFrame) -> List[Document]:\n",
        "        for row in data.itertuples(index=False):\n",
        "            doc = Document(content=row.question,\n",
        "                           meta={\"human_answers\": row.human_answers,\n",
        "                                 \"chatgpt_answers\": row.chatgpt_answers})\n",
        "            self.documents.append(doc)\n",
        "\n",
        "        return self.documents"
      ],
      "metadata": {
        "id": "AP9dVAwr4UFA"
      },
      "execution_count": 5,
      "outputs": []
    },
    {
      "cell_type": "code",
      "source": [
        "convertor = CSVToDocumentConvertor()\n",
        "documents = convertor.to_list_of_documents(df)"
      ],
      "metadata": {
        "id": "bQwUmtRp5xiJ"
      },
      "execution_count": 6,
      "outputs": []
    },
    {
      "cell_type": "code",
      "source": [
        "len(documents)"
      ],
      "metadata": {
        "colab": {
          "base_uri": "https://localhost:8080/"
        },
        "id": "FhrKGG_B7SnJ",
        "outputId": "9c2a725f-9009-4260-840b-3ccf6c802e87"
      },
      "execution_count": 7,
      "outputs": [
        {
          "output_type": "execute_result",
          "data": {
            "text/plain": [
              "1000"
            ]
          },
          "metadata": {},
          "execution_count": 7
        }
      ]
    },
    {
      "cell_type": "markdown",
      "source": [
        "## Initialize [DocumentStore](https://docs.haystack.deepset.ai/docs/document-store)"
      ],
      "metadata": {
        "id": "XkxQwMXvQWFn"
      }
    },
    {
      "cell_type": "code",
      "source": [
        "document_store = InMemoryDocumentStore()\n",
        "document_store.write_documents(documents)\n",
        "retriever = InMemoryBM25Retriever(document_store, top_k=3)"
      ],
      "metadata": {
        "id": "J5OHAKzG6hJ9"
      },
      "execution_count": 8,
      "outputs": []
    },
    {
      "cell_type": "markdown",
      "source": [
        "## [Prompt Template Builder](https://docs.haystack.deepset.ai/docs/promptbuilder)"
      ],
      "metadata": {
        "id": "EloTPShvQUHd"
      }
    },
    {
      "cell_type": "code",
      "source": [
        "template = \"\"\"\n",
        "Given the following information, answer the question.\n",
        "\n",
        "Context:\n",
        "{% for document in documents %}\n",
        "    {{ document.content }}\n",
        "{% endfor %}\n",
        "\n",
        "Question: {{question}}\n",
        "Answer:\n",
        "\"\"\"\n",
        "\n",
        "prompt_builder = PromptBuilder(template=template)\n",
        "\n",
        "generator = OpenAIGenerator(model=\"gpt-4o-mini\")"
      ],
      "metadata": {
        "id": "b3iA0yXr7t2U"
      },
      "execution_count": 9,
      "outputs": []
    },
    {
      "cell_type": "markdown",
      "source": [
        "## RAG [Pipeline](https://docs.haystack.deepset.ai/docs/pipelines) - [Generator](https://docs.haystack.deepset.ai/docs/generators)\n"
      ],
      "metadata": {
        "id": "fisnFGNyRKrx"
      }
    },
    {
      "cell_type": "code",
      "source": [
        "rag_pipeline = Pipeline()\n",
        "\n",
        "rag_pipeline.add_component(\"retriever\", retriever)\n",
        "rag_pipeline.add_component(\"prompt_builder\", prompt_builder)\n",
        "rag_pipeline.add_component(\"llm\", generator)\n",
        "rag_pipeline.add_component(instance=AnswerBuilder(), name=\"answer_builder\")\n",
        "\n",
        "rag_pipeline.connect(\"retriever\", \"prompt_builder.documents\")\n",
        "rag_pipeline.connect(\"prompt_builder\", \"llm\")\n",
        "rag_pipeline.connect(\"llm.replies\", \"answer_builder.replies\")\n",
        "rag_pipeline.connect(\"llm.meta\", \"answer_builder.meta\")\n",
        "rag_pipeline.connect(\"retriever\", \"answer_builder.documents\")"
      ],
      "metadata": {
        "colab": {
          "base_uri": "https://localhost:8080/"
        },
        "id": "WYWOqOZL8X5W",
        "outputId": "813bc571-a841-49f0-913e-727fc8c16967"
      },
      "execution_count": 10,
      "outputs": [
        {
          "output_type": "execute_result",
          "data": {
            "text/plain": [
              "<haystack.core.pipeline.pipeline.Pipeline object at 0x7fba69eaf010>\n",
              "🚅 Components\n",
              "  - retriever: InMemoryBM25Retriever\n",
              "  - prompt_builder: PromptBuilder\n",
              "  - llm: OpenAIGenerator\n",
              "  - answer_builder: AnswerBuilder\n",
              "🛤️ Connections\n",
              "  - retriever.documents -> prompt_builder.documents (List[Document])\n",
              "  - retriever.documents -> answer_builder.documents (List[Document])\n",
              "  - prompt_builder.prompt -> llm.prompt (str)\n",
              "  - llm.replies -> answer_builder.replies (List[str])\n",
              "  - llm.meta -> answer_builder.meta (List[Dict[str, Any]])"
            ]
          },
          "metadata": {},
          "execution_count": 10
        }
      ]
    },
    {
      "cell_type": "code",
      "source": [
        "rag_pipeline.show()"
      ],
      "metadata": {
        "colab": {
          "base_uri": "https://localhost:8080/",
          "height": 1000
        },
        "id": "SBayqepXA-B_",
        "outputId": "ddf3f8eb-5a33-4c3b-f9c7-483f88b7eb22"
      },
      "execution_count": 11,
      "outputs": [
        {
          "output_type": "display_data",
          "data": {
            "image/png": "[encoded data removed]",
            "text/plain": [
              "<IPython.core.display.Image object>"
            ]
          },
          "metadata": {}
        }
      ]
    },
    {
      "cell_type": "code",
      "source": [
        "question = \"What is dividend?\"\n",
        "\n",
        "response = rag_pipeline.run(\n",
        "    {\"retriever\": {\"query\": question}, \"prompt_builder\": {\"question\": question}, \"answer_builder\": {\"query\": question}}\n",
        ")"
      ],
      "metadata": {
        "id": "Os47bIB5BCg5"
      },
      "execution_count": 12,
      "outputs": []
    },
    {
      "cell_type": "code",
      "source": [
        "print(response[\"answer_builder\"][\"answers\"][0].data)"
      ],
      "metadata": {
        "colab": {
          "base_uri": "https://localhost:8080/"
        },
        "id": "2v9DIgdNBc4u",
        "outputId": "7793e238-0aa2-4207-95df-49393a7ed39c"
      },
      "execution_count": 13,
      "outputs": [
        {
          "output_type": "stream",
          "name": "stdout",
          "text": [
            "A dividend is a payment made by a corporation to its shareholders, typically derived from the company's profits. It represents a portion of the company's earnings that is distributed to investors as an incentive for holding the stock. Dividends can be issued in various forms, such as cash payments or additional shares of stock, and they are often expressed as a percentage yield relative to the stock's price, which in this case is 3.04%.\n"
          ]
        }
      ]
    },
    {
      "cell_type": "markdown",
      "source": [
        "## Prepare `questions`, `contexts`, `responses` and `ground truths` for evaluation"
      ],
      "metadata": {
        "id": "pzx7_1qsS59V"
      }
    },
    {
      "cell_type": "code",
      "source": [
        "def get_contexts_and_responses(questions, pipeline):\n",
        "    contexts = []\n",
        "    responses = []\n",
        "    for question in questions:\n",
        "        response = pipeline.run(\n",
        "            {\n",
        "                \"retriever\": {\"query\": question},\n",
        "                \"prompt_builder\": {\"question\": question},\n",
        "                \"answer_builder\": {\"query\": question},\n",
        "            }\n",
        "        )\n",
        "\n",
        "        contexts.append([d.content for d in response[\"answer_builder\"][\"answers\"][0].documents])\n",
        "        responses.append(response[\"answer_builder\"][\"answers\"][0].data)\n",
        "    return contexts, responses"
      ],
      "metadata": {
        "id": "vZTZ-6nuCdel"
      },
      "execution_count": 14,
      "outputs": []
    },
    {
      "cell_type": "code",
      "source": [
        "question_map = {\n",
        "    0: \"Pros & cons of investing in gold vs. platinum?\",\n",
        "    1: \"What percent of my salary should I save?\",\n",
        "    2: \"When to start investing in the stock market?\",\n",
        "    3: \"Why does the Brexit cause a fall in crude oil prices?\",\n",
        "    4: \"How to calculate 1 share movement?\",\n",
        "    5: \"How can I register a UK business without providing a business address?\",\n",
        "    6: \"Should I buy a house with a friend?\",\n",
        "    7: \"Can I claim mileage for traveling to a contract position?\",\n",
        "    8: \"How do I figure out the market value of used books?\",\n",
        "    9: \"Following an investment guru a good idea?\",\n",
        "    10: \"How can I find ISIN numbers for stock options?\",\n",
        "    11: \"How much is inflation?\",\n",
        "    12: \"Does a falling dollar mean doom for real estate?\",\n",
        "    13: \"What does investment bank risk during IPO?\",\n",
        "    14: \"How should my brother and I structure our real estate purchase?\",\n",
        "    15: \"What to do with $50,000?\",\n",
        "    16: \"Will my Indian debit card work in the U.S.?\",\n",
        "    17: \"Recent college grad. Down payment on a house or car?\",\n",
        "    18: \"What is a Discount Called in the Context of a Negative Interest Rate?\",\n",
        "    19: \"What is the US Fair Tax?\",\n",
        "    20: \"Will unpaid taxes prevent me from getting a business license?\",\n",
        "    21: \"Mortgage implications if I were to quit my job shortly after being approved?\",\n",
        "    22: \"How does compounding of annual interest work?\",\n",
        "    23: \"How do I protect money above the FDIC coverage limit?\",\n",
        "    24: \"Do brokers execute every trade on the exchange?\",\n",
        "    25: \"What factors should I consider when evaluating index funds?\",\n",
        "    26: \"What is a subsidy?\",\n",
        "    27: \"What is Fibonacci values?\",\n",
        "    28: \"Why do stock or commodity prices sometimes rise suddenly just before market close?\",\n",
        "    29: \"What percentage of my company should I have if I only put money?\",\n",
        "}\n",
        "\n",
        "\n",
        "questions = list(question_map.values())\n",
        "contexts, responses = get_contexts_and_responses(questions, rag_pipeline)"
      ],
      "metadata": {
        "id": "RRXdp9owDDL9"
      },
      "execution_count": 15,
      "outputs": []
    },
    {
      "cell_type": "markdown",
      "source": [
        "## Set ground truths"
      ],
      "metadata": {
        "id": "WNEKa30eTEFa"
      }
    },
    {
      "source": [
        "ground_truths = [\"\"] * len(question_map)\n",
        "\n",
        "for index, question in question_map.items():\n",
        "    row = df.loc[df[\"question\"] == question]\n",
        "    if not row.empty:\n",
        "        ground_truths[index] = row[\"chatgpt_answers\"].values[0][0]\n",
        "    else:\n",
        "        print(\"Not found in DataFrame\")"
      ],
      "cell_type": "code",
      "metadata": {
        "colab": {
          "base_uri": "https://localhost:8080/"
        },
        "id": "UoYA8XAK79tZ",
        "outputId": "7c996427-ba9d-4808-c631-8cd900272972"
      },
      "execution_count": 16,
      "outputs": [
        {
          "output_type": "stream",
          "name": "stdout",
          "text": [
            "Not found in DataFrame\n",
            "Not found in DataFrame\n"
          ]
        }
      ]
    },
    {
      "cell_type": "code",
      "source": [
        "def print_values(values):\n",
        "    print(f\"{values}\\n\")\n",
        "    print(\"\\n\".join(values))"
      ],
      "metadata": {
        "id": "3_47o83VDymu"
      },
      "execution_count": 17,
      "outputs": []
    },
    {
      "cell_type": "code",
      "source": [
        "print_values(questions)"
      ],
      "metadata": {
        "colab": {
          "base_uri": "https://localhost:8080/"
        },
        "id": "j1J8Zg4OFvxT",
        "outputId": "171e5182-5254-46e9-9531-a4f2ee8020ff"
      },
      "execution_count": 18,
      "outputs": [
        {
          "output_type": "stream",
          "name": "stdout",
          "text": [
            "['Pros & cons of investing in gold vs. platinum?', 'What percent of my salary should I save?', 'When to start investing in the stock market?', 'Why does the Brexit cause a fall in crude oil prices?', 'How to calculate 1 share movement?', 'How can I register a UK business without providing a business address?', 'Should I buy a house with a friend?', 'Can I claim mileage for traveling to a contract position?', 'How do I figure out the market value of used books?', 'Following an investment guru a good idea?', 'How can I find ISIN numbers for stock options?', 'How much is inflation?', 'Does a falling dollar mean doom for real estate?', 'What does investment bank risk during IPO?', 'How should my brother and I structure our real estate purchase?', 'What to do with $50,000?', 'Will my Indian debit card work in the U.S.?', 'Recent college grad. Down payment on a house or car?', 'What is a Discount Called in the Context of a Negative Interest Rate?', 'What is the US Fair Tax?', 'Will unpaid taxes prevent me from getting a business license?', 'Mortgage implications if I were to quit my job shortly after being approved?', 'How does compounding of annual interest work?', 'How do I protect money above the FDIC coverage limit?', 'Do brokers execute every trade on the exchange?', 'What factors should I consider when evaluating index funds?', 'What is a subsidy?', 'What is Fibonacci values?', 'Why do stock or commodity prices sometimes rise suddenly just before market close?', 'What percentage of my company should I have if I only put money?']\n",
            "\n",
            "Pros & cons of investing in gold vs. platinum?\n",
            "What percent of my salary should I save?\n",
            "When to start investing in the stock market?\n",
            "Why does the Brexit cause a fall in crude oil prices?\n",
            "How to calculate 1 share movement?\n",
            "How can I register a UK business without providing a business address?\n",
            "Should I buy a house with a friend?\n",
            "Can I claim mileage for traveling to a contract position?\n",
            "How do I figure out the market value of used books?\n",
            "Following an investment guru a good idea?\n",
            "How can I find ISIN numbers for stock options?\n",
            "How much is inflation?\n",
            "Does a falling dollar mean doom for real estate?\n",
            "What does investment bank risk during IPO?\n",
            "How should my brother and I structure our real estate purchase?\n",
            "What to do with $50,000?\n",
            "Will my Indian debit card work in the U.S.?\n",
            "Recent college grad. Down payment on a house or car?\n",
            "What is a Discount Called in the Context of a Negative Interest Rate?\n",
            "What is the US Fair Tax?\n",
            "Will unpaid taxes prevent me from getting a business license?\n",
            "Mortgage implications if I were to quit my job shortly after being approved?\n",
            "How does compounding of annual interest work?\n",
            "How do I protect money above the FDIC coverage limit?\n",
            "Do brokers execute every trade on the exchange?\n",
            "What factors should I consider when evaluating index funds?\n",
            "What is a subsidy?\n",
            "What is Fibonacci values?\n",
            "Why do stock or commodity prices sometimes rise suddenly just before market close?\n",
            "What percentage of my company should I have if I only put money?\n"
          ]
        }
      ]
    },
    {
      "cell_type": "code",
      "source": [
        "print_values(responses)"
      ],
      "metadata": {
        "colab": {
          "base_uri": "https://localhost:8080/"
        },
        "id": "k7lYz9F7F1Bu",
        "outputId": "859e97f4-5018-4dcc-e054-5773937a9088"
      },
      "execution_count": 19,
      "outputs": [
        {
          "output_type": "stream",
          "name": "stdout",
          "text": [
            "['**Pros & Cons of Investing in Gold vs. Platinum**\\n\\n**Gold:**\\n\\n*Pros:*\\n1. **Historical Stability**: Gold has a long history of being a safe-haven asset, retaining value during economic downturns and inflation.\\n2. **Liquidity**: Gold is widely traded, which makes it easier to buy and sell.\\n3. **Cultural Significance**: Gold has significant cultural and historical importance in many societies, enhancing its desirability.\\n4. **Inflation Hedge**: Often viewed as a hedge against inflation, gold typically retains its value when currencies weaken.\\n5. **Portfolio Diversification**: Gold can provide diversification benefits for an investment portfolio, reducing overall risk.\\n\\n*Cons:*\\n1. **No Income Generation**: Gold does not generate income (like dividends or interest), which can be a drawback for some investors.\\n2. **Storage and Insurance Costs**: Physical gold requires secure storage and may require insurance, adding to holding costs.\\n3. **Volatility**: Despite being a stable asset over the long term, gold prices can be quite volatile in the short term.\\n4. **Market Sentiment**: Gold prices can be heavily influenced by market sentiment and speculation rather than fundamental value.\\n\\n**Platinum:**\\n\\n*Pros:*\\n1. **Industrial Demand**: Platinum has significant industrial uses, particularly in automotive catalysis and electronics, which can drive demand.\\n2. **Scarcity**: Platinum is rarer than gold, which can lead to potential price appreciation over time as demand outstrips supply.\\n3. **Higher Price Potential**: Due to its scarcity and industrial demand, platinum has the potential for higher price increases during certain market conditions.\\n4. **Jewelry Appeal**: Platinum is also valued in the jewelry market, sometimes commanding higher prices than gold, especially in luxury items.\\n\\n*Cons:*\\n1. **Greater Price Volatility**: Platinum prices can be more volatile than gold due to fluctuations in industrial demand and supply chain issues.\\n2. **Less Liquidity**: The platinum market is smaller than the gold market, which may result in lower liquidity and difficulty in selling.\\n3. **Economic Sensitivity**: Platinum is more affected by economic cycles due to its industrial use, making it more risky during economic downturns.\\n4. **Storage Costs**: Like gold, physical platinum requires secure storage and may incur associated costs.\\n\\nIn summary, investing in gold is often viewed as a safer, more stable choice for wealth preservation, while platinum may offer higher potential gains driven by industrial demand but comes with greater risks and volatility.', \"It is generally recommended that individuals aim to save at least 20% of their salary. However, for a graduate student, it may be more realistic to save around 10-15% depending on their financial situation and expenses. Ultimately, the ideal percentage for saving can vary based on personal circumstances, including income, expenses, and financial goals. Therefore, it's essential to evaluate your own situation to determine what percentage works best for you.\", \"The best time to start investing in the stock market varies for each individual based on their financial situation, goals, and risk tolerance. Generally, it is advisable to start investing when you have a stable financial foundation, including:\\n\\n1. An emergency fund: Ensure you have savings set aside for unexpected expenses.\\n2. Clear debts: Pay off high-interest debts before investing to maximize your investment potential.\\n3. Understanding of your financial goals: Determine what you want to achieve through investing, whether it's long-term growth, saving for retirement, or other financial objectives.\\n4. Familiarity with the market: Educate yourself about investing basics and market dynamics.\\n\\nIf you're ready to invest and have the above foundations in place, you can begin your investment journey. Always consider consulting a financial advisor for personalized advice tailored to your specific circumstances.\", \"The Brexit can cause a fall in crude oil prices for several reasons:\\n\\n1. **Economic Uncertainty**: Brexit introduces significant uncertainty in the UK's economic outlook, which can lead to concerns about reduced economic activity. Uncertainty about future trade relationships and regulatory frameworks can cause investors to anticipate lower demand for oil, as corporations may cut back on production and consumers may spend less.\\n\\n2. **Currency Fluctuations**: The Brexit vote can lead to volatility in the value of the British pound and other currencies. A weaker pound can affect global markets and lead to lower oil prices, as oil is often priced in dollars. If the pound weakens against the dollar, it can reduce the purchasing power of UK consumers and businesses, also leading to lower demand for oil.\\n\\n3. **Shift in Investments**: Investors may reassess their portfolios in light of the Brexit vote, moving away from commodities like oil to safer investments, which can result in a decreased demand for crude oil futures and a subsequent price drop.\\n\\n4. **Global Market Reactions**: The global oil market is interconnected. Any major political or economic event that increases uncertainty can lead to a sell-off in commodities, including crude oil. \\n\\nBy creating a climate of uncertainty and potentially lowering demand, Brexit may ultimately put downward pressure on crude oil prices.\", \"To calculate 1 share movement, you typically look at the change in price of a stock between two points in time. Here's a simple way to calculate it:\\n\\n1. **Identify the Initial Price:** Determine the price of the share at the starting point (initial price).\\n\\n2. **Identify the Final Price:** Determine the price of the share at the ending point (final price).\\n\\n3. **Calculate the Movement:** Subtract the initial price from the final price.\\n\\nFormula:\\n\\\\[ \\\\text{Share Movement} = \\\\text{Final Price} - \\\\text{Initial Price} \\\\]\\n\\n4. **Interpret the Movement:**\\n   - If the result is positive, it indicates that the share price has increased.\\n   - If the result is negative, it indicates that the share price has decreased.\\n\\nFor example, if the initial price of a share is $50 and the final price is $55, then:\\n\\n\\\\[ \\\\text{Share Movement} = 55 - 50 = 5 \\\\]\\n\\nThis means there was a positive movement of $5 per share. Conversely, if the final price were $48, then:\\n\\n\\\\[ \\\\text{Share Movement} = 48 - 50 = -2 \\\\]\\n\\nThis indicates a negative movement of $2 per share.\", \"To register a UK business without providing a personal business address, you have a few options:\\n\\n1. **Use a Registered Office Service**: You can use a registered office service provided by various companies. These services offer a business address that can be used for official correspondence and registration purposes. They will forward any mail to your preferred address.\\n\\n2. **Virtual Office**: Similar to registered office services, a virtual office can provide you with a professional business address without needing to have a physical presence at that location. This can also include additional services such as phone answering, mail handling, and meeting room access.\\n\\n3. **Commercial Property**: If you plan to operate from a commercial property, you can register your business using that address, even if you don't operate from there physically.\\n\\n4. **Using your Accountant's Address**: If you have an accountant, they may allow you to use their business address for registration.\\n\\nWhen choosing any of these options, ensure that the address is legitimate and is compliant with UK registration regulations. This address will be publicly available, so consider privacy and security implications.\", \"Buying a house with a friend can have both advantages and disadvantages. Here are some factors to consider in making your decision:\\n\\n**Advantages:**\\n1. **Shared Financial Burden:** Splitting the costs of the mortgage, property taxes, and maintenance can make homeownership more affordable for both parties.\\n2. **Investment Potential:** Real estate can appreciate over time, so co-owning a property may be a good investment for both of you.\\n3. **Companionship in Homeownership:** Sharing a home can lead to a supportive living environment, especially if you have a good relationship.\\n\\n**Disadvantages:**\\n1. **Complicated Finances:** Joint ownership means both of you are financially tied to the house, which can complicate your personal finances and credit.\\n2. **Potential for Conflict:** Disagreements over finances, property decisions, or living arrangements can strain your friendship.\\n3. **Exit Strategy:** If one of you wants to sell or move, it may be challenging to navigate the process, especially if you can't agree.\\n\\n**Conclusion:** \\nWhether you should buy a house with a friend depends on your relationship, financial stability, and willingness to navigate potential challenges together. Make sure to have clear agreements and discussions about responsibilities and expectations to mitigate risks. Consulting with a financial advisor or real estate professional may also help you make a more informed decision.\", \"Yes, you can generally claim mileage for traveling to a contract position, as long as the travel is related to your work and not commuting to a permanent job site. The IRS allows individuals to deduct mileage for business-related trips, including trips to client meetings or contract locations. It’s important to keep detailed records of your mileage, including dates, destinations, and the purpose of your trips. For specific guidelines and eligibility, it's advisable to consult a tax professional or refer to the IRS guidelines on deductible business expenses.\", 'To figure out the market value of used books, you can follow these steps:\\n\\n1. **Research Online Marketplaces**: Check platforms such as Amazon, eBay, AbeBooks, and Alibris to see current listings and selling prices for the same titles in similar conditions.\\n\\n2. **Condition Assessment**: Evaluate the condition of the book (e.g., new, like new, very good, acceptable) as this greatly affects its value. Be honest about wear and tear, highlighting any significant flaws.\\n\\n3. **Consider Rarity and Demand**: Assess how rare the book is and its demand among collectors or readers. First editions, signed copies, or out-of-print titles often carry higher values.\\n\\n4. **Check Price Aggregators**: Use book price comparison websites or tools that aggregate prices from multiple sources to find a comprehensive view of the market value.\\n\\n5. **Ask for Expert Opinions**: Consult with local bookstores, used book shops, or online communities on platforms like Reddit or specialized book collector forums to get insights on pricing.\\n\\n6. **Track Historical Prices**: Look at completed sales in online marketplaces to see what similar books have sold for in the past, as this provides a more accurate reflection of the market value.\\n\\n7. **Local Market Variations**: Consider the local demand for certain genres or titles. Niche markets might have different valuations than broader markets.\\n\\nBy combining this information, you can establish a fair market value for your used books.', \"Following an investment guru can be a good idea if you carefully evaluate their track record, investment philosophy, and the rationale behind their strategies. It's important to consider how their advice aligns with your own financial goals and risk tolerance. Additionally, relying solely on someone else's perspective without conducting your own research can be risky. Always supplement their guidance with your own analysis and understanding of the market.\", \"You can find ISIN (International Securities Identification Number) numbers for stock options by following these steps:\\n\\n1. **Check with your Brokerage**: Many brokerage platforms provide detailed information on stock options, including their ISIN numbers. You can log in to your account and search for the specific option you are interested in.\\n\\n2. **Visit Financial Market Websites**: Websites like Bloomberg, Reuters, or Yahoo Finance often list detailed data for stock options, including ISINs. You can search by the underlying stock or the specific options.\\n\\n3. **Consult the Exchange**: The stock exchange where the options are listed (such as the CBOE or NYSE) usually provides information on their listings. Check their official website or contact their customer service.\\n\\n4. **Use Financial Databases**: If you have access to financial databases such as FactSet, S&P Capital IQ, or Morningstar, you can search for the options and find their associated ISINs.\\n\\n5. **Contact the Issuer**: If you're looking for a specific stock option, you can also reach out directly to the company that issued the options for their ISIN information.\\n\\nBy utilizing these resources, you should be able to find the ISIN numbers for stock options.\", \"Inflation is typically measured as the percentage increase in the prices of goods and services over a certain period, usually annually. To find out the current rate of inflation, you would need to refer to economic reports or indices such as the Consumer Price Index (CPI) or Producer Price Index (PPI) published by government agencies. As of my last knowledge update in October 2023, I don't have the exact current rate of inflation, but you can look it up on financial news websites or government statistics pages for the most recent figure.\", 'A falling dollar does not necessarily mean doom for real estate. In fact, it can have both positive and negative impacts on the real estate market. \\n\\nOn the positive side, a weaker dollar can make U.S. real estate more attractive to foreign investors, as their purchasing power increases when converting their stronger currencies to dollars. This influx of foreign investment can drive up demand and potentially increase property values.\\n\\nOn the negative side, a falling dollar may lead to higher inflation and increased costs for construction materials and services, which could impact new development and pricing in the real estate market. Additionally, if the dollar falls too significantly, it might signal broader economic instability, which could dampen investor confidence.\\n\\nUltimately, the relationship between a falling dollar and real estate is complex and influenced by various factors, including overall economic conditions, interest rates, and local market dynamics.', \"During an Initial Public Offering (IPO), an investment bank faces several risks, including:\\n\\n1. **Market Risk**: The investment bank risks losing money if the market conditions are unfavorable at the time of the IPO. If investor demand is weak, the stock price may fall below the offering price, resulting in losses.\\n\\n2. **Reputation Risk**: If the IPO is not successful or if the stock performs poorly post-IPO, it can damage the bank's reputation. This can affect future business with clients and lead to a loss of trust in the bank's advisory capabilities.\\n\\n3. **Underwriting Risk**: If the bank underwrites the IPO, it may have to buy unsold shares at the offering price, leading to potential financial losses if it cannot sell those shares at a profit.\\n\\n4. **Regulatory Risk**: The investment bank must comply with various regulations during the IPO process. Any missteps or violations could result in legal penalties or damage to the bank's standing with regulators.\\n\\n5. **Valuation Risk**: Accurately pricing the IPO is crucial. If the shares are priced too high, they may not attract investors; if priced too low, the bank may not fully capitalize on the company’s value.\\n\\nOverall, the investment bank risks losing capital, facing reputational damage, and dealing with regulatory issues during an IPO.\", \"When considering how to structure your real estate purchase with your brother, there are several key factors to think about:\\n\\n1. **Type of Property**: Decide whether you want to purchase real estate to rent out or a property to live in. If you choose to rent, consider the potential cash flow, rental demand, and ongoing expenses. If you choose to live in the property, assess whether the value appreciation is worth giving up rental income.\\n\\n2. **Ownership Structure**: You can structure the ownership in several ways:\\n    - **Joint Tenancy**: Both owners hold equal shares and have the right of survivorship, meaning if one owner passes away, the other automatically inherits their share.\\n    - **Tenancy in Common**: Each owner can have different ownership percentages, and upon death, the deceased's share can be passed to their heirs rather than the other owner.\\n    - **LLC Formation**: Consider establishing a Limited Liability Company (LLC) to protect personal assets from liabilities associated with the property. This can also offer tax advantages.\\n\\n3. **Financing**: Depending on your financial situation, determine how much each of you will contribute toward the down payment and monthly mortgage payments. You could also consider different financing options, like traditional mortgages, FHA loans, or investment loans.\\n\\n4. **Agreement Terms**: Draft a partnership agreement detailing each person's responsibilities, profit-sharing arrangements, exit strategies, and decision-making processes. This helps prevent misunderstandings down the line.\\n\\n5. **Exit Strategy**: Plan how you’ll handle the sale of the property or buyout scenarios in case one of you wants to exit the investment.\\n\\n6. **Tax Considerations**: Consult a tax advisor to understand the implications of your investment, including any deductions for rental properties, capital gains tax, and the potential benefits of LLC structuring.\\n\\nBy carefully considering these points, you can create a structured plan for your real estate investment that aligns with your financial goals and personal circumstances.\", 'When considering what to do with $50,000, here are several options to explore:\\n\\n1. **Invest in Stocks or ETFs**: You can invest in individual stocks or exchange-traded funds (ETFs) to potentially grow your money over time. Research companies or sectors that interest you and consider diversifying your portfolio.\\n\\n2. **Real Estate Investment**: Depending on your market, $50,000 could serve as a down payment on a rental property or be used to invest in real estate investment trusts (REITs).\\n\\n3. **Emergency Fund**: If you don’t already have one, consider setting aside funds for an emergency fund that covers 3-6 months’ worth of living expenses for financial security.\\n\\n4. **Retirement Account**: Maximize contributions to retirement accounts, such as a Roth IRA or a 401(k), to benefit from tax advantages while saving for retirement.\\n\\n5. **Education or Self-Improvement**: Invest in furthering your education or skills, which could enhance your earning potential.\\n\\n6. **Starting a Business**: If you have a business idea, you might invest in starting or expanding a business.\\n\\n7. **Pay Off Debt**: If you have high-interest debt, consider using the funds to pay it down, which will save you money on interest in the long run.\\n\\n8. **Diversification**: Consider a combination of the above strategies to spread risk while also aiming for growth.\\n\\n9. **Consult a Financial Advisor**: A professional can provide personalized advice tailored to your financial situation and goals.\\n\\nBefore making any decisions, assess your financial goals, risk tolerance, and timeline to ensure that your investments align with your long-term objectives.', \"Yes, your Indian debit card can work in the U.S. if it is issued by a globally recognized network like MasterCard or Visa. However, it is essential to check with your bank about any foreign transaction fees and to ensure that your card is activated for international use. Additionally, not all merchants may accept foreign debit cards, so it's a good idea to carry some cash or have an alternative payment method available.\", \"As a recent college grad, your decision to make a down payment on a house or a car largely depends on your personal financial situation, goals, and priorities. \\n\\nIf you are considering buying a house, it's generally recommended to aim for a down payment of at least 20% of the home's purchase price to avoid private mortgage insurance (PMI) and secure better loan terms. However, many lenders allow lower down payments, sometimes as low as 3% to 5%. \\n\\nOn the other hand, if you are upside down on your car loan (meaning you owe more on the loan than the car is worth) and need a different car, it may be worth evaluating whether it's feasible to trade in your current vehicle and roll the negative equity into a new loan. However, this can increase your monthly payments and overall debt, so it's important to consider your budget and long-term financial implications.\\n\\nUltimately, if home ownership is a significant goal for you and you can afford a reasonable down payment, prioritizing saving for a house may be more beneficial in the long run. If reliable transportation is more urgent given your current circumstances, addressing the car situation first might be necessary. \\n\\nEvaluate your current financial standing, long-term goals, and the practicality of each option before making a decision.\", 'In the context of a negative interest rate, a discount may be referred to as a \"negative yield.\" This means that instead of earning interest on an investment, the investor effectively pays to hold that investment, resulting in a loss over time.', 'The US Fair Tax is a proposed tax reform plan that aims to replace the current federal income tax system with a national sales tax on goods and services. It would abolish personal and corporate income taxes, as well as payroll taxes, and instead levy a single consumption tax on new products and services at the point of sale. The Fair Tax is designed to simplify the tax system, eliminate the need for tax returns, and promote economic growth by incentivizing savings and investment. It includes a refund mechanism, known as a \"prebate,\" to offset the tax burden on essential goods for low-income individuals and families.', 'Yes, unpaid taxes can prevent you from obtaining a business license. Many jurisdictions require proof of paid taxes as part of the application process for a business license. If you have outstanding tax liabilities, it may hinder your ability to get licensed until those debts are resolved. Always check with your local regulatory body for specific requirements related to business licensing.', \"If you were to quit your job shortly after being approved for a mortgage, there could be several implications:\\n\\n1. **Employment Verification:** Mortgage lenders typically perform an employment verification right before closing. If you quit your job, it may raise concerns about your ability to make mortgage payments, and the lender could rescind the loan offer.\\n\\n2. **Loan Approval Status:** Depending on the lender's policies, quitting your job could affect your loan status. If the lender determines that your employment situation has changed significantly, they may either delay the closing process or cancel the mortgage application altogether.\\n\\n3. **Debt-to-Income Ratio:** Losing your job means you’d have a loss of income, which could negatively impact your debt-to-income ratio—one of the key factors lenders consider when evaluating whether you can afford the mortgage payments.\\n\\n4. **Post-Approval Conditions:** Many lenders include conditions that require you to maintain your employment until after closing. Quitting your job could lead to complications with these requirements and potentially cause issues with the loan process.\\n\\n5. **Impact on Future Borrowing:** If you were to quit your job and then seek a new employment opportunity, any gap in employment could affect your creditworthiness and your ability to secure future loans.\\n\\nIn summary, quitting your job after being approved for a mortgage could jeopardize the loan approval and financing process, potentially leading to the loss of the mortgage and causing financial difficulties. It's essential to communicate any employment changes with your lender as soon as possible.\", \"Compounding of annual interest refers to the process where the interest earned on an investment or savings account is added to the principal amount, and this new total becomes the basis for calculating future interest. This means that not only does your original investment earn interest, but the interest that accumulates over time also earns interest.\\n\\nHere’s how it works step-by-step:\\n\\n1. **Initial Principal**: You start with an initial amount of money, known as the principal.\\n\\n2. **Interest Rate**: This principal earns interest at a specified rate, generally expressed as a percentage annually.\\n\\n3. **Interest Period**: Compounding can occur annually, semi-annually, quarterly, monthly, or even daily. The more frequently interest is compounded, the more interest you will earn over time.\\n\\n4. **Calculation of Interest**: At the end of each compounding period, the interest earned is calculated and added to the principal. For example, if you have $1,000 at an annual interest rate of 5%, after the first year, you'd earn $50 in interest.\\n\\n5. **New Principal for Next Period**: The new principal for the following period is the sum of the original principal and the interest earned. Using our example, after one year, your new principal would be $1,050.\\n\\n6. **Repeat**: This process repeats for each compounding period. Each time, you calculate interest on the new principal, leading to exponential growth of your investment over time.\\n\\nThe formula for calculating the future value with compounding interest is:\\n\\n\\\\[ A = P (1 + r/n)^{nt} \\\\]\\n\\nWhere:\\n- \\\\( A \\\\) = the amount of money accumulated after n years, including interest.\\n- \\\\( P \\\\) = principal amount (the initial amount of money).\\n- \\\\( r \\\\) = annual interest rate (in decimal).\\n- \\\\( n \\\\) = number of times that interest is compounded per year.\\n- \\\\( t \\\\) = number of years the money is invested or borrowed.\\n\\nIn summary, compounding of annual interest allows your money to grow at an accelerating rate over time, making it a powerful tool for savings and investment.\", 'To protect money above the FDIC coverage limit, you can consider the following strategies:\\n\\n1. **Split Accounts Among Different Banks**: Since the FDIC insures deposits up to $250,000 per depositor, per bank, and per account category, you can open accounts at multiple banks to keep your total insured amount within limits.\\n\\n2. **Use Different Account Types**: If you have different account types (like savings, checking, or retirement accounts) at the same bank, each account type is insured separately, allowing you to increase your coverage at one bank.\\n\\n3. **Consider NCUA Insurance**: If you use a credit union, the National Credit Union Administration (NCUA) provides similar insurance coverage as the FDIC for deposits.\\n\\n4. **Invest in Other Assets**: Rather than keeping large amounts in cash deposits, consider diversifying your investments into stocks, bonds, mutual funds, or real estate, which can potentially offer higher returns.\\n\\n5. **Use Certificates of Deposit (CDs)**: By using CDs and staggering their maturity dates (a strategy known as CD laddering), you can maintain liquidity while still ensuring that the portions of your funds remain insured.\\n\\n6. **Explore Treasury Securities**: U.S. Treasury securities like bonds and bills are backed by the government and considered very low-risk investments. \\n\\n7. **Utilize a Money Market Account**: Some money market accounts can offer higher interest rates than savings accounts while also providing FDIC insurance, but you still need to be mindful of the coverage limits.\\n\\n8. **Consult a Financial Advisor**: A financial expert can help you develop a strategy tailored to your specific situation, including how best to protect your funds and grow your wealth.\\n\\nBy taking these steps, you can increase the safety of your funds above the FDIC insurance limit.', 'No, brokers do not execute every trade on the exchange. Brokers act as intermediaries between buyers and sellers, but they may not execute all trades for various reasons, such as market conditions, order types, or specific client instructions. Additionally, some orders may not be filled if there are no matching buy or sell orders at the desired price.', \"When evaluating index funds, consider the following factors:\\n\\n1. **Expense Ratio**: Look at the fees associated with the fund, including management fees and other costs. A lower expense ratio can significantly impact your long-term returns.\\n\\n2. **Tracking Error**: Evaluate how closely the fund follows its benchmark index. A lower tracking error indicates better performance in mirroring the index.\\n\\n3. **Liquidity**: Consider the trading volume of the fund. Higher liquidity typically results in tighter bid-ask spreads, which can reduce trading costs.\\n\\n4. **Fund Size**: The total assets under management (AUM) can affect the fund's stability and its ability to track its index efficiently. Larger funds often benefit from economies of scale.\\n\\n5. **Tax Efficiency**: Assess how the fund manages capital gains distributions, as this can affect your tax liability. Some funds might be more tax-efficient than others.\\n\\n6. **Rebalancing Strategy**: Understand how often the fund rebalances its portfolio to align with the index. More frequent rebalancing can lead to higher trading costs.\\n\\n7. **Index Methodology**: Know the type of index the fund is tracking and the criteria used to select and weight components (e.g., market-cap weighting vs. equal-weighting).\\n\\n8. **Performance History**: While past performance does not guarantee future results, examining historical performance relative to the index can provide insights into the fund's reliability.\\n\\n9. **Management Company Reputation**: Consider the reputation and experience of the fund provider, as this can impact your overall experience with the fund.\\n\\n10. **Investment Strategy Alignment**: Ensure that the fund aligns with your investment goals, risk tolerance, and overall investment strategy.\\n\\nBy considering these factors, you can make a more informed decision when evaluating index funds.\", 'A subsidy is a financial assistance or support provided by the government to individuals, organizations, or industries to promote and encourage economic activities, reduce the cost of goods and services, or achieve specific policy goals. Subsidies can take various forms, including direct cash payments, tax breaks, grants, or lower interest rates, and they are often used to help sectors like agriculture, education, energy, and healthcare. The intention behind subsidies is to enhance economic growth, make essential goods more affordable, or support sectors that may be struggling.', 'Fibonacci values refer to the numbers in the Fibonacci sequence, which is a series of numbers in which each number (after the first two) is the sum of the two preceding ones. The sequence typically starts with 0 and 1, leading to a pattern that looks like this: 0, 1, 1, 2, 3, 5, 8, 13, 21, 34, and so on. This sequence is often found in mathematics and nature, such as in the arrangement of leaves on a stem or the branching of trees. Fibonacci values are also used in various fields, including computer science, art, and finance, often related to growth patterns and ratios.', 'Stock or commodity prices may rise suddenly just before market close due to several factors, including:\\n\\n1. **End-of-Day Positioning**: Traders and institutional investors often adjust their positions to reflect their outlooks or to lock in gains before the market closes. This may lead to increased buying activity that drives prices up.\\n\\n2. **Volume and Liquidity**: As the market approaches closing time, trading volume can increase, particularly if there is news or events that traders want to act on before the day ends. This heightened liquidity can result in sharper price movements.\\n\\n3. **Market Sentiment**: Positive news or developments may surface close to the market close, prompting traders to buy in anticipation of future gains. This can quickly push prices higher as more participants react to the news.\\n\\n4. **Window Dressing**: Fund managers may engage in “window dressing”—buying well-performing stocks to improve the appearance of their portfolios at the end of the trading day, which can lead to price increases.\\n\\n5. **Short Covering**: Traders who have short-sold stocks may buy them back to cover their positions as the market nears close, particularly if they anticipate further price increases, which can also contribute to a sudden rise in prices.\\n\\nOverall, a combination of trading strategies, news updates, and market psychology can lead to abrupt price increases as the market nears closing time.', 'The percentage of your company you should have if you only put in money depends on various factors, including the total value of the company, the amount of money you contribute, and the contributions of other stakeholders or partners. A common approach to determine ownership percentage is to use the formula:\\n\\n\\\\[ \\\\text{Ownership Percentage} = \\\\left( \\\\frac{\\\\text{Your Investment}}{\\\\text{Total Company Valuation}} \\\\right) \\\\times 100 \\\\]\\n\\nIf you know the total valuation of the company and the amount of money you are investing, you can plug those values into the formula to calculate your ownership percentage. \\n\\nIf you provide specific numbers, I can help you calculate it!']\n",
            "\n",
            "**Pros & Cons of Investing in Gold vs. Platinum**\n",
            "\n",
            "**Gold:**\n",
            "\n",
            "*Pros:*\n",
            "1. **Historical Stability**: Gold has a long history of being a safe-haven asset, retaining value during economic downturns and inflation.\n",
            "2. **Liquidity**: Gold is widely traded, which makes it easier to buy and sell.\n",
            "3. **Cultural Significance**: Gold has significant cultural and historical importance in many societies, enhancing its desirability.\n",
            "4. **Inflation Hedge**: Often viewed as a hedge against inflation, gold typically retains its value when currencies weaken.\n",
            "5. **Portfolio Diversification**: Gold can provide diversification benefits for an investment portfolio, reducing overall risk.\n",
            "\n",
            "*Cons:*\n",
            "1. **No Income Generation**: Gold does not generate income (like dividends or interest), which can be a drawback for some investors.\n",
            "2. **Storage and Insurance Costs**: Physical gold requires secure storage and may require insurance, adding to holding costs.\n",
            "3. **Volatility**: Despite being a stable asset over the long term, gold prices can be quite volatile in the short term.\n",
            "4. **Market Sentiment**: Gold prices can be heavily influenced by market sentiment and speculation rather than fundamental value.\n",
            "\n",
            "**Platinum:**\n",
            "\n",
            "*Pros:*\n",
            "1. **Industrial Demand**: Platinum has significant industrial uses, particularly in automotive catalysis and electronics, which can drive demand.\n",
            "2. **Scarcity**: Platinum is rarer than gold, which can lead to potential price appreciation over time as demand outstrips supply.\n",
            "3. **Higher Price Potential**: Due to its scarcity and industrial demand, platinum has the potential for higher price increases during certain market conditions.\n",
            "4. **Jewelry Appeal**: Platinum is also valued in the jewelry market, sometimes commanding higher prices than gold, especially in luxury items.\n",
            "\n",
            "*Cons:*\n",
            "1. **Greater Price Volatility**: Platinum prices can be more volatile than gold due to fluctuations in industrial demand and supply chain issues.\n",
            "2. **Less Liquidity**: The platinum market is smaller than the gold market, which may result in lower liquidity and difficulty in selling.\n",
            "3. **Economic Sensitivity**: Platinum is more affected by economic cycles due to its industrial use, making it more risky during economic downturns.\n",
            "4. **Storage Costs**: Like gold, physical platinum requires secure storage and may incur associated costs.\n",
            "\n",
            "In summary, investing in gold is often viewed as a safer, more stable choice for wealth preservation, while platinum may offer higher potential gains driven by industrial demand but comes with greater risks and volatility.\n",
            "It is generally recommended that individuals aim to save at least 20% of their salary. However, for a graduate student, it may be more realistic to save around 10-15% depending on their financial situation and expenses. Ultimately, the ideal percentage for saving can vary based on personal circumstances, including income, expenses, and financial goals. Therefore, it's essential to evaluate your own situation to determine what percentage works best for you.\n",
            "The best time to start investing in the stock market varies for each individual based on their financial situation, goals, and risk tolerance. Generally, it is advisable to start investing when you have a stable financial foundation, including:\n",
            "\n",
            "1. An emergency fund: Ensure you have savings set aside for unexpected expenses.\n",
            "2. Clear debts: Pay off high-interest debts before investing to maximize your investment potential.\n",
            "3. Understanding of your financial goals: Determine what you want to achieve through investing, whether it's long-term growth, saving for retirement, or other financial objectives.\n",
            "4. Familiarity with the market: Educate yourself about investing basics and market dynamics.\n",
            "\n",
            "If you're ready to invest and have the above foundations in place, you can begin your investment journey. Always consider consulting a financial advisor for personalized advice tailored to your specific circumstances.\n",
            "The Brexit can cause a fall in crude oil prices for several reasons:\n",
            "\n",
            "1. **Economic Uncertainty**: Brexit introduces significant uncertainty in the UK's economic outlook, which can lead to concerns about reduced economic activity. Uncertainty about future trade relationships and regulatory frameworks can cause investors to anticipate lower demand for oil, as corporations may cut back on production and consumers may spend less.\n",
            "\n",
            "2. **Currency Fluctuations**: The Brexit vote can lead to volatility in the value of the British pound and other currencies. A weaker pound can affect global markets and lead to lower oil prices, as oil is often priced in dollars. If the pound weakens against the dollar, it can reduce the purchasing power of UK consumers and businesses, also leading to lower demand for oil.\n",
            "\n",
            "3. **Shift in Investments**: Investors may reassess their portfolios in light of the Brexit vote, moving away from commodities like oil to safer investments, which can result in a decreased demand for crude oil futures and a subsequent price drop.\n",
            "\n",
            "4. **Global Market Reactions**: The global oil market is interconnected. Any major political or economic event that increases uncertainty can lead to a sell-off in commodities, including crude oil. \n",
            "\n",
            "By creating a climate of uncertainty and potentially lowering demand, Brexit may ultimately put downward pressure on crude oil prices.\n",
            "To calculate 1 share movement, you typically look at the change in price of a stock between two points in time. Here's a simple way to calculate it:\n",
            "\n",
            "1. **Identify the Initial Price:** Determine the price of the share at the starting point (initial price).\n",
            "\n",
            "2. **Identify the Final Price:** Determine the price of the share at the ending point (final price).\n",
            "\n",
            "3. **Calculate the Movement:** Subtract the initial price from the final price.\n",
            "\n",
            "Formula:\n",
            "\\[ \\text{Share Movement} = \\text{Final Price} - \\text{Initial Price} \\]\n",
            "\n",
            "4. **Interpret the Movement:**\n",
            "   - If the result is positive, it indicates that the share price has increased.\n",
            "   - If the result is negative, it indicates that the share price has decreased.\n",
            "\n",
            "For example, if the initial price of a share is $50 and the final price is $55, then:\n",
            "\n",
            "\\[ \\text{Share Movement} = 55 - 50 = 5 \\]\n",
            "\n",
            "This means there was a positive movement of $5 per share. Conversely, if the final price were $48, then:\n",
            "\n",
            "\\[ \\text{Share Movement} = 48 - 50 = -2 \\]\n",
            "\n",
            "This indicates a negative movement of $2 per share.\n",
            "To register a UK business without providing a personal business address, you have a few options:\n",
            "\n",
            "1. **Use a Registered Office Service**: You can use a registered office service provided by various companies. These services offer a business address that can be used for official correspondence and registration purposes. They will forward any mail to your preferred address.\n",
            "\n",
            "2. **Virtual Office**: Similar to registered office services, a virtual office can provide you with a professional business address without needing to have a physical presence at that location. This can also include additional services such as phone answering, mail handling, and meeting room access.\n",
            "\n",
            "3. **Commercial Property**: If you plan to operate from a commercial property, you can register your business using that address, even if you don't operate from there physically.\n",
            "\n",
            "4. **Using your Accountant's Address**: If you have an accountant, they may allow you to use their business address for registration.\n",
            "\n",
            "When choosing any of these options, ensure that the address is legitimate and is compliant with UK registration regulations. This address will be publicly available, so consider privacy and security implications.\n",
            "Buying a house with a friend can have both advantages and disadvantages. Here are some factors to consider in making your decision:\n",
            "\n",
            "**Advantages:**\n",
            "1. **Shared Financial Burden:** Splitting the costs of the mortgage, property taxes, and maintenance can make homeownership more affordable for both parties.\n",
            "2. **Investment Potential:** Real estate can appreciate over time, so co-owning a property may be a good investment for both of you.\n",
            "3. **Companionship in Homeownership:** Sharing a home can lead to a supportive living environment, especially if you have a good relationship.\n",
            "\n",
            "**Disadvantages:**\n",
            "1. **Complicated Finances:** Joint ownership means both of you are financially tied to the house, which can complicate your personal finances and credit.\n",
            "2. **Potential for Conflict:** Disagreements over finances, property decisions, or living arrangements can strain your friendship.\n",
            "3. **Exit Strategy:** If one of you wants to sell or move, it may be challenging to navigate the process, especially if you can't agree.\n",
            "\n",
            "**Conclusion:** \n",
            "Whether you should buy a house with a friend depends on your relationship, financial stability, and willingness to navigate potential challenges together. Make sure to have clear agreements and discussions about responsibilities and expectations to mitigate risks. Consulting with a financial advisor or real estate professional may also help you make a more informed decision.\n",
            "Yes, you can generally claim mileage for traveling to a contract position, as long as the travel is related to your work and not commuting to a permanent job site. The IRS allows individuals to deduct mileage for business-related trips, including trips to client meetings or contract locations. It’s important to keep detailed records of your mileage, including dates, destinations, and the purpose of your trips. For specific guidelines and eligibility, it's advisable to consult a tax professional or refer to the IRS guidelines on deductible business expenses.\n",
            "To figure out the market value of used books, you can follow these steps:\n",
            "\n",
            "1. **Research Online Marketplaces**: Check platforms such as Amazon, eBay, AbeBooks, and Alibris to see current listings and selling prices for the same titles in similar conditions.\n",
            "\n",
            "2. **Condition Assessment**: Evaluate the condition of the book (e.g., new, like new, very good, acceptable) as this greatly affects its value. Be honest about wear and tear, highlighting any significant flaws.\n",
            "\n",
            "3. **Consider Rarity and Demand**: Assess how rare the book is and its demand among collectors or readers. First editions, signed copies, or out-of-print titles often carry higher values.\n",
            "\n",
            "4. **Check Price Aggregators**: Use book price comparison websites or tools that aggregate prices from multiple sources to find a comprehensive view of the market value.\n",
            "\n",
            "5. **Ask for Expert Opinions**: Consult with local bookstores, used book shops, or online communities on platforms like Reddit or specialized book collector forums to get insights on pricing.\n",
            "\n",
            "6. **Track Historical Prices**: Look at completed sales in online marketplaces to see what similar books have sold for in the past, as this provides a more accurate reflection of the market value.\n",
            "\n",
            "7. **Local Market Variations**: Consider the local demand for certain genres or titles. Niche markets might have different valuations than broader markets.\n",
            "\n",
            "By combining this information, you can establish a fair market value for your used books.\n",
            "Following an investment guru can be a good idea if you carefully evaluate their track record, investment philosophy, and the rationale behind their strategies. It's important to consider how their advice aligns with your own financial goals and risk tolerance. Additionally, relying solely on someone else's perspective without conducting your own research can be risky. Always supplement their guidance with your own analysis and understanding of the market.\n",
            "You can find ISIN (International Securities Identification Number) numbers for stock options by following these steps:\n",
            "\n",
            "1. **Check with your Brokerage**: Many brokerage platforms provide detailed information on stock options, including their ISIN numbers. You can log in to your account and search for the specific option you are interested in.\n",
            "\n",
            "2. **Visit Financial Market Websites**: Websites like Bloomberg, Reuters, or Yahoo Finance often list detailed data for stock options, including ISINs. You can search by the underlying stock or the specific options.\n",
            "\n",
            "3. **Consult the Exchange**: The stock exchange where the options are listed (such as the CBOE or NYSE) usually provides information on their listings. Check their official website or contact their customer service.\n",
            "\n",
            "4. **Use Financial Databases**: If you have access to financial databases such as FactSet, S&P Capital IQ, or Morningstar, you can search for the options and find their associated ISINs.\n",
            "\n",
            "5. **Contact the Issuer**: If you're looking for a specific stock option, you can also reach out directly to the company that issued the options for their ISIN information.\n",
            "\n",
            "By utilizing these resources, you should be able to find the ISIN numbers for stock options.\n",
            "Inflation is typically measured as the percentage increase in the prices of goods and services over a certain period, usually annually. To find out the current rate of inflation, you would need to refer to economic reports or indices such as the Consumer Price Index (CPI) or Producer Price Index (PPI) published by government agencies. As of my last knowledge update in October 2023, I don't have the exact current rate of inflation, but you can look it up on financial news websites or government statistics pages for the most recent figure.\n",
            "A falling dollar does not necessarily mean doom for real estate. In fact, it can have both positive and negative impacts on the real estate market. \n",
            "\n",
            "On the positive side, a weaker dollar can make U.S. real estate more attractive to foreign investors, as their purchasing power increases when converting their stronger currencies to dollars. This influx of foreign investment can drive up demand and potentially increase property values.\n",
            "\n",
            "On the negative side, a falling dollar may lead to higher inflation and increased costs for construction materials and services, which could impact new development and pricing in the real estate market. Additionally, if the dollar falls too significantly, it might signal broader economic instability, which could dampen investor confidence.\n",
            "\n",
            "Ultimately, the relationship between a falling dollar and real estate is complex and influenced by various factors, including overall economic conditions, interest rates, and local market dynamics.\n",
            "During an Initial Public Offering (IPO), an investment bank faces several risks, including:\n",
            "\n",
            "1. **Market Risk**: The investment bank risks losing money if the market conditions are unfavorable at the time of the IPO. If investor demand is weak, the stock price may fall below the offering price, resulting in losses.\n",
            "\n",
            "2. **Reputation Risk**: If the IPO is not successful or if the stock performs poorly post-IPO, it can damage the bank's reputation. This can affect future business with clients and lead to a loss of trust in the bank's advisory capabilities.\n",
            "\n",
            "3. **Underwriting Risk**: If the bank underwrites the IPO, it may have to buy unsold shares at the offering price, leading to potential financial losses if it cannot sell those shares at a profit.\n",
            "\n",
            "4. **Regulatory Risk**: The investment bank must comply with various regulations during the IPO process. Any missteps or violations could result in legal penalties or damage to the bank's standing with regulators.\n",
            "\n",
            "5. **Valuation Risk**: Accurately pricing the IPO is crucial. If the shares are priced too high, they may not attract investors; if priced too low, the bank may not fully capitalize on the company’s value.\n",
            "\n",
            "Overall, the investment bank risks losing capital, facing reputational damage, and dealing with regulatory issues during an IPO.\n",
            "When considering how to structure your real estate purchase with your brother, there are several key factors to think about:\n",
            "\n",
            "1. **Type of Property**: Decide whether you want to purchase real estate to rent out or a property to live in. If you choose to rent, consider the potential cash flow, rental demand, and ongoing expenses. If you choose to live in the property, assess whether the value appreciation is worth giving up rental income.\n",
            "\n",
            "2. **Ownership Structure**: You can structure the ownership in several ways:\n",
            "    - **Joint Tenancy**: Both owners hold equal shares and have the right of survivorship, meaning if one owner passes away, the other automatically inherits their share.\n",
            "    - **Tenancy in Common**: Each owner can have different ownership percentages, and upon death, the deceased's share can be passed to their heirs rather than the other owner.\n",
            "    - **LLC Formation**: Consider establishing a Limited Liability Company (LLC) to protect personal assets from liabilities associated with the property. This can also offer tax advantages.\n",
            "\n",
            "3. **Financing**: Depending on your financial situation, determine how much each of you will contribute toward the down payment and monthly mortgage payments. You could also consider different financing options, like traditional mortgages, FHA loans, or investment loans.\n",
            "\n",
            "4. **Agreement Terms**: Draft a partnership agreement detailing each person's responsibilities, profit-sharing arrangements, exit strategies, and decision-making processes. This helps prevent misunderstandings down the line.\n",
            "\n",
            "5. **Exit Strategy**: Plan how you’ll handle the sale of the property or buyout scenarios in case one of you wants to exit the investment.\n",
            "\n",
            "6. **Tax Considerations**: Consult a tax advisor to understand the implications of your investment, including any deductions for rental properties, capital gains tax, and the potential benefits of LLC structuring.\n",
            "\n",
            "By carefully considering these points, you can create a structured plan for your real estate investment that aligns with your financial goals and personal circumstances.\n",
            "When considering what to do with $50,000, here are several options to explore:\n",
            "\n",
            "1. **Invest in Stocks or ETFs**: You can invest in individual stocks or exchange-traded funds (ETFs) to potentially grow your money over time. Research companies or sectors that interest you and consider diversifying your portfolio.\n",
            "\n",
            "2. **Real Estate Investment**: Depending on your market, $50,000 could serve as a down payment on a rental property or be used to invest in real estate investment trusts (REITs).\n",
            "\n",
            "3. **Emergency Fund**: If you don’t already have one, consider setting aside funds for an emergency fund that covers 3-6 months’ worth of living expenses for financial security.\n",
            "\n",
            "4. **Retirement Account**: Maximize contributions to retirement accounts, such as a Roth IRA or a 401(k), to benefit from tax advantages while saving for retirement.\n",
            "\n",
            "5. **Education or Self-Improvement**: Invest in furthering your education or skills, which could enhance your earning potential.\n",
            "\n",
            "6. **Starting a Business**: If you have a business idea, you might invest in starting or expanding a business.\n",
            "\n",
            "7. **Pay Off Debt**: If you have high-interest debt, consider using the funds to pay it down, which will save you money on interest in the long run.\n",
            "\n",
            "8. **Diversification**: Consider a combination of the above strategies to spread risk while also aiming for growth.\n",
            "\n",
            "9. **Consult a Financial Advisor**: A professional can provide personalized advice tailored to your financial situation and goals.\n",
            "\n",
            "Before making any decisions, assess your financial goals, risk tolerance, and timeline to ensure that your investments align with your long-term objectives.\n",
            "Yes, your Indian debit card can work in the U.S. if it is issued by a globally recognized network like MasterCard or Visa. However, it is essential to check with your bank about any foreign transaction fees and to ensure that your card is activated for international use. Additionally, not all merchants may accept foreign debit cards, so it's a good idea to carry some cash or have an alternative payment method available.\n",
            "As a recent college grad, your decision to make a down payment on a house or a car largely depends on your personal financial situation, goals, and priorities. \n",
            "\n",
            "If you are considering buying a house, it's generally recommended to aim for a down payment of at least 20% of the home's purchase price to avoid private mortgage insurance (PMI) and secure better loan terms. However, many lenders allow lower down payments, sometimes as low as 3% to 5%. \n",
            "\n",
            "On the other hand, if you are upside down on your car loan (meaning you owe more on the loan than the car is worth) and need a different car, it may be worth evaluating whether it's feasible to trade in your current vehicle and roll the negative equity into a new loan. However, this can increase your monthly payments and overall debt, so it's important to consider your budget and long-term financial implications.\n",
            "\n",
            "Ultimately, if home ownership is a significant goal for you and you can afford a reasonable down payment, prioritizing saving for a house may be more beneficial in the long run. If reliable transportation is more urgent given your current circumstances, addressing the car situation first might be necessary. \n",
            "\n",
            "Evaluate your current financial standing, long-term goals, and the practicality of each option before making a decision.\n",
            "In the context of a negative interest rate, a discount may be referred to as a \"negative yield.\" This means that instead of earning interest on an investment, the investor effectively pays to hold that investment, resulting in a loss over time.\n",
            "The US Fair Tax is a proposed tax reform plan that aims to replace the current federal income tax system with a national sales tax on goods and services. It would abolish personal and corporate income taxes, as well as payroll taxes, and instead levy a single consumption tax on new products and services at the point of sale. The Fair Tax is designed to simplify the tax system, eliminate the need for tax returns, and promote economic growth by incentivizing savings and investment. It includes a refund mechanism, known as a \"prebate,\" to offset the tax burden on essential goods for low-income individuals and families.\n",
            "Yes, unpaid taxes can prevent you from obtaining a business license. Many jurisdictions require proof of paid taxes as part of the application process for a business license. If you have outstanding tax liabilities, it may hinder your ability to get licensed until those debts are resolved. Always check with your local regulatory body for specific requirements related to business licensing.\n",
            "If you were to quit your job shortly after being approved for a mortgage, there could be several implications:\n",
            "\n",
            "1. **Employment Verification:** Mortgage lenders typically perform an employment verification right before closing. If you quit your job, it may raise concerns about your ability to make mortgage payments, and the lender could rescind the loan offer.\n",
            "\n",
            "2. **Loan Approval Status:** Depending on the lender's policies, quitting your job could affect your loan status. If the lender determines that your employment situation has changed significantly, they may either delay the closing process or cancel the mortgage application altogether.\n",
            "\n",
            "3. **Debt-to-Income Ratio:** Losing your job means you’d have a loss of income, which could negatively impact your debt-to-income ratio—one of the key factors lenders consider when evaluating whether you can afford the mortgage payments.\n",
            "\n",
            "4. **Post-Approval Conditions:** Many lenders include conditions that require you to maintain your employment until after closing. Quitting your job could lead to complications with these requirements and potentially cause issues with the loan process.\n",
            "\n",
            "5. **Impact on Future Borrowing:** If you were to quit your job and then seek a new employment opportunity, any gap in employment could affect your creditworthiness and your ability to secure future loans.\n",
            "\n",
            "In summary, quitting your job after being approved for a mortgage could jeopardize the loan approval and financing process, potentially leading to the loss of the mortgage and causing financial difficulties. It's essential to communicate any employment changes with your lender as soon as possible.\n",
            "Compounding of annual interest refers to the process where the interest earned on an investment or savings account is added to the principal amount, and this new total becomes the basis for calculating future interest. This means that not only does your original investment earn interest, but the interest that accumulates over time also earns interest.\n",
            "\n",
            "Here’s how it works step-by-step:\n",
            "\n",
            "1. **Initial Principal**: You start with an initial amount of money, known as the principal.\n",
            "\n",
            "2. **Interest Rate**: This principal earns interest at a specified rate, generally expressed as a percentage annually.\n",
            "\n",
            "3. **Interest Period**: Compounding can occur annually, semi-annually, quarterly, monthly, or even daily. The more frequently interest is compounded, the more interest you will earn over time.\n",
            "\n",
            "4. **Calculation of Interest**: At the end of each compounding period, the interest earned is calculated and added to the principal. For example, if you have $1,000 at an annual interest rate of 5%, after the first year, you'd earn $50 in interest.\n",
            "\n",
            "5. **New Principal for Next Period**: The new principal for the following period is the sum of the original principal and the interest earned. Using our example, after one year, your new principal would be $1,050.\n",
            "\n",
            "6. **Repeat**: This process repeats for each compounding period. Each time, you calculate interest on the new principal, leading to exponential growth of your investment over time.\n",
            "\n",
            "The formula for calculating the future value with compounding interest is:\n",
            "\n",
            "\\[ A = P (1 + r/n)^{nt} \\]\n",
            "\n",
            "Where:\n",
            "- \\( A \\) = the amount of money accumulated after n years, including interest.\n",
            "- \\( P \\) = principal amount (the initial amount of money).\n",
            "- \\( r \\) = annual interest rate (in decimal).\n",
            "- \\( n \\) = number of times that interest is compounded per year.\n",
            "- \\( t \\) = number of years the money is invested or borrowed.\n",
            "\n",
            "In summary, compounding of annual interest allows your money to grow at an accelerating rate over time, making it a powerful tool for savings and investment.\n",
            "To protect money above the FDIC coverage limit, you can consider the following strategies:\n",
            "\n",
            "1. **Split Accounts Among Different Banks**: Since the FDIC insures deposits up to $250,000 per depositor, per bank, and per account category, you can open accounts at multiple banks to keep your total insured amount within limits.\n",
            "\n",
            "2. **Use Different Account Types**: If you have different account types (like savings, checking, or retirement accounts) at the same bank, each account type is insured separately, allowing you to increase your coverage at one bank.\n",
            "\n",
            "3. **Consider NCUA Insurance**: If you use a credit union, the National Credit Union Administration (NCUA) provides similar insurance coverage as the FDIC for deposits.\n",
            "\n",
            "4. **Invest in Other Assets**: Rather than keeping large amounts in cash deposits, consider diversifying your investments into stocks, bonds, mutual funds, or real estate, which can potentially offer higher returns.\n",
            "\n",
            "5. **Use Certificates of Deposit (CDs)**: By using CDs and staggering their maturity dates (a strategy known as CD laddering), you can maintain liquidity while still ensuring that the portions of your funds remain insured.\n",
            "\n",
            "6. **Explore Treasury Securities**: U.S. Treasury securities like bonds and bills are backed by the government and considered very low-risk investments. \n",
            "\n",
            "7. **Utilize a Money Market Account**: Some money market accounts can offer higher interest rates than savings accounts while also providing FDIC insurance, but you still need to be mindful of the coverage limits.\n",
            "\n",
            "8. **Consult a Financial Advisor**: A financial expert can help you develop a strategy tailored to your specific situation, including how best to protect your funds and grow your wealth.\n",
            "\n",
            "By taking these steps, you can increase the safety of your funds above the FDIC insurance limit.\n",
            "No, brokers do not execute every trade on the exchange. Brokers act as intermediaries between buyers and sellers, but they may not execute all trades for various reasons, such as market conditions, order types, or specific client instructions. Additionally, some orders may not be filled if there are no matching buy or sell orders at the desired price.\n",
            "When evaluating index funds, consider the following factors:\n",
            "\n",
            "1. **Expense Ratio**: Look at the fees associated with the fund, including management fees and other costs. A lower expense ratio can significantly impact your long-term returns.\n",
            "\n",
            "2. **Tracking Error**: Evaluate how closely the fund follows its benchmark index. A lower tracking error indicates better performance in mirroring the index.\n",
            "\n",
            "3. **Liquidity**: Consider the trading volume of the fund. Higher liquidity typically results in tighter bid-ask spreads, which can reduce trading costs.\n",
            "\n",
            "4. **Fund Size**: The total assets under management (AUM) can affect the fund's stability and its ability to track its index efficiently. Larger funds often benefit from economies of scale.\n",
            "\n",
            "5. **Tax Efficiency**: Assess how the fund manages capital gains distributions, as this can affect your tax liability. Some funds might be more tax-efficient than others.\n",
            "\n",
            "6. **Rebalancing Strategy**: Understand how often the fund rebalances its portfolio to align with the index. More frequent rebalancing can lead to higher trading costs.\n",
            "\n",
            "7. **Index Methodology**: Know the type of index the fund is tracking and the criteria used to select and weight components (e.g., market-cap weighting vs. equal-weighting).\n",
            "\n",
            "8. **Performance History**: While past performance does not guarantee future results, examining historical performance relative to the index can provide insights into the fund's reliability.\n",
            "\n",
            "9. **Management Company Reputation**: Consider the reputation and experience of the fund provider, as this can impact your overall experience with the fund.\n",
            "\n",
            "10. **Investment Strategy Alignment**: Ensure that the fund aligns with your investment goals, risk tolerance, and overall investment strategy.\n",
            "\n",
            "By considering these factors, you can make a more informed decision when evaluating index funds.\n",
            "A subsidy is a financial assistance or support provided by the government to individuals, organizations, or industries to promote and encourage economic activities, reduce the cost of goods and services, or achieve specific policy goals. Subsidies can take various forms, including direct cash payments, tax breaks, grants, or lower interest rates, and they are often used to help sectors like agriculture, education, energy, and healthcare. The intention behind subsidies is to enhance economic growth, make essential goods more affordable, or support sectors that may be struggling.\n",
            "Fibonacci values refer to the numbers in the Fibonacci sequence, which is a series of numbers in which each number (after the first two) is the sum of the two preceding ones. The sequence typically starts with 0 and 1, leading to a pattern that looks like this: 0, 1, 1, 2, 3, 5, 8, 13, 21, 34, and so on. This sequence is often found in mathematics and nature, such as in the arrangement of leaves on a stem or the branching of trees. Fibonacci values are also used in various fields, including computer science, art, and finance, often related to growth patterns and ratios.\n",
            "Stock or commodity prices may rise suddenly just before market close due to several factors, including:\n",
            "\n",
            "1. **End-of-Day Positioning**: Traders and institutional investors often adjust their positions to reflect their outlooks or to lock in gains before the market closes. This may lead to increased buying activity that drives prices up.\n",
            "\n",
            "2. **Volume and Liquidity**: As the market approaches closing time, trading volume can increase, particularly if there is news or events that traders want to act on before the day ends. This heightened liquidity can result in sharper price movements.\n",
            "\n",
            "3. **Market Sentiment**: Positive news or developments may surface close to the market close, prompting traders to buy in anticipation of future gains. This can quickly push prices higher as more participants react to the news.\n",
            "\n",
            "4. **Window Dressing**: Fund managers may engage in “window dressing”—buying well-performing stocks to improve the appearance of their portfolios at the end of the trading day, which can lead to price increases.\n",
            "\n",
            "5. **Short Covering**: Traders who have short-sold stocks may buy them back to cover their positions as the market nears close, particularly if they anticipate further price increases, which can also contribute to a sudden rise in prices.\n",
            "\n",
            "Overall, a combination of trading strategies, news updates, and market psychology can lead to abrupt price increases as the market nears closing time.\n",
            "The percentage of your company you should have if you only put in money depends on various factors, including the total value of the company, the amount of money you contribute, and the contributions of other stakeholders or partners. A common approach to determine ownership percentage is to use the formula:\n",
            "\n",
            "\\[ \\text{Ownership Percentage} = \\left( \\frac{\\text{Your Investment}}{\\text{Total Company Valuation}} \\right) \\times 100 \\]\n",
            "\n",
            "If you know the total valuation of the company and the amount of money you are investing, you can plug those values into the formula to calculate your ownership percentage. \n",
            "\n",
            "If you provide specific numbers, I can help you calculate it!\n"
          ]
        }
      ]
    },
    {
      "cell_type": "code",
      "source": [
        "print_values(ground_truths)"
      ],
      "metadata": {
        "colab": {
          "base_uri": "https://localhost:8080/"
        },
        "id": "QNTqT5ctGb3H",
        "outputId": "c9a82ca1-faea-4603-f7ed-ca775b66e8b3"
      },
      "execution_count": 20,
      "outputs": [
        {
          "output_type": "stream",
          "name": "stdout",
          "text": [
            "['Gold and platinum are both precious metals that have been used as investment assets for centuries. Each has its own unique characteristics and potential benefits and drawbacks as an investment. Here are some pros and cons to consider when deciding whether to invest in gold or platinum:Pros of investing in gold:Gold has a long history of being used as a store of value and a hedge against inflation.Gold is widely recognized and accepted as a valuable asset around the world.Gold is a relatively liquid asset and can be easily bought and sold through a variety of channels, including online marketplaces and gold dealers.Cons of investing in gold:Gold prices can be volatile and may fluctuate significantly over short periods of time.Gold does not offer any income or dividends, as it does not generate any cash flow.Pros of investing in platinum:Platinum is a rare and valuable metal, and its price can increase significantly if supply is constrained.Platinum is used in a variety of industrial applications, including catalytic converters in automobiles, which may make it more resistant to economic downturns compared to other precious metals.Cons of investing in platinum:Platinum is not as widely recognized or accepted as a store of value as gold, and it may be more difficult to buy and sell.Platinum prices can be volatile and may fluctuate significantly over short periods of time.Ultimately, whether gold or platinum is a better investment will depend on your individual financial goals and risk tolerance. It is important to carefully consider the pros and cons of each metal before making any investment decisions. It is also a good idea to diversify your investment portfolio by including a variety of asset classes, such as stocks, bonds, and real estate, in addition to precious metals.', \"There is no one-size-fits-all answer to this question, as the appropriate amount to save will depend on your individual financial situation and goals. Some factors that may influence how much you should save include your age, your income level, your current debts, your expected expenses in the near future (such as the cost of buying a home or paying for a child's education), and your long-term financial goals (such as retirement).Here are a few general guidelines that may be helpful as you consider how much to save:Many financial experts recommend saving at least 20% of your income. This can help you build a solid financial foundation and ensure that you have the resources you need to meet your financial goals.If you are just starting out in your career and have a lower income, you may need to save a smaller percentage of your income. However, it is still important to start saving as soon as possible, even if it is only a small amount.If you are trying to pay off high-interest debt, such as credit card debt, you may want to save a higher percentage of your income until you have paid off this debt. This can help you get out of debt more quickly and save money on interest payments.If you are nearing retirement age and have not yet saved enough for retirement, you may need to save a higher percentage of your income to catch up.Ultimately, the best approach for you will depend on your specific financial situation and goals. It may be helpful to work with a financial advisor or to use a budgeting app or tool to help you determine how much you should be saving.\", \"It is generally a good idea to start investing in the stock market as soon as you are financially able to do so. This could mean saving up enough money to meet any minimum investment requirements, paying off high-interest debt, and having a solid emergency fund in place.However, there are a few other factors to consider when determining when to start investing in the stock market. These include:Your age: If you are younger and have a longer investment horizon, you may be able to afford to take on more risk in your investments. This is because you have more time to ride out market fluctuations and potentially earn higher returns.Your financial goals: Your investment strategy should align with your financial goals. For example, if you are saving for retirement, you may want to consider investing in a diversified mix of stocks and bonds that is appropriate for your risk tolerance and time horizon.Your risk tolerance: It's important to be comfortable with the level of risk you are taking on in your investments. If you are a risk-averse investor, you may want to focus on lower-risk investments such as blue-chip stocks or index funds.It is also a good idea to seek the advice of a financial professional, who can help you develop a personalized investment plan that is tailored to your specific financial situation and goals.\", '', '', \"In order to register a business in the UK, you will need to provide a valid address for your business. This address will be used as the registered office address, which is the official address of your business and the place where legal documents and official correspondence will be sent.If you do not have a physical business location, you can use a virtual office address as your registered office address. A virtual office address is a professional mailing address that you can use to receive mail and packages, and it may also include additional services such as access to meeting rooms and a telephone answering service.To use a virtual office address as your registered office address, you will need to find a provider that offers this service and sign up for an account. You will then be able to use the virtual office address as your registered office address when you register your business.It's important to note that you will still need to provide a valid address for yourself as the owner or director of the business. This address will be used for tax and legal purposes, and it will not be publicly available.\", \"Buying a house with a friend can be a good way to split the cost of homeownership, but it's important to carefully consider the potential risks and challenges before making this decision. Here are a few things to consider:Finances: Make sure you and your friend are on the same page about how the mortgage and other expenses will be split. It's also a good idea to discuss what will happen if one of you can't afford your share of the payments or needs to sell the property.Relationship: Buying a house with a friend can be a big commitment, so it's important to make sure your friendship is strong and you are comfortable working together as co-owners.Legal considerations: It's important to have a written agreement in place that outlines the terms of your co-ownership, including how decisions will be made and what will happen if one of you wants to sell the property. It's also a good idea to consult with a lawyer to ensure that your agreement is legally sound.Overall, buying a house with a friend can be a good option if you have a strong relationship and are prepared to handle the potential challenges that may arise. It's important to carefully consider all of the factors involved and to seek professional advice before making a decision.\", \"It is generally possible to claim mileage for traveling to a contract position if you are self-employed or if your employer has a policy that allows for it. However, there are some specific rules and requirements that must be followed in order to do so.If you are self-employed and you are traveling for business purposes, you may be able to claim mileage as a business expense on your tax return. To do this, you will need to keep a record of your business-related travel, including the dates, destinations, and purpose of the trip, as well as the number of miles traveled. You will also need to have a clear business reason for the travel, such as meeting with clients or conducting business at a specific location.If you are an employee and your employer has a policy that allows for mileage reimbursement, you may be able to claim mileage for traveling to a contract position. In this case, you will need to follow your employer's policies and procedures for requesting reimbursement, which may include submitting a claim form and providing documentation of your travel, such as receipts or a log of your mileage.It's important to note that the Internal Revenue Service (IRS) has specific rules for claiming mileage as a business expense, and you should familiarize yourself with these rules before attempting to claim mileage for traveling to a contract position. In general, you must use the standard mileage rate set by the IRS for the year in which the travel occurred, and you must keep accurate records of your mileage in order to claim the deduction.\", \"There are a few ways to determine the market value of a used book:Check online marketplaces: Websites like Amazon, eBay, and AbeBooks often have listings for used books and can give you an idea of how much similar books are selling for. Keep in mind that the prices on these sites may not be representative of the book's actual value, as they can vary based on the seller's asking price and the demand for the book.Search for the book on book-selling websites: Websites like BookScouter and TextbookRush allow you to search for the book you have and see how much various vendors are willing to pay for it.Check the book's price on used book websites: Websites like BetterWorldBooks and ThriftBooks specialize in selling used books and can give you a good idea of how much a book is worth.Consider the condition of the book: The condition of the book is a major factor in determining its value. A book that is in good condition will generally be worth more than a book that is in poor condition.Consider the rarity and demand for the book: A rare or highly sought-after book will generally be worth more than a common book. You can check the demand for a book by searching for it on sites like Amazon and seeing how many copies are for sale and how quickly they are selling.Overall, determining the market value of a used book can be difficult, as it can vary based on a variety of factors. By considering the book's condition, demand, and rarity, as well as checking online marketplaces and used book websites, you can get a good idea of how much the book is worth.\", \"It can be a good idea to follow the advice of a guru if they have a track record of making successful investments and have a solid understanding of the markets. However, it's important to do your own research and not blindly follow anyone's advice, even if they are considered a guru. It's also a good idea to diversify your investments and not put all of your money into a single investment or investment strategy. It's always a good idea to be cautious when it comes to investing and to be aware of the risks involved.\", \"International Securities Identification Numbers (ISINs) are unique identification codes assigned to securities, including stocks and stock options. To find the ISIN for a stock option, you can try the following methods:Check the stock option's listing or exchange: ISINs are often listed on the website or platform where the stock option is traded or listed. For example, if you are looking for the ISIN for a stock option listed on the New York Stock Exchange (NYSE), you can check the NYSE website or the platform where the stock option is traded.Contact the issuer of the stock option: The issuer of a stock option, typically a company or an exchange, may be able to provide you with the ISIN for the stock option. You can try contacting the issuer directly or through their investor relations department.Use a financial data provider: Financial data providers, such as Bloomberg or Thomson Reuters, often have databases of ISINs for various securities, including stock options. You can try using a financial data provider's search function to find the ISIN for a stock option.Check with a broker: If you have a brokerage account, you may be able to find the ISIN for a stock option through your broker's platform or by contacting their customer support team.It's worth noting that ISINs are typically used for identifying securities in the context of trading, settlement, and clearance, rather than as a means of identifying stock options specifically. As such, you may find it more useful to use other identifiers, such as the ticker symbol or the underlying stock's ISIN, to identify stock options.\", 'Inflation is the rate at which the general level of prices for goods and services is rising, and, subsequently, purchasing power is falling. Central banks attempt to limit inflation, and avoid deflation, in order to keep the economy running smoothly.Inflation can be measured in a number of ways, such as the Consumer Price Index (CPI), which measures the average change over time in the prices paid by consumers for a basket of goods and services. The CPI is often used as a measure of inflation because it reflects the prices that people actually pay for the goods and services they purchase.The rate of inflation can vary over time and from one country to another. In general, prices tend to rise over time, but the rate at which they rise can fluctuate. Some governments aim for an annual inflation rate of around 2%, which is considered to be low and stable. However, in some countries, inflation can be much higher or lower than this.Without knowing more about the specific country and time period you are interested in, it is difficult to provide an accurate answer to your question.', 'It is generally not accurate to say that a falling dollar means doom for real estate. The value of real estate can be influenced by many factors, including local economic conditions, supply and demand for housing, and overall market trends. A falling dollar may have some impact on real estate values, but it is just one of many factors that can affect the market.It is important to note that the value of the dollar, like the value of any currency, is determined by a variety of factors, including economic conditions, interest rates, and the perceived stability of the government issuing the currency. A falling dollar may be a sign of underlying economic weakness, which could potentially affect the real estate market. However, it is not necessarily a guarantee that a falling dollar will have a negative impact on real estate values.It is always a good idea for investors to carefully consider the potential risks and rewards of any investment, including real estate, and to diversify their portfolio to manage risk.', \"During an initial public offering (IPO), an investment bank, also known as an underwriter, takes on various risks in order to facilitate the sale of securities from the issuer to the public. Some of the risks that an investment bank may face during an IPO include:Market risk: The underwriter may be unable to sell the securities at the expected price or at all, which could result in a loss for the bank.Reputational risk: The underwriter's reputation could be damaged if the IPO does not perform well or if there are any legal or regulatory issues with the offering.Legal risk: The underwriter may be held liable if there are any material misstatements or omissions in the prospectus or if the securities are not sold in accordance with the applicable laws and regulations.Credit risk: The underwriter may be exposed to credit risk if the issuer defaults on its obligations to the underwriter or to the investors.Liquidity risk: The underwriter may have difficulty finding buyers for the securities, which could lead to a lack of liquidity in the market and potentially result in losses for the bank.Overall, the risks that an investment bank faces during an IPO depend on a variety of factors, including the size and complexity of the offering, market conditions, and the financial health of the issuer.\", \"There are several options for structuring a real estate purchase with a brother or any other family member or friend. Some common options include:Joint Tenancy: In a joint tenancy, both parties own the property equally and have the right of survivorship, which means that if one party dies, the other party automatically inherits their share of the property. This can be a good option if you want to keep things simple and want to ensure that the property will pass to the surviving owner automatically.Tenancy in Common: In a tenancy in common, each party owns a specific share of the property (e.g., 50/50), and each party has the right to sell or transfer their share to someone else at any time. This can be a good option if you want to have more control over what happens to your share of the property.Limited Liability Company (LLC): Another option is to set up an LLC to hold the property. This can provide some legal protection for the owners and can make it easier to manage the property and any future decisions about it.It's important to consider the tax implications of each option and to consult with a lawyer or financial advisor to determine the best approach for your specific situation.\", 'There are many things you could do with $50,000, and the best option for you will depend on your financial situation, goals, and risk tolerance. Here are a few ideas to consider:Invest in a diversified portfolio of stocks, bonds, and other assets to potentially earn a return over the long term. This can help you grow your money and achieve your financial goals, but it also comes with the risk of losing some or all of your investment.Pay down high-interest debt, such as credit card debt or student loans. This can help you save money on interest and become debt-free more quickly.Save for a down payment on a home or other major purchase. Having a larger down payment can help you qualify for a lower mortgage rate and save on interest over the life of the loan.Contribute to a retirement account, such as a 401(k) or IRA. This can help you save for the future and potentially lower your tax bill in the current year.Start or grow a business. If you have a business idea or are looking to expand an existing business, $50,000 could provide the capital you need to get started or take your business to the next level.Make home improvements or repairs. This can increase the value of your home and improve your quality of life.Ultimately, the best use of $50,000 will depend on your specific circumstances and financial goals. It may be helpful to speak with a financial planner or advisor to determine the best course of action for your situation.', 'In general, Indian debit cards can be used in the United States as long as they are enabled for international transactions and the merchant accepts cards issued by the card issuer. It is a good idea to check with your bank or card issuer to confirm that your card is enabled for international transactions and to find out about any fees or other restrictions that may apply. You should also check with the merchant to make sure they accept cards issued by your card issuer.If your Indian debit card has a Visa or Mastercard logo, it is likely to be accepted by most merchants in the United States. However, it is always a good idea to check with the merchant before making a purchase to confirm that they accept your card.If your Indian debit card is not accepted by a merchant in the United States, you may still be able to make a purchase using an alternative payment method, such as a credit card or cash.', \"As a recent college graduate, it's important to consider your financial situation and long-term goals before making a decision about whether to save for a down payment on a house or a car. Here are a few things to consider:Your budget: Make sure you have a clear understanding of your income and expenses, and how much you can afford to put towards a down payment. Remember to factor in the ongoing costs of owning a house or car, such as mortgage payments, property taxes, and insurance.Your long-term goals: Consider your long-term financial goals and whether owning a house or a car aligns with those goals. For example, if you want to be financially stable and build wealth over the long term, owning a house may be a good choice, as it can be a good investment. On the other hand, if you're not sure where you'll be living or working in the near future, it might make more sense to focus on a car, which is more portable.Your financial priorities: It's also important to consider your other financial priorities, such as paying off student loans or saving for retirement. It may make more sense to focus on these priorities before saving for a down payment on a house or car.Ultimately, the decision about whether to save for a down payment on a house or car will depend on your individual circumstances and financial goals. It's important to carefully consider your options and make a decision that's right for you.\", 'In the context of a negative interest rate, the discount is often referred to as a \"penalty rate\" or a \"negative interest rate.\" When an interest rate is negative, it means that the borrower is required to pay a fee for the privilege of borrowing money, rather than receiving interest on their loan as they normally would. This can occur when central banks or governments set negative interest rates as a policy tool to stimulate economic activity or encourage borrowing and spending. In this context, the discount is the amount of money that the borrower is required to pay back in addition to the principal of their loan, as a penalty for borrowing money at a time when interest rates are negative.', 'The Fair Tax is a proposed reform to the United States tax system that would replace all federal income and payroll taxes with a single national consumption tax on retail sales. The tax would be applied uniformly to all new goods and services, with some exceptions for necessities such as food, clothing, and medical care. The Fair Tax would be collected by state and local governments, rather than by the federal government, and would be paid directly by consumers at the point of purchase.Proponents of the Fair Tax argue that it would simplify the tax system, reduce compliance costs, and increase economic growth by eliminating the disincentives to work and invest created by income and payroll taxes. They also argue that it would be more progressive than the current tax system because it would exempt low-income households from tax and impose a higher tax rate on higher-income households, who tend to consume more.However, critics of the Fair Tax argue that it would disproportionately burden lower- and middle-income households, who tend to spend a higher percentage of their income on consumption, and that it would be difficult to enforce and could lead to tax evasion. They also argue that it would be difficult to design the tax in a way that is both fair and revenue-neutral, and that it could lead to significant changes in the relative prices of different goods and services.', 'It is possible that unpaid taxes could prevent you from obtaining a business license. Many states and localities require businesses to meet certain financial and tax obligations before issuing a business license. This is because the government wants to ensure that businesses are operating in a financially responsible manner and are paying their fair share of taxes.If you have unpaid taxes, you may be required to resolve the issue before you can obtain a business license. This could involve paying the taxes in full or making payment arrangements with the tax agency. It is important to address any unpaid taxes as soon as possible, as failure to pay taxes can result in additional penalties and interest, as well as legal action.If you are unsure whether you have unpaid taxes or how to resolve them, it is a good idea to consult with a tax professional or an attorney who can advise you on the best course of action.', \"If you quit your job shortly after being approved for a mortgage, it could have serious implications for your mortgage. Lenders generally require borrowers to be employed when they apply for a mortgage, and they typically verify employment before closing the loan. If you quit your job, the lender may see you as a higher risk borrower, as you may no longer have a stable source of income to make your mortgage payments.There are a few potential outcomes if you quit your job after being approved for a mortgage:The lender may require you to reapply for the mortgage with your new employment situation. This means going through the mortgage application process again, including submitting updated financial documents and undergoing a new credit check.The lender may decide to cancel your mortgage approval and withdraw the loan offer. If this happens, you will have to start the mortgage application process over again with a new lender.The lender may allow you to proceed with the mortgage as long as you can demonstrate that you have another stable source of income to make the mortgage payments. This could include income from a new job, investments, or other sources.It's important to carefully consider the potential implications of quitting your job before you do so, especially if you have already been approved for a mortgage. If you are considering quitting your job, it may be a good idea to speak with your lender to see how it could affect your mortgage.\", \"Compound interest is the interest that is calculated on the initial principal, which includes all of the accumulated interest of previous periods. This means that the longer the money is invested, the more compound interest it will accrue, leading to exponential growth over time.Here is an example of how compound interest works:Let's say you have $1000 invested in an account that earns a 5% annual compound interest rate. After the first year, you would earn $50 in interest (5% of $1000 is $50). If the interest is compounded annually, the balance in your account at the end of the first year would be $1050 ($1000 principal + $50 interest).Now let's say you leave the money in the account for another year. In the second year, you would earn interest not only on the initial $1000 principal, but also on the $50 in interest that was accumulated in the first year. This means that in the second year, you would earn 5% of $1050, or $52.50 in interest. The balance in your account at the end of the second year would be $1102.50 ($1050 principal + $52.50 interest).As you can see, the amount of interest earned increases each year due to the compound interest effect. The longer you leave the money in the account, the more compound interest it will accrue, leading to exponential growth over time.\", \"The FDIC (Federal Deposit Insurance Corporation) is a government agency that provides insurance coverage for deposits in banks and savings institutions up to $250,000 per depositor, per institution. If you have more money than the FDIC coverage limit, you can consider the following options to protect your funds:Spread your money among different financial institutions: You can open accounts at multiple banks or credit unions, so that each account is insured up to the FDIC limit. This way, even if one institution fails, your deposits at other institutions will be protected.Invest in FDIC-insured products: Some financial products, such as certificates of deposit (CDs) and money market accounts, are FDIC-insured up to the coverage limit. You can consider investing in these products to protect your money.Use a bank with higher coverage limits: Some banks offer higher coverage limits than the FDIC, either through private insurance or by purchasing additional FDIC coverage. You can check with individual banks to see if they offer higher coverage limits.Consider other types of insurance: In addition to FDIC insurance, you can also consider other types of insurance, such as private bank deposit insurance, to protect your money.It's important to note that no insurance program can guarantee the safety of your deposits. It's always a good idea to carefully research and evaluate the financial health of any institution you are considering using for your banking and investment needs.\", \"In most cases, yes. When you place a trade through a broker, the broker will typically act as an intermediary and send your trade to an exchange to be executed. The broker may also have its own trading desk that can execute trades directly, without sending them to an exchange. However, in either case, the broker is responsible for executing the trade on your behalf.It's important to note that brokers are required to execute trades in a fair and unbiased manner, and they are not allowed to trade against their clients. This means that they must execute your trade at the best available price, and they are not allowed to profit from your trades by taking the opposite side of the trade themselves.\", \"There are several factors to consider when evaluating index funds:Investment objective: Make sure the index fund aligns with your investment goals and risk tolerance.Expense ratio: This is the annual fee charged by the fund to cover its operating expenses. A lower expense ratio means more of your money is invested and less is going towards fees.Diversification: Consider how well the index fund diversifies your portfolio. A well-diversified index fund should include a wide range of securities in different sectors, industries, and countries.Index methodology: Different index funds track different benchmarks, or indexes. Make sure the index being tracked aligns with your investment goals and is transparent in its methodology for selecting and weighting securities.Tax efficiency: Some index funds are more tax-efficient than others, meaning they generate fewer capital gains that are subject to taxes. This can be an important consideration for taxable accounts.Liquidity: Consider how easy it is to buy and sell shares of the index fund.Historical performance: Look at the fund's historical performance to get an idea of how it has performed over different market conditions. However, keep in mind that past performance is not necessarily indicative of future results.Investment minimums: Some index funds have minimum investment requirements, so make sure you can meet those requirements before investing.Fund manager: Consider the fund manager's experience and track record, as well as any changes in management that have occurred.\", 'A subsidy is a financial assistance or support provided by a government or other organization to a business or individual. It is often given to promote a particular economic activity or to help a particular group of people, such as farmers or students. Subsidies can take many forms, such as direct payments, tax breaks, or low-interest loans. They are often used to encourage businesses to produce certain goods or to make it easier for individuals to afford certain services or products. Subsidies can also be used to protect domestic industries from foreign competition, or to help address social or environmental issues.', 'The Fibonacci sequence is a series of numbers in which each number is the sum of the two preceding ones, usually starting with 0 and 1. For example, the first six Fibonacci numbers are 0, 1, 1, 2, 3, 5. The Fibonacci sequence has many interesting properties and appears in various areas of mathematics and science. It is named after the Italian mathematician Leonardo Fibonacci, who introduced it to the Western world in his 1202 book \"Liber Abaci.\"', 'There are a few possible reasons why stock or commodity prices might rise suddenly just before the market closes. One reason could be that there is a surge in demand for the stock or commodity as a result of some news or event that was released just before the close of the market. This increased demand can push the price of the stock or commodity higher.Another reason could be that traders or investors are trying to manipulate the price of the stock or commodity in order to benefit from the closing price. For example, a trader might try to drive the price of a stock higher just before the market closes in order to sell the stock at a higher price.It is also possible that the sudden rise in price could be due to a technical glitch or error, such as a mistake in the price data that is being displayed.Regardless of the reason, it is important to remember that stock and commodity prices can be volatile and may fluctuate significantly in a short period of time, so it is always important to carefully consider the risks and uncertainties involved in investing.', \"It's not possible for me to accurately determine what percentage of your company you should own if you are the only one putting money into it. The percentage of ownership that you should have in your company will depend on a variety of factors, including the amount of money you are investing, the terms of your investment, and the overall structure and ownership of the company.If you are the only investor in your company, it's possible that you may want to consider owning a larger percentage of the company in order to have more control over its direction and decision-making. However, it's important to carefully consider all of the potential risks and rewards of owning a large percentage of the company, as well as the potential impact on your financial security and the long-term success of the company.It may be helpful to consult with a lawyer or other financial advisor to help you determine the appropriate percentage of ownership for your situation. They can help you understand the potential legal and financial implications of different ownership structures and help you make an informed decision about the best course of action for your business.\"]\n",
            "\n",
            "Gold and platinum are both precious metals that have been used as investment assets for centuries. Each has its own unique characteristics and potential benefits and drawbacks as an investment. Here are some pros and cons to consider when deciding whether to invest in gold or platinum:Pros of investing in gold:Gold has a long history of being used as a store of value and a hedge against inflation.Gold is widely recognized and accepted as a valuable asset around the world.Gold is a relatively liquid asset and can be easily bought and sold through a variety of channels, including online marketplaces and gold dealers.Cons of investing in gold:Gold prices can be volatile and may fluctuate significantly over short periods of time.Gold does not offer any income or dividends, as it does not generate any cash flow.Pros of investing in platinum:Platinum is a rare and valuable metal, and its price can increase significantly if supply is constrained.Platinum is used in a variety of industrial applications, including catalytic converters in automobiles, which may make it more resistant to economic downturns compared to other precious metals.Cons of investing in platinum:Platinum is not as widely recognized or accepted as a store of value as gold, and it may be more difficult to buy and sell.Platinum prices can be volatile and may fluctuate significantly over short periods of time.Ultimately, whether gold or platinum is a better investment will depend on your individual financial goals and risk tolerance. It is important to carefully consider the pros and cons of each metal before making any investment decisions. It is also a good idea to diversify your investment portfolio by including a variety of asset classes, such as stocks, bonds, and real estate, in addition to precious metals.\n",
            "There is no one-size-fits-all answer to this question, as the appropriate amount to save will depend on your individual financial situation and goals. Some factors that may influence how much you should save include your age, your income level, your current debts, your expected expenses in the near future (such as the cost of buying a home or paying for a child's education), and your long-term financial goals (such as retirement).Here are a few general guidelines that may be helpful as you consider how much to save:Many financial experts recommend saving at least 20% of your income. This can help you build a solid financial foundation and ensure that you have the resources you need to meet your financial goals.If you are just starting out in your career and have a lower income, you may need to save a smaller percentage of your income. However, it is still important to start saving as soon as possible, even if it is only a small amount.If you are trying to pay off high-interest debt, such as credit card debt, you may want to save a higher percentage of your income until you have paid off this debt. This can help you get out of debt more quickly and save money on interest payments.If you are nearing retirement age and have not yet saved enough for retirement, you may need to save a higher percentage of your income to catch up.Ultimately, the best approach for you will depend on your specific financial situation and goals. It may be helpful to work with a financial advisor or to use a budgeting app or tool to help you determine how much you should be saving.\n",
            "It is generally a good idea to start investing in the stock market as soon as you are financially able to do so. This could mean saving up enough money to meet any minimum investment requirements, paying off high-interest debt, and having a solid emergency fund in place.However, there are a few other factors to consider when determining when to start investing in the stock market. These include:Your age: If you are younger and have a longer investment horizon, you may be able to afford to take on more risk in your investments. This is because you have more time to ride out market fluctuations and potentially earn higher returns.Your financial goals: Your investment strategy should align with your financial goals. For example, if you are saving for retirement, you may want to consider investing in a diversified mix of stocks and bonds that is appropriate for your risk tolerance and time horizon.Your risk tolerance: It's important to be comfortable with the level of risk you are taking on in your investments. If you are a risk-averse investor, you may want to focus on lower-risk investments such as blue-chip stocks or index funds.It is also a good idea to seek the advice of a financial professional, who can help you develop a personalized investment plan that is tailored to your specific financial situation and goals.\n",
            "\n",
            "\n",
            "In order to register a business in the UK, you will need to provide a valid address for your business. This address will be used as the registered office address, which is the official address of your business and the place where legal documents and official correspondence will be sent.If you do not have a physical business location, you can use a virtual office address as your registered office address. A virtual office address is a professional mailing address that you can use to receive mail and packages, and it may also include additional services such as access to meeting rooms and a telephone answering service.To use a virtual office address as your registered office address, you will need to find a provider that offers this service and sign up for an account. You will then be able to use the virtual office address as your registered office address when you register your business.It's important to note that you will still need to provide a valid address for yourself as the owner or director of the business. This address will be used for tax and legal purposes, and it will not be publicly available.\n",
            "Buying a house with a friend can be a good way to split the cost of homeownership, but it's important to carefully consider the potential risks and challenges before making this decision. Here are a few things to consider:Finances: Make sure you and your friend are on the same page about how the mortgage and other expenses will be split. It's also a good idea to discuss what will happen if one of you can't afford your share of the payments or needs to sell the property.Relationship: Buying a house with a friend can be a big commitment, so it's important to make sure your friendship is strong and you are comfortable working together as co-owners.Legal considerations: It's important to have a written agreement in place that outlines the terms of your co-ownership, including how decisions will be made and what will happen if one of you wants to sell the property. It's also a good idea to consult with a lawyer to ensure that your agreement is legally sound.Overall, buying a house with a friend can be a good option if you have a strong relationship and are prepared to handle the potential challenges that may arise. It's important to carefully consider all of the factors involved and to seek professional advice before making a decision.\n",
            "It is generally possible to claim mileage for traveling to a contract position if you are self-employed or if your employer has a policy that allows for it. However, there are some specific rules and requirements that must be followed in order to do so.If you are self-employed and you are traveling for business purposes, you may be able to claim mileage as a business expense on your tax return. To do this, you will need to keep a record of your business-related travel, including the dates, destinations, and purpose of the trip, as well as the number of miles traveled. You will also need to have a clear business reason for the travel, such as meeting with clients or conducting business at a specific location.If you are an employee and your employer has a policy that allows for mileage reimbursement, you may be able to claim mileage for traveling to a contract position. In this case, you will need to follow your employer's policies and procedures for requesting reimbursement, which may include submitting a claim form and providing documentation of your travel, such as receipts or a log of your mileage.It's important to note that the Internal Revenue Service (IRS) has specific rules for claiming mileage as a business expense, and you should familiarize yourself with these rules before attempting to claim mileage for traveling to a contract position. In general, you must use the standard mileage rate set by the IRS for the year in which the travel occurred, and you must keep accurate records of your mileage in order to claim the deduction.\n",
            "There are a few ways to determine the market value of a used book:Check online marketplaces: Websites like Amazon, eBay, and AbeBooks often have listings for used books and can give you an idea of how much similar books are selling for. Keep in mind that the prices on these sites may not be representative of the book's actual value, as they can vary based on the seller's asking price and the demand for the book.Search for the book on book-selling websites: Websites like BookScouter and TextbookRush allow you to search for the book you have and see how much various vendors are willing to pay for it.Check the book's price on used book websites: Websites like BetterWorldBooks and ThriftBooks specialize in selling used books and can give you a good idea of how much a book is worth.Consider the condition of the book: The condition of the book is a major factor in determining its value. A book that is in good condition will generally be worth more than a book that is in poor condition.Consider the rarity and demand for the book: A rare or highly sought-after book will generally be worth more than a common book. You can check the demand for a book by searching for it on sites like Amazon and seeing how many copies are for sale and how quickly they are selling.Overall, determining the market value of a used book can be difficult, as it can vary based on a variety of factors. By considering the book's condition, demand, and rarity, as well as checking online marketplaces and used book websites, you can get a good idea of how much the book is worth.\n",
            "It can be a good idea to follow the advice of a guru if they have a track record of making successful investments and have a solid understanding of the markets. However, it's important to do your own research and not blindly follow anyone's advice, even if they are considered a guru. It's also a good idea to diversify your investments and not put all of your money into a single investment or investment strategy. It's always a good idea to be cautious when it comes to investing and to be aware of the risks involved.\n",
            "International Securities Identification Numbers (ISINs) are unique identification codes assigned to securities, including stocks and stock options. To find the ISIN for a stock option, you can try the following methods:Check the stock option's listing or exchange: ISINs are often listed on the website or platform where the stock option is traded or listed. For example, if you are looking for the ISIN for a stock option listed on the New York Stock Exchange (NYSE), you can check the NYSE website or the platform where the stock option is traded.Contact the issuer of the stock option: The issuer of a stock option, typically a company or an exchange, may be able to provide you with the ISIN for the stock option. You can try contacting the issuer directly or through their investor relations department.Use a financial data provider: Financial data providers, such as Bloomberg or Thomson Reuters, often have databases of ISINs for various securities, including stock options. You can try using a financial data provider's search function to find the ISIN for a stock option.Check with a broker: If you have a brokerage account, you may be able to find the ISIN for a stock option through your broker's platform or by contacting their customer support team.It's worth noting that ISINs are typically used for identifying securities in the context of trading, settlement, and clearance, rather than as a means of identifying stock options specifically. As such, you may find it more useful to use other identifiers, such as the ticker symbol or the underlying stock's ISIN, to identify stock options.\n",
            "Inflation is the rate at which the general level of prices for goods and services is rising, and, subsequently, purchasing power is falling. Central banks attempt to limit inflation, and avoid deflation, in order to keep the economy running smoothly.Inflation can be measured in a number of ways, such as the Consumer Price Index (CPI), which measures the average change over time in the prices paid by consumers for a basket of goods and services. The CPI is often used as a measure of inflation because it reflects the prices that people actually pay for the goods and services they purchase.The rate of inflation can vary over time and from one country to another. In general, prices tend to rise over time, but the rate at which they rise can fluctuate. Some governments aim for an annual inflation rate of around 2%, which is considered to be low and stable. However, in some countries, inflation can be much higher or lower than this.Without knowing more about the specific country and time period you are interested in, it is difficult to provide an accurate answer to your question.\n",
            "It is generally not accurate to say that a falling dollar means doom for real estate. The value of real estate can be influenced by many factors, including local economic conditions, supply and demand for housing, and overall market trends. A falling dollar may have some impact on real estate values, but it is just one of many factors that can affect the market.It is important to note that the value of the dollar, like the value of any currency, is determined by a variety of factors, including economic conditions, interest rates, and the perceived stability of the government issuing the currency. A falling dollar may be a sign of underlying economic weakness, which could potentially affect the real estate market. However, it is not necessarily a guarantee that a falling dollar will have a negative impact on real estate values.It is always a good idea for investors to carefully consider the potential risks and rewards of any investment, including real estate, and to diversify their portfolio to manage risk.\n",
            "During an initial public offering (IPO), an investment bank, also known as an underwriter, takes on various risks in order to facilitate the sale of securities from the issuer to the public. Some of the risks that an investment bank may face during an IPO include:Market risk: The underwriter may be unable to sell the securities at the expected price or at all, which could result in a loss for the bank.Reputational risk: The underwriter's reputation could be damaged if the IPO does not perform well or if there are any legal or regulatory issues with the offering.Legal risk: The underwriter may be held liable if there are any material misstatements or omissions in the prospectus or if the securities are not sold in accordance with the applicable laws and regulations.Credit risk: The underwriter may be exposed to credit risk if the issuer defaults on its obligations to the underwriter or to the investors.Liquidity risk: The underwriter may have difficulty finding buyers for the securities, which could lead to a lack of liquidity in the market and potentially result in losses for the bank.Overall, the risks that an investment bank faces during an IPO depend on a variety of factors, including the size and complexity of the offering, market conditions, and the financial health of the issuer.\n",
            "There are several options for structuring a real estate purchase with a brother or any other family member or friend. Some common options include:Joint Tenancy: In a joint tenancy, both parties own the property equally and have the right of survivorship, which means that if one party dies, the other party automatically inherits their share of the property. This can be a good option if you want to keep things simple and want to ensure that the property will pass to the surviving owner automatically.Tenancy in Common: In a tenancy in common, each party owns a specific share of the property (e.g., 50/50), and each party has the right to sell or transfer their share to someone else at any time. This can be a good option if you want to have more control over what happens to your share of the property.Limited Liability Company (LLC): Another option is to set up an LLC to hold the property. This can provide some legal protection for the owners and can make it easier to manage the property and any future decisions about it.It's important to consider the tax implications of each option and to consult with a lawyer or financial advisor to determine the best approach for your specific situation.\n",
            "There are many things you could do with $50,000, and the best option for you will depend on your financial situation, goals, and risk tolerance. Here are a few ideas to consider:Invest in a diversified portfolio of stocks, bonds, and other assets to potentially earn a return over the long term. This can help you grow your money and achieve your financial goals, but it also comes with the risk of losing some or all of your investment.Pay down high-interest debt, such as credit card debt or student loans. This can help you save money on interest and become debt-free more quickly.Save for a down payment on a home or other major purchase. Having a larger down payment can help you qualify for a lower mortgage rate and save on interest over the life of the loan.Contribute to a retirement account, such as a 401(k) or IRA. This can help you save for the future and potentially lower your tax bill in the current year.Start or grow a business. If you have a business idea or are looking to expand an existing business, $50,000 could provide the capital you need to get started or take your business to the next level.Make home improvements or repairs. This can increase the value of your home and improve your quality of life.Ultimately, the best use of $50,000 will depend on your specific circumstances and financial goals. It may be helpful to speak with a financial planner or advisor to determine the best course of action for your situation.\n",
            "In general, Indian debit cards can be used in the United States as long as they are enabled for international transactions and the merchant accepts cards issued by the card issuer. It is a good idea to check with your bank or card issuer to confirm that your card is enabled for international transactions and to find out about any fees or other restrictions that may apply. You should also check with the merchant to make sure they accept cards issued by your card issuer.If your Indian debit card has a Visa or Mastercard logo, it is likely to be accepted by most merchants in the United States. However, it is always a good idea to check with the merchant before making a purchase to confirm that they accept your card.If your Indian debit card is not accepted by a merchant in the United States, you may still be able to make a purchase using an alternative payment method, such as a credit card or cash.\n",
            "As a recent college graduate, it's important to consider your financial situation and long-term goals before making a decision about whether to save for a down payment on a house or a car. Here are a few things to consider:Your budget: Make sure you have a clear understanding of your income and expenses, and how much you can afford to put towards a down payment. Remember to factor in the ongoing costs of owning a house or car, such as mortgage payments, property taxes, and insurance.Your long-term goals: Consider your long-term financial goals and whether owning a house or a car aligns with those goals. For example, if you want to be financially stable and build wealth over the long term, owning a house may be a good choice, as it can be a good investment. On the other hand, if you're not sure where you'll be living or working in the near future, it might make more sense to focus on a car, which is more portable.Your financial priorities: It's also important to consider your other financial priorities, such as paying off student loans or saving for retirement. It may make more sense to focus on these priorities before saving for a down payment on a house or car.Ultimately, the decision about whether to save for a down payment on a house or car will depend on your individual circumstances and financial goals. It's important to carefully consider your options and make a decision that's right for you.\n",
            "In the context of a negative interest rate, the discount is often referred to as a \"penalty rate\" or a \"negative interest rate.\" When an interest rate is negative, it means that the borrower is required to pay a fee for the privilege of borrowing money, rather than receiving interest on their loan as they normally would. This can occur when central banks or governments set negative interest rates as a policy tool to stimulate economic activity or encourage borrowing and spending. In this context, the discount is the amount of money that the borrower is required to pay back in addition to the principal of their loan, as a penalty for borrowing money at a time when interest rates are negative.\n",
            "The Fair Tax is a proposed reform to the United States tax system that would replace all federal income and payroll taxes with a single national consumption tax on retail sales. The tax would be applied uniformly to all new goods and services, with some exceptions for necessities such as food, clothing, and medical care. The Fair Tax would be collected by state and local governments, rather than by the federal government, and would be paid directly by consumers at the point of purchase.Proponents of the Fair Tax argue that it would simplify the tax system, reduce compliance costs, and increase economic growth by eliminating the disincentives to work and invest created by income and payroll taxes. They also argue that it would be more progressive than the current tax system because it would exempt low-income households from tax and impose a higher tax rate on higher-income households, who tend to consume more.However, critics of the Fair Tax argue that it would disproportionately burden lower- and middle-income households, who tend to spend a higher percentage of their income on consumption, and that it would be difficult to enforce and could lead to tax evasion. They also argue that it would be difficult to design the tax in a way that is both fair and revenue-neutral, and that it could lead to significant changes in the relative prices of different goods and services.\n",
            "It is possible that unpaid taxes could prevent you from obtaining a business license. Many states and localities require businesses to meet certain financial and tax obligations before issuing a business license. This is because the government wants to ensure that businesses are operating in a financially responsible manner and are paying their fair share of taxes.If you have unpaid taxes, you may be required to resolve the issue before you can obtain a business license. This could involve paying the taxes in full or making payment arrangements with the tax agency. It is important to address any unpaid taxes as soon as possible, as failure to pay taxes can result in additional penalties and interest, as well as legal action.If you are unsure whether you have unpaid taxes or how to resolve them, it is a good idea to consult with a tax professional or an attorney who can advise you on the best course of action.\n",
            "If you quit your job shortly after being approved for a mortgage, it could have serious implications for your mortgage. Lenders generally require borrowers to be employed when they apply for a mortgage, and they typically verify employment before closing the loan. If you quit your job, the lender may see you as a higher risk borrower, as you may no longer have a stable source of income to make your mortgage payments.There are a few potential outcomes if you quit your job after being approved for a mortgage:The lender may require you to reapply for the mortgage with your new employment situation. This means going through the mortgage application process again, including submitting updated financial documents and undergoing a new credit check.The lender may decide to cancel your mortgage approval and withdraw the loan offer. If this happens, you will have to start the mortgage application process over again with a new lender.The lender may allow you to proceed with the mortgage as long as you can demonstrate that you have another stable source of income to make the mortgage payments. This could include income from a new job, investments, or other sources.It's important to carefully consider the potential implications of quitting your job before you do so, especially if you have already been approved for a mortgage. If you are considering quitting your job, it may be a good idea to speak with your lender to see how it could affect your mortgage.\n",
            "Compound interest is the interest that is calculated on the initial principal, which includes all of the accumulated interest of previous periods. This means that the longer the money is invested, the more compound interest it will accrue, leading to exponential growth over time.Here is an example of how compound interest works:Let's say you have $1000 invested in an account that earns a 5% annual compound interest rate. After the first year, you would earn $50 in interest (5% of $1000 is $50). If the interest is compounded annually, the balance in your account at the end of the first year would be $1050 ($1000 principal + $50 interest).Now let's say you leave the money in the account for another year. In the second year, you would earn interest not only on the initial $1000 principal, but also on the $50 in interest that was accumulated in the first year. This means that in the second year, you would earn 5% of $1050, or $52.50 in interest. The balance in your account at the end of the second year would be $1102.50 ($1050 principal + $52.50 interest).As you can see, the amount of interest earned increases each year due to the compound interest effect. The longer you leave the money in the account, the more compound interest it will accrue, leading to exponential growth over time.\n",
            "The FDIC (Federal Deposit Insurance Corporation) is a government agency that provides insurance coverage for deposits in banks and savings institutions up to $250,000 per depositor, per institution. If you have more money than the FDIC coverage limit, you can consider the following options to protect your funds:Spread your money among different financial institutions: You can open accounts at multiple banks or credit unions, so that each account is insured up to the FDIC limit. This way, even if one institution fails, your deposits at other institutions will be protected.Invest in FDIC-insured products: Some financial products, such as certificates of deposit (CDs) and money market accounts, are FDIC-insured up to the coverage limit. You can consider investing in these products to protect your money.Use a bank with higher coverage limits: Some banks offer higher coverage limits than the FDIC, either through private insurance or by purchasing additional FDIC coverage. You can check with individual banks to see if they offer higher coverage limits.Consider other types of insurance: In addition to FDIC insurance, you can also consider other types of insurance, such as private bank deposit insurance, to protect your money.It's important to note that no insurance program can guarantee the safety of your deposits. It's always a good idea to carefully research and evaluate the financial health of any institution you are considering using for your banking and investment needs.\n",
            "In most cases, yes. When you place a trade through a broker, the broker will typically act as an intermediary and send your trade to an exchange to be executed. The broker may also have its own trading desk that can execute trades directly, without sending them to an exchange. However, in either case, the broker is responsible for executing the trade on your behalf.It's important to note that brokers are required to execute trades in a fair and unbiased manner, and they are not allowed to trade against their clients. This means that they must execute your trade at the best available price, and they are not allowed to profit from your trades by taking the opposite side of the trade themselves.\n",
            "There are several factors to consider when evaluating index funds:Investment objective: Make sure the index fund aligns with your investment goals and risk tolerance.Expense ratio: This is the annual fee charged by the fund to cover its operating expenses. A lower expense ratio means more of your money is invested and less is going towards fees.Diversification: Consider how well the index fund diversifies your portfolio. A well-diversified index fund should include a wide range of securities in different sectors, industries, and countries.Index methodology: Different index funds track different benchmarks, or indexes. Make sure the index being tracked aligns with your investment goals and is transparent in its methodology for selecting and weighting securities.Tax efficiency: Some index funds are more tax-efficient than others, meaning they generate fewer capital gains that are subject to taxes. This can be an important consideration for taxable accounts.Liquidity: Consider how easy it is to buy and sell shares of the index fund.Historical performance: Look at the fund's historical performance to get an idea of how it has performed over different market conditions. However, keep in mind that past performance is not necessarily indicative of future results.Investment minimums: Some index funds have minimum investment requirements, so make sure you can meet those requirements before investing.Fund manager: Consider the fund manager's experience and track record, as well as any changes in management that have occurred.\n",
            "A subsidy is a financial assistance or support provided by a government or other organization to a business or individual. It is often given to promote a particular economic activity or to help a particular group of people, such as farmers or students. Subsidies can take many forms, such as direct payments, tax breaks, or low-interest loans. They are often used to encourage businesses to produce certain goods or to make it easier for individuals to afford certain services or products. Subsidies can also be used to protect domestic industries from foreign competition, or to help address social or environmental issues.\n",
            "The Fibonacci sequence is a series of numbers in which each number is the sum of the two preceding ones, usually starting with 0 and 1. For example, the first six Fibonacci numbers are 0, 1, 1, 2, 3, 5. The Fibonacci sequence has many interesting properties and appears in various areas of mathematics and science. It is named after the Italian mathematician Leonardo Fibonacci, who introduced it to the Western world in his 1202 book \"Liber Abaci.\"\n",
            "There are a few possible reasons why stock or commodity prices might rise suddenly just before the market closes. One reason could be that there is a surge in demand for the stock or commodity as a result of some news or event that was released just before the close of the market. This increased demand can push the price of the stock or commodity higher.Another reason could be that traders or investors are trying to manipulate the price of the stock or commodity in order to benefit from the closing price. For example, a trader might try to drive the price of a stock higher just before the market closes in order to sell the stock at a higher price.It is also possible that the sudden rise in price could be due to a technical glitch or error, such as a mistake in the price data that is being displayed.Regardless of the reason, it is important to remember that stock and commodity prices can be volatile and may fluctuate significantly in a short period of time, so it is always important to carefully consider the risks and uncertainties involved in investing.\n",
            "It's not possible for me to accurately determine what percentage of your company you should own if you are the only one putting money into it. The percentage of ownership that you should have in your company will depend on a variety of factors, including the amount of money you are investing, the terms of your investment, and the overall structure and ownership of the company.If you are the only investor in your company, it's possible that you may want to consider owning a larger percentage of the company in order to have more control over its direction and decision-making. However, it's important to carefully consider all of the potential risks and rewards of owning a large percentage of the company, as well as the potential impact on your financial security and the long-term success of the company.It may be helpful to consult with a lawyer or other financial advisor to help you determine the appropriate percentage of ownership for your situation. They can help you understand the potential legal and financial implications of different ownership structures and help you make an informed decision about the best course of action for your business.\n"
          ]
        }
      ]
    },
    {
      "cell_type": "markdown",
      "source": [
        "## Evaluate the Pipeline Response\n",
        "\n",
        "### Context Utilization\n",
        "\n",
        "Measures how complete the generated response is for the question specified given the information provided in the context."
      ],
      "metadata": {
        "id": "24gLzfVKTKB5"
      }
    },
    {
      "cell_type": "code",
      "source": [
        "context_utilization_pipeline = Pipeline()\n",
        "evaluator = RagasEvaluator(metric=RagasMetric.CONTEXT_UTILIZATION)\n",
        "context_utilization_pipeline.add_component(\"evaluator\", evaluator)"
      ],
      "metadata": {
        "id": "VfntsJYxGdta"
      },
      "execution_count": 21,
      "outputs": []
    },
    {
      "cell_type": "code",
      "source": [
        "evaluation_results = context_utilization_pipeline.run(\n",
        "    {\"evaluator\": {\"questions\": questions, \"contexts\": contexts, \"responses\": responses}}\n",
        ")\n",
        "print(evaluation_results[\"evaluator\"][\"results\"])"
      ],
      "metadata": {
        "colab": {
          "base_uri": "https://localhost:8080/",
          "height": 86,
          "referenced_widgets": [
            "ce9c14ec0c044a49bfed40cc8aec88bc",
            "c91f6f5fe78c477e9d6140dde06bbf28",
            "849b38bee0db4f29bc5781b5cf780647",
            "cff0c4b3e4ae4d3d8e0e9ac639eaa11c",
            "9c099fbd1cb04ea4a6c94e11fddf9dfe",
            "9c7e5d897e3e4237b14e78acc2fa6d9c",
            "8c463028131b4845acd3b94c80fb563d",
            "1cace84d14264044999c74e63cabe5d5",
            "768201df92e24e9e8cea2a2fa7175965",
            "15605c2b4d424fb49c2fc7749cdc96b5",
            "1e2d98cd705944b4a805f21bdb9fb214"
          ]
        },
        "id": "FYpxIMW4GxTb",
        "outputId": "906d9891-0277-4c68-c22e-4b9ff46cc0e4"
      },
      "execution_count": 22,
      "outputs": [
        {
          "output_type": "display_data",
          "data": {
            "text/plain": [
              "Evaluating:   0%|          | 0/30 [00:00<?, ?it/s]"
            ],
            "application/vnd.jupyter.widget-view+json": {
              "version_major": 2,
              "version_minor": 0,
              "model_id": "ce9c14ec0c044a49bfed40cc8aec88bc"
            }
          },
          "metadata": {}
        },
        {
          "output_type": "stream",
          "name": "stdout",
          "text": [
            "[[{'name': 'context_utilization', 'score': 0.9999999999}], [{'name': 'context_utilization', 'score': 0.49999999995}], [{'name': 'context_utilization', 'score': 0.0}], [{'name': 'context_utilization', 'score': 0.9999999999}], [{'name': 'context_utilization', 'score': 0.8333333332916666}], [{'name': 'context_utilization', 'score': 0.9999999999}], [{'name': 'context_utilization', 'score': 0.9999999999666667}], [{'name': 'context_utilization', 'score': 0.0}], [{'name': 'context_utilization', 'score': 0.9999999999}], [{'name': 'context_utilization', 'score': 0.0}], [{'name': 'context_utilization', 'score': 0.0}], [{'name': 'context_utilization', 'score': 0.0}], [{'name': 'context_utilization', 'score': 0.9999999999}], [{'name': 'context_utilization', 'score': 0.0}], [{'name': 'context_utilization', 'score': 0.5833333333041666}], [{'name': 'context_utilization', 'score': 0.9999999999}], [{'name': 'context_utilization', 'score': 0.0}], [{'name': 'context_utilization', 'score': 0.9999999999666667}], [{'name': 'context_utilization', 'score': 0.0}], [{'name': 'context_utilization', 'score': 0.0}], [{'name': 'context_utilization', 'score': 0.0}], [{'name': 'context_utilization', 'score': 0.0}], [{'name': 'context_utilization', 'score': 0.9999999999}], [{'name': 'context_utilization', 'score': 0.9999999999}], [{'name': 'context_utilization', 'score': 0.0}], [{'name': 'context_utilization', 'score': 0.9999999999}], [{'name': 'context_utilization', 'score': 0.0}], [{'name': 'context_utilization', 'score': 0.0}], [{'name': 'context_utilization', 'score': 0.0}], [{'name': 'context_utilization', 'score': 0.0}]]\n"
          ]
        }
      ]
    },
    {
      "cell_type": "markdown",
      "source": [
        "### Context Precision\n",
        "\n",
        "Context Precision is a metric that evaluates whether all of the ground-truth relevant items present in the contexts are ranked higher or not."
      ],
      "metadata": {
        "id": "cnHCfXxEUZZo"
      }
    },
    {
      "cell_type": "code",
      "source": [
        "context_precision_pipeline = Pipeline()\n",
        "evaluator = RagasEvaluator(metric=RagasMetric.CONTEXT_PRECISION)\n",
        "context_precision_pipeline.add_component(\"evaluator\", evaluator)"
      ],
      "metadata": {
        "id": "r7ci0_J_Gz2Y"
      },
      "execution_count": 23,
      "outputs": []
    },
    {
      "cell_type": "code",
      "source": [
        "evaluation_results = context_precision_pipeline.run(\n",
        "    {\"evaluator\": {\"questions\": questions, \"contexts\": contexts, \"ground_truths\": ground_truths}}\n",
        ")\n",
        "print(evaluation_results[\"evaluator\"][\"results\"])"
      ],
      "metadata": {
        "colab": {
          "base_uri": "https://localhost:8080/",
          "height": 86,
          "referenced_widgets": [
            "ff1ee82624e94c8da13a7a12f3c8a358",
            "d971be05d71a421db90e529227d0acce",
            "be779440abac4599989467690b64eba3",
            "48fa942dde3f47a88adfc7314551b7e8",
            "7c08051e387847539e8f09c8ba638748",
            "56f761a949204fed8c0d0f97e2282876",
            "54840f91182c4f9998efc1d8ffa43cc8",
            "733d4b3920b241da98f7df04f49eb8a2",
            "2ddfab2b0bb84a87b556c755cb0cfd9b",
            "0f4728f6ab244f0286d060c9a210b705",
            "2719372de11b43c4ad290e3930097007"
          ]
        },
        "id": "qcqtpVs7Hz6c",
        "outputId": "019838ac-5276-4053-ff4c-212163e498c3"
      },
      "execution_count": 24,
      "outputs": [
        {
          "output_type": "display_data",
          "data": {
            "text/plain": [
              "Evaluating:   0%|          | 0/30 [00:00<?, ?it/s]"
            ],
            "application/vnd.jupyter.widget-view+json": {
              "version_major": 2,
              "version_minor": 0,
              "model_id": "ff1ee82624e94c8da13a7a12f3c8a358"
            }
          },
          "metadata": {}
        },
        {
          "output_type": "stream",
          "name": "stdout",
          "text": [
            "[[{'name': 'context_precision', 'score': 0.9999999999}], [{'name': 'context_precision', 'score': 0.9999999999666667}], [{'name': 'context_precision', 'score': 0.0}], [{'name': 'context_precision', 'score': 0.0}], [{'name': 'context_precision', 'score': 0.0}], [{'name': 'context_precision', 'score': 0.0}], [{'name': 'context_precision', 'score': 0.9999999999666667}], [{'name': 'context_precision', 'score': 0.9999999999}], [{'name': 'context_precision', 'score': 0.9999999999}], [{'name': 'context_precision', 'score': 0.0}], [{'name': 'context_precision', 'score': 0.9999999999}], [{'name': 'context_precision', 'score': 0.99999999995}], [{'name': 'context_precision', 'score': 0.0}], [{'name': 'context_precision', 'score': 0.9999999999}], [{'name': 'context_precision', 'score': 0.3333333333}], [{'name': 'context_precision', 'score': 0.0}], [{'name': 'context_precision', 'score': 0.0}], [{'name': 'context_precision', 'score': 0.5833333333041666}], [{'name': 'context_precision', 'score': 0.0}], [{'name': 'context_precision', 'score': 0.9999999999666667}], [{'name': 'context_precision', 'score': 0.9999999999}], [{'name': 'context_precision', 'score': 0.0}], [{'name': 'context_precision', 'score': 0.9999999999}], [{'name': 'context_precision', 'score': 0.9999999999}], [{'name': 'context_precision', 'score': 0.0}], [{'name': 'context_precision', 'score': 0.0}], [{'name': 'context_precision', 'score': 0.0}], [{'name': 'context_precision', 'score': 0.0}], [{'name': 'context_precision', 'score': 0.0}], [{'name': 'context_precision', 'score': 0.0}]]\n"
          ]
        }
      ]
    },
    {
      "cell_type": "markdown",
      "source": [
        "### Context Recall\n",
        "\n",
        "Context recall measures the extent to which the retrieved context aligns with the annotated answer, treated as the ground truth."
      ],
      "metadata": {
        "id": "Iu6J3RU1Usb9"
      }
    },
    {
      "cell_type": "code",
      "source": [
        "context_recall_pipeline = Pipeline()\n",
        "evaluator = RagasEvaluator(metric=RagasMetric.CONTEXT_RECALL)\n",
        "context_recall_pipeline.add_component(\"evaluator\", evaluator)"
      ],
      "metadata": {
        "id": "_PfqIDwjH1Ij"
      },
      "execution_count": 25,
      "outputs": []
    },
    {
      "cell_type": "code",
      "source": [
        "evaluation_results = context_recall_pipeline.run(\n",
        "    {\"evaluator\": {\"questions\": questions, \"contexts\": contexts, \"ground_truths\": ground_truths}}\n",
        ")\n",
        "print(evaluation_results[\"evaluator\"][\"results\"])"
      ],
      "metadata": {
        "colab": {
          "base_uri": "https://localhost:8080/",
          "height": 86,
          "referenced_widgets": [
            "a4302dea116840cdbf8bff7036941a7e",
            "8b680785f92448d19aae518a1c25a5bc",
            "8d04dc3111cd498fa8d8a695a97e0403",
            "36eae9d5bed6409ea239322c6c27af93",
            "c8d49873c8ad41f1973d5fe41c04137c",
            "800fe1dce8f84fcfa5b9d19d38ab39cd",
            "2468a2e7fffc45ac938ee3600e61ffaa",
            "4325694c6ec84b48af4d0779a3444206",
            "7d187e85ba8347bba95c2a03a7892ac3",
            "c6de6371e244427ba814c5e419beac5d",
            "40642c36c63d4263ac2552790ed84e8f"
          ]
        },
        "id": "esESxNtIH5Ka",
        "outputId": "d8850c8f-c6d9-4335-e408-959a10a59159"
      },
      "execution_count": 26,
      "outputs": [
        {
          "output_type": "display_data",
          "data": {
            "text/plain": [
              "Evaluating:   0%|          | 0/30 [00:00<?, ?it/s]"
            ],
            "application/vnd.jupyter.widget-view+json": {
              "version_major": 2,
              "version_minor": 0,
              "model_id": "a4302dea116840cdbf8bff7036941a7e"
            }
          },
          "metadata": {}
        },
        {
          "output_type": "stream",
          "name": "stdout",
          "text": [
            "[[{'name': 'context_recall', 'score': 0.0}], [{'name': 'context_recall', 'score': 0.375}], [{'name': 'context_recall', 'score': 0.0}], [{'name': 'context_recall', 'score': 0.0}], [{'name': 'context_recall', 'score': 0.0}], [{'name': 'context_recall', 'score': 0.2857142857142857}], [{'name': 'context_recall', 'score': 1.0}], [{'name': 'context_recall', 'score': 0.0}], [{'name': 'context_recall', 'score': 0.1}], [{'name': 'context_recall', 'score': 0.0}], [{'name': 'context_recall', 'score': 0.0}], [{'name': 'context_recall', 'score': 0.0}], [{'name': 'context_recall', 'score': 0.0}], [{'name': 'context_recall', 'score': 0.0}], [{'name': 'context_recall', 'score': 0.125}], [{'name': 'context_recall', 'score': 0.0}], [{'name': 'context_recall', 'score': 0.0}], [{'name': 'context_recall', 'score': 1.0}], [{'name': 'context_recall', 'score': 0.25}], [{'name': 'context_recall', 'score': 0.0}], [{'name': 'context_recall', 'score': 0.5714285714285714}], [{'name': 'context_recall', 'score': 0.5}], [{'name': 'context_recall', 'score': 0.0}], [{'name': 'context_recall', 'score': 0.0}], [{'name': 'context_recall', 'score': 0.5}], [{'name': 'context_recall', 'score': 0.1}], [{'name': 'context_recall', 'score': 0.0}], [{'name': 'context_recall', 'score': 0.0}], [{'name': 'context_recall', 'score': 0.14285714285714285}], [{'name': 'context_recall', 'score': 1.0}]]\n"
          ]
        }
      ]
    },
    {
      "cell_type": "markdown",
      "source": [
        "### Answer Relevancy\n",
        "\n",
        "Answer Relevancy, focuses on assessing how pertinent the generated answer is to the given prompt."
      ],
      "metadata": {
        "id": "rAxUfzwiUurC"
      }
    },
    {
      "cell_type": "code",
      "source": [
        "answer_relevancy_pipeline = Pipeline()\n",
        "evaluator = RagasEvaluator(\n",
        "    metric=RagasMetric.ANSWER_RELEVANCY,\n",
        "    metric_params={\n",
        "        \"strictness\": 2\n",
        "    })\n",
        "answer_relevancy_pipeline.add_component(\"evaluator\", evaluator)"
      ],
      "metadata": {
        "id": "RpZyfjOdNXX8"
      },
      "execution_count": 27,
      "outputs": []
    },
    {
      "cell_type": "code",
      "source": [
        "evaluation_results = answer_relevancy_pipeline.run(\n",
        "    {\"evaluator\": {\"questions\": questions, \"contexts\": contexts, \"responses\": responses}}\n",
        ")\n",
        "print(evaluation_results[\"evaluator\"][\"results\"])"
      ],
      "metadata": {
        "id": "7SUcSkl3H6SP",
        "colab": {
          "base_uri": "https://localhost:8080/",
          "height": 86,
          "referenced_widgets": [
            "1623d07812de4fda9ff4e960d0658587",
            "0bb3cb7fb28e4d29b4c9ffb687cdeb4a",
            "0eb3b9c657794253a1c5d6dc2070a6d4",
            "78b045a1ba5d4f5c9ce15284068552e4",
            "aa01c55f754347b28bfa36b82d09d958",
            "8949ad3add0246f1954363e0c5c581cd",
            "5f52c1d531824ebeb256e75dc76f22a4",
            "ad69858cd6154563a4f0a9429ddb8c07",
            "f9d8f3eb8d6749e18399f00fe250f028",
            "b15dd92f456a4bd092bdbb612808fb58",
            "4796640829a6483daaacd1e41b7719fc"
          ]
        },
        "outputId": "97d467c0-e1ef-4393-a9ff-a51fdf949b47"
      },
      "execution_count": 28,
      "outputs": [
        {
          "output_type": "display_data",
          "data": {
            "text/plain": [
              "Evaluating:   0%|          | 0/30 [00:00<?, ?it/s]"
            ],
            "application/vnd.jupyter.widget-view+json": {
              "version_major": 2,
              "version_minor": 0,
              "model_id": "1623d07812de4fda9ff4e960d0658587"
            }
          },
          "metadata": {}
        },
        {
          "output_type": "stream",
          "name": "stdout",
          "text": [
            "[[{'name': 'answer_relevancy', 'score': 0.9901914908694829}], [{'name': 'answer_relevancy', 'score': 0.0}], [{'name': 'answer_relevancy', 'score': 0.0}], [{'name': 'answer_relevancy', 'score': 0.9501001925943281}], [{'name': 'answer_relevancy', 'score': 0.9541345317567568}], [{'name': 'answer_relevancy', 'score': 0.9678885305555985}], [{'name': 'answer_relevancy', 'score': 0.0}], [{'name': 'answer_relevancy', 'score': 1.0000000000000004}], [{'name': 'answer_relevancy', 'score': 0.9837902000773111}], [{'name': 'answer_relevancy', 'score': 0.0}], [{'name': 'answer_relevancy', 'score': 1.000000000000001}], [{'name': 'answer_relevancy', 'score': 0.0}], [{'name': 'answer_relevancy', 'score': 0.0}], [{'name': 'answer_relevancy', 'score': 0.9686802126970857}], [{'name': 'answer_relevancy', 'score': 0.964283354101134}], [{'name': 'answer_relevancy', 'score': 0.0}], [{'name': 'answer_relevancy', 'score': 0.9757469331020165}], [{'name': 'answer_relevancy', 'score': 0.0}], [{'name': 'answer_relevancy', 'score': 0.9909739974091732}], [{'name': 'answer_relevancy', 'score': 0.9674693153991386}], [{'name': 'answer_relevancy', 'score': 0.9820081460467573}], [{'name': 'answer_relevancy', 'score': 0.9678111685510787}], [{'name': 'answer_relevancy', 'score': 0.9644701343328091}], [{'name': 'answer_relevancy', 'score': 0.9760865772097879}], [{'name': 'answer_relevancy', 'score': 1.0000000000000004}], [{'name': 'answer_relevancy', 'score': 1.0}], [{'name': 'answer_relevancy', 'score': 1.0000000000000009}], [{'name': 'answer_relevancy', 'score': 0.9443362267311495}], [{'name': 'answer_relevancy', 'score': 0.974938909608983}], [{'name': 'answer_relevancy', 'score': 0.0}]]\n"
          ]
        }
      ]
    },
    {
      "cell_type": "markdown",
      "source": [
        "### Faithfulness Pipeline\n",
        "\n",
        "This measures the factual consistency of the generated answer against the given context. It is calculated from answer and retrieved context."
      ],
      "metadata": {
        "id": "ESy5YauHUxe2"
      }
    },
    {
      "cell_type": "code",
      "source": [
        "faithfulness_pipeline = Pipeline()\n",
        "evaluator = RagasEvaluator(metric=RagasMetric.FAITHFULNESS)\n",
        "faithfulness_pipeline.add_component(\"evaluator\", evaluator)"
      ],
      "metadata": {
        "id": "RhX3oDJlNbSI"
      },
      "execution_count": 29,
      "outputs": []
    },
    {
      "cell_type": "code",
      "source": [
        "evaluation_results = faithfulness_pipeline.run(\n",
        "    {\"evaluator\": {\"questions\": questions, \"contexts\": contexts, \"responses\": responses}}\n",
        ")\n",
        "print(evaluation_results[\"evaluator\"][\"results\"])"
      ],
      "metadata": {
        "colab": {
          "base_uri": "https://localhost:8080/",
          "height": 86,
          "referenced_widgets": [
            "a69b5ec3a991474a9897f6bd45509296",
            "5ac48fcd90424f5786fcaacc78112b80",
            "18cfc159dc8a4c4a85f9cc1840956d02",
            "3879b4b671a246b8ba42b149135ca357",
            "dfcf983d1cab4746965c87707eee748f",
            "197f99f268b44ad8805ed7fbd187e66e",
            "8ffdb1b15b524d1d8438056491e70869",
            "6a48c919da6b40ec82a4d9f6eaf40abb",
            "c8f344ee04514146ac82c31a4f90b05a",
            "b541b77ebe57414f8c1d465c1a3126d6",
            "c77ac2cc9f1a4a20ac6bd46471e40631"
          ]
        },
        "id": "ubcyH6iXNgFp",
        "outputId": "db7d9eeb-acfe-4dd3-af58-c81a200d588d"
      },
      "execution_count": 30,
      "outputs": [
        {
          "output_type": "display_data",
          "data": {
            "text/plain": [
              "Evaluating:   0%|          | 0/30 [00:00<?, ?it/s]"
            ],
            "application/vnd.jupyter.widget-view+json": {
              "version_major": 2,
              "version_minor": 0,
              "model_id": "a69b5ec3a991474a9897f6bd45509296"
            }
          },
          "metadata": {}
        },
        {
          "output_type": "stream",
          "name": "stdout",
          "text": [
            "[[{'name': 'faithfulness', 'score': 0.7058823529411765}], [{'name': 'faithfulness', 'score': 0.7142857142857143}], [{'name': 'faithfulness', 'score': 0.0}], [{'name': 'faithfulness', 'score': 1.0}], [{'name': 'faithfulness', 'score': 0.8181818181818182}], [{'name': 'faithfulness', 'score': 0.5}], [{'name': 'faithfulness', 'score': 0.9523809523809523}], [{'name': 'faithfulness', 'score': 0.0}], [{'name': 'faithfulness', 'score': 1.0}], [{'name': 'faithfulness', 'score': 1.0}], [{'name': 'faithfulness', 'score': 0.4375}], [{'name': 'faithfulness', 'score': 0.125}], [{'name': 'faithfulness', 'score': 1.0}], [{'name': 'faithfulness', 'score': 1.0}], [{'name': 'faithfulness', 'score': 0.6875}], [{'name': 'faithfulness', 'score': 0.8823529411764706}], [{'name': 'faithfulness', 'score': 0.2}], [{'name': 'faithfulness', 'score': 0.7368421052631579}], [{'name': 'faithfulness', 'score': 1.0}], [{'name': 'faithfulness', 'score': 0.08333333333333333}], [{'name': 'faithfulness', 'score': 0.5}], [{'name': 'faithfulness', 'score': 0.625}], [{'name': 'faithfulness', 'score': 1.0}], [{'name': 'faithfulness', 'score': 0.5882352941176471}], [{'name': 'faithfulness', 'score': 0.5}], [{'name': 'faithfulness', 'score': 0.11538461538461539}], [{'name': 'faithfulness', 'score': 0.0}], [{'name': 'faithfulness', 'score': 0.6153846153846154}], [{'name': 'faithfulness', 'score': 0.125}], [{'name': 'faithfulness', 'score': 1.0}]]\n"
          ]
        }
      ]
    },
    {
      "cell_type": "markdown",
      "source": [
        "### Answer Correctness Pipeline\n",
        "\n",
        "The assessment of Answer Correctness involves gauging the accuracy of the generated answer when compared to the ground truth."
      ],
      "metadata": {
        "id": "5AuJEVkIUz_R"
      }
    },
    {
      "cell_type": "code",
      "source": [
        "answer_correctness_pipeline = Pipeline()\n",
        "evaluator = RagasEvaluator(\n",
        "    metric=RagasMetric.ANSWER_CORRECTNESS,\n",
        "    metric_params={\n",
        "        \"weights\": [0.5, 0.2]\n",
        "    })\n",
        "answer_correctness_pipeline.add_component(\"evaluator\", evaluator)"
      ],
      "metadata": {
        "id": "8CSgSPnENhSQ"
      },
      "execution_count": 31,
      "outputs": []
    },
    {
      "cell_type": "code",
      "source": [
        "evaluation_results = answer_correctness_pipeline.run(\n",
        "    {\"evaluator\": {\"questions\": questions, \"responses\": responses, \"ground_truths\": ground_truths}}\n",
        ")\n",
        "print(evaluation_results[\"evaluator\"][\"results\"])"
      ],
      "metadata": {
        "colab": {
          "base_uri": "https://localhost:8080/",
          "height": 86,
          "referenced_widgets": [
            "c524f28f5b9c4cafa16fe6a0d864c2d1",
            "6fe494f5008044bab15a736832765728",
            "ab77b4532aa34111bafa12f57b4110dc",
            "9e611d3f650c4845814be8f20ee6e08f",
            "39f69f333d464d2fab053a3c7f3434af",
            "546bec1c365342a380791017cde8d76a",
            "414282e38f044dd88f764d0d542be55e",
            "39dd82de8030493ca368c44f5f5adf0e",
            "8428796b6bc44b7798a6eeae8b8c9378",
            "098b81367e7b4195b3c469632c67f6f6",
            "6de29dfb7ec145df92ced4fa640cb163"
          ]
        },
        "id": "zRHHFrMGNjaQ",
        "outputId": "1e6649fc-a2f8-41d8-ab53-e69504d38b38"
      },
      "execution_count": 32,
      "outputs": [
        {
          "output_type": "display_data",
          "data": {
            "text/plain": [
              "Evaluating:   0%|          | 0/30 [00:00<?, ?it/s]"
            ],
            "application/vnd.jupyter.widget-view+json": {
              "version_major": 2,
              "version_minor": 0,
              "model_id": "c524f28f5b9c4cafa16fe6a0d864c2d1"
            }
          },
          "metadata": {}
        },
        {
          "output_type": "stream",
          "name": "stdout",
          "text": [
            "[[{'name': 'answer_correctness', 'score': 0.8721492949216099}], [{'name': 'answer_correctness', 'score': 0.5828928229202719}], [{'name': 'answer_correctness', 'score': 0.7740545224476927}], [{'name': 'answer_correctness', 'score': 0.18493696035741705}], [{'name': 'answer_correctness', 'score': 0.18269783895901268}], [{'name': 'answer_correctness', 'score': 0.6305810977874075}], [{'name': 'answer_correctness', 'score': 0.5478997262253037}], [{'name': 'answer_correctness', 'score': 0.7141711743268223}], [{'name': 'answer_correctness', 'score': 0.7727332723793807}], [{'name': 'answer_correctness', 'score': 0.583418575447922}], [{'name': 'answer_correctness', 'score': 0.4189984972617884}], [{'name': 'answer_correctness', 'score': 0.4407377526154755}], [{'name': 'answer_correctness', 'score': 0.7331082971708709}], [{'name': 'answer_correctness', 'score': 0.7884992063178625}], [{'name': 'answer_correctness', 'score': 0.5603482601226317}], [{'name': 'answer_correctness', 'score': 0.7151711787670791}], [{'name': 'answer_correctness', 'score': 0.6957376649424004}], [{'name': 'answer_correctness', 'score': 0.745233100042875}], [{'name': 'answer_correctness', 'score': 0.6525906898561535}], [{'name': 'answer_correctness', 'score': 0.7510860756308688}], [{'name': 'answer_correctness', 'score': 0.6320383241251892}], [{'name': 'answer_correctness', 'score': 0.8130244700493341}], [{'name': 'answer_correctness', 'score': 0.7948340134784195}], [{'name': 'answer_correctness', 'score': 0.7202626665403609}], [{'name': 'answer_correctness', 'score': 0.9132572927932572}], [{'name': 'answer_correctness', 'score': 0.7711599209385737}], [{'name': 'answer_correctness', 'score': 0.7570249144624184}], [{'name': 'answer_correctness', 'score': 0.8977509805125209}], [{'name': 'answer_correctness', 'score': 0.5466301334223307}], [{'name': 'answer_correctness', 'score': 0.658335261786289}]]\n"
          ]
        }
      ]
    },
    {
      "cell_type": "markdown",
      "source": [
        "### Aspect Critique Pipeline\n",
        "\n",
        "This is designed to assess submissions based on predefined aspects such as harmlessness and correctness."
      ],
      "metadata": {
        "id": "8w-pw5qrU29U"
      }
    },
    {
      "cell_type": "code",
      "source": [
        "aspect_critique_pipeline = Pipeline()\n",
        "evaluator = RagasEvaluator(\n",
        "    metric=RagasMetric.ASPECT_CRITIQUE,\n",
        "    metric_params={\n",
        "        \"name\": \"maliciousness\",\n",
        "        \"definition\": \"Is the submission intends to harm, deceive, or exploit users?\",\n",
        "        \"strictness\": 2,\n",
        "    },\n",
        ")\n",
        "aspect_critique_pipeline.add_component(\"evaluator\", evaluator)"
      ],
      "metadata": {
        "id": "n1VQzI6cNkUT"
      },
      "execution_count": 33,
      "outputs": []
    },
    {
      "cell_type": "code",
      "source": [
        "evaluation_results = aspect_critique_pipeline.run(\n",
        "    {\"evaluator\": {\"questions\": questions, \"contexts\": contexts, \"responses\": responses}}\n",
        ")\n",
        "print(evaluation_results[\"evaluator\"][\"results\"])"
      ],
      "metadata": {
        "id": "9b9-S9hfNmjg",
        "colab": {
          "base_uri": "https://localhost:8080/",
          "height": 86,
          "referenced_widgets": [
            "8cef841469a947c59e04576017ed036e",
            "763f6e7731834497aee71433079bcb3a",
            "178b11ea79b24e3d997d01175e29cfc2",
            "5b952079bf134dcd8054b2826fc5596f",
            "789f833442414d07a440dc254eb5c800",
            "b4bdb98062684863bdb95878e1a35e42",
            "8ae2598ab1c646eab5155c6cd6031d28",
            "d3a191c67ca3457d8415858cdce91434",
            "ed80b7fe6706403789d8ecd4f23753fb",
            "96bfef6514284cc58540b212d16cf2cb",
            "d2a84fd299fc4125a1fa1a5935cfca31"
          ]
        },
        "outputId": "88aa587f-f0ef-4662-e8db-f3122fcca981"
      },
      "execution_count": 34,
      "outputs": [
        {
          "output_type": "display_data",
          "data": {
            "text/plain": [
              "Evaluating:   0%|          | 0/30 [00:00<?, ?it/s]"
            ],
            "application/vnd.jupyter.widget-view+json": {
              "version_major": 2,
              "version_minor": 0,
              "model_id": "8cef841469a947c59e04576017ed036e"
            }
          },
          "metadata": {}
        },
        {
          "output_type": "stream",
          "name": "stdout",
          "text": [
            "[[{'name': 'maliciousness', 'score': 1}], [{'name': 'maliciousness', 'score': 0}], [{'name': 'maliciousness', 'score': 0}], [{'name': 'maliciousness', 'score': 0}], [{'name': 'maliciousness', 'score': 0}], [{'name': 'maliciousness', 'score': 0}], [{'name': 'maliciousness', 'score': 0}], [{'name': 'maliciousness', 'score': 0}], [{'name': 'maliciousness', 'score': 0}], [{'name': 'maliciousness', 'score': 0}], [{'name': 'maliciousness', 'score': 0}], [{'name': 'maliciousness', 'score': 0}], [{'name': 'maliciousness', 'score': 0}], [{'name': 'maliciousness', 'score': 0}], [{'name': 'maliciousness', 'score': 1}], [{'name': 'maliciousness', 'score': 1}], [{'name': 'maliciousness', 'score': 0}], [{'name': 'maliciousness', 'score': 0}], [{'name': 'maliciousness', 'score': 0}], [{'name': 'maliciousness', 'score': 0}], [{'name': 'maliciousness', 'score': 0}], [{'name': 'maliciousness', 'score': 0}], [{'name': 'maliciousness', 'score': 1}], [{'name': 'maliciousness', 'score': 0}], [{'name': 'maliciousness', 'score': 0}], [{'name': 'maliciousness', 'score': 0}], [{'name': 'maliciousness', 'score': 0}], [{'name': 'maliciousness', 'score': 0}], [{'name': 'maliciousness', 'score': 0}], [{'name': 'maliciousness', 'score': 0}]]\n"
          ]
        }
      ]
    },
    {
      "cell_type": "markdown",
      "source": [
        "### Answer Similarity\n",
        "\n",
        "The concept of Answer Similarity pertains to the assessment of the semantic resemblance between the generated answer and the ground truth"
      ],
      "metadata": {
        "id": "OMzKLd1qU7Gd"
      }
    },
    {
      "cell_type": "code",
      "source": [
        "answer_similarity_pipeline = Pipeline()\n",
        "evaluator = RagasEvaluator(\n",
        "    metric=RagasMetric.ANSWER_SIMILARITY,\n",
        "    metric_params={\n",
        "        \"threshold\": 1\n",
        "    },\n",
        ")\n",
        "answer_similarity_pipeline.add_component(\"evaluator\", evaluator)"
      ],
      "metadata": {
        "id": "ep-Zn7FPNn4W"
      },
      "execution_count": 35,
      "outputs": []
    },
    {
      "cell_type": "code",
      "source": [
        "evaluation_results = answer_similarity_pipeline.run(\n",
        "    {\"evaluator\": {\"responses\": responses, \"ground_truths\": ground_truths}}\n",
        ")\n",
        "print(evaluation_results[\"evaluator\"][\"results\"])"
      ],
      "metadata": {
        "colab": {
          "base_uri": "https://localhost:8080/",
          "height": 86,
          "referenced_widgets": [
            "4cbaf3a893714a3dbfeb121cbdc8887b",
            "de12a604b4464036ae18e31324f66990",
            "a44830178af44e3b9dae1d6ffde2e01e",
            "b407ba26ea7c4158ac613b6593af4572",
            "7fd060c1f22d4af192f17dbf273dd7f1",
            "301cfa98958b41e8bf46a67aa159df26",
            "778340d2f99141738bbf310bcf64b7dc",
            "292ccd15f55f4c4f8ca63683e00ccccb",
            "d03df3919cdf42349d400d7cbffdf240",
            "c1593b2afa8a46d4916bfcdf15ad16f5",
            "9466c3dc2dbb4cf99b035847f296edc6"
          ]
        },
        "id": "9xGaquvbNq9s",
        "outputId": "4b492b88-ec91-441b-8e20-0434093a325c"
      },
      "execution_count": 36,
      "outputs": [
        {
          "output_type": "display_data",
          "data": {
            "text/plain": [
              "Evaluating:   0%|          | 0/30 [00:00<?, ?it/s]"
            ],
            "application/vnd.jupyter.widget-view+json": {
              "version_major": 2,
              "version_minor": 0,
              "model_id": "4cbaf3a893714a3dbfeb121cbdc8887b"
            }
          },
          "metadata": {}
        },
        {
          "output_type": "stream",
          "name": "stdout",
          "text": [
            "[[{'name': 'answer_similarity', 'score': False}], [{'name': 'answer_similarity', 'score': False}], [{'name': 'answer_similarity', 'score': False}], [{'name': 'answer_similarity', 'score': False}], [{'name': 'answer_similarity', 'score': False}], [{'name': 'answer_similarity', 'score': False}], [{'name': 'answer_similarity', 'score': False}], [{'name': 'answer_similarity', 'score': False}], [{'name': 'answer_similarity', 'score': False}], [{'name': 'answer_similarity', 'score': False}], [{'name': 'answer_similarity', 'score': False}], [{'name': 'answer_similarity', 'score': False}], [{'name': 'answer_similarity', 'score': False}], [{'name': 'answer_similarity', 'score': False}], [{'name': 'answer_similarity', 'score': False}], [{'name': 'answer_similarity', 'score': False}], [{'name': 'answer_similarity', 'score': False}], [{'name': 'answer_similarity', 'score': False}], [{'name': 'answer_similarity', 'score': False}], [{'name': 'answer_similarity', 'score': False}], [{'name': 'answer_similarity', 'score': False}], [{'name': 'answer_similarity', 'score': False}], [{'name': 'answer_similarity', 'score': False}], [{'name': 'answer_similarity', 'score': False}], [{'name': 'answer_similarity', 'score': False}], [{'name': 'answer_similarity', 'score': False}], [{'name': 'answer_similarity', 'score': False}], [{'name': 'answer_similarity', 'score': False}], [{'name': 'answer_similarity', 'score': False}], [{'name': 'answer_similarity', 'score': False}]]\n"
          ]
        }
      ]
    },
    {
      "cell_type": "code",
      "source": [],
      "metadata": {
        "id": "2PU0faaY8Tqb"
      },
      "execution_count": 36,
      "outputs": []
    }
  ]
}