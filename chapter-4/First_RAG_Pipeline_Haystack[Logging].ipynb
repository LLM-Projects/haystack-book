{
  "cells": [
    {
      "cell_type": "markdown",
      "metadata": {
        "id": "2OvkPji9O-qX"
      },
      "source": [
        "# Tutorial: Creating Your First QA Pipeline with Retrieval-Augmentation On Custom Documents Using Haystack\n"
      ]
    },
    {
      "cell_type": "markdown",
      "metadata": {
        "id": "Kww5B_vXO-qZ"
      },
      "source": [
        "## Installing Haystack\n",
        "\n",
        "Install Haystack 2.0 and other required packages with `pip`:\n"
      ]
    },
    {
      "cell_type": "code",
      "execution_count": 1,
      "metadata": {
        "colab": {
          "base_uri": "https://localhost:8080/"
        },
        "id": "UQbU8GUfO-qZ",
        "outputId": "7cf776cf-b97b-43a4-e852-aaf0789c9743"
      },
      "outputs": [
        {
          "name": "stdout",
          "output_type": "stream",
          "text": [
            "Requirement already satisfied: haystack-ai in /Users/apple/Documents/haystack-book/.venv/lib/python3.9/site-packages (2.0.0)\n",
            "Requirement already satisfied: boilerpy3 in /Users/apple/Documents/haystack-book/.venv/lib/python3.9/site-packages (from haystack-ai) (1.0.7)\n",
            "Requirement already satisfied: haystack-bm25 in /Users/apple/Documents/haystack-book/.venv/lib/python3.9/site-packages (from haystack-ai) (1.0.2)\n",
            "Requirement already satisfied: jinja2 in /Users/apple/Documents/haystack-book/.venv/lib/python3.9/site-packages (from haystack-ai) (3.1.3)\n",
            "Requirement already satisfied: lazy-imports in /Users/apple/Documents/haystack-book/.venv/lib/python3.9/site-packages (from haystack-ai) (0.3.1)\n",
            "Requirement already satisfied: more-itertools in /Users/apple/Documents/haystack-book/.venv/lib/python3.9/site-packages (from haystack-ai) (10.2.0)\n",
            "Requirement already satisfied: networkx in /Users/apple/Documents/haystack-book/.venv/lib/python3.9/site-packages (from haystack-ai) (3.2.1)\n",
            "Requirement already satisfied: numpy in /Users/apple/Documents/haystack-book/.venv/lib/python3.9/site-packages (from haystack-ai) (1.26.4)\n",
            "Requirement already satisfied: openai>=1.1.0 in /Users/apple/Documents/haystack-book/.venv/lib/python3.9/site-packages (from haystack-ai) (1.14.3)\n",
            "Requirement already satisfied: pandas in /Users/apple/Documents/haystack-book/.venv/lib/python3.9/site-packages (from haystack-ai) (2.2.1)\n",
            "Requirement already satisfied: posthog in /Users/apple/Documents/haystack-book/.venv/lib/python3.9/site-packages (from haystack-ai) (3.5.0)\n",
            "Requirement already satisfied: python-dateutil in /Users/apple/Documents/haystack-book/.venv/lib/python3.9/site-packages (from haystack-ai) (2.9.0.post0)\n",
            "Requirement already satisfied: pyyaml in /Users/apple/Documents/haystack-book/.venv/lib/python3.9/site-packages (from haystack-ai) (6.0.1)\n",
            "Requirement already satisfied: requests in /Users/apple/Documents/haystack-book/.venv/lib/python3.9/site-packages (from haystack-ai) (2.31.0)\n",
            "Requirement already satisfied: tenacity in /Users/apple/Documents/haystack-book/.venv/lib/python3.9/site-packages (from haystack-ai) (8.2.3)\n",
            "Requirement already satisfied: tqdm in /Users/apple/Documents/haystack-book/.venv/lib/python3.9/site-packages (from haystack-ai) (4.66.2)\n",
            "Requirement already satisfied: typing-extensions>=4.7 in /Users/apple/Documents/haystack-book/.venv/lib/python3.9/site-packages (from haystack-ai) (4.10.0)\n",
            "Requirement already satisfied: anyio<5,>=3.5.0 in /Users/apple/Documents/haystack-book/.venv/lib/python3.9/site-packages (from openai>=1.1.0->haystack-ai) (4.3.0)\n",
            "Requirement already satisfied: distro<2,>=1.7.0 in /Users/apple/Documents/haystack-book/.venv/lib/python3.9/site-packages (from openai>=1.1.0->haystack-ai) (1.9.0)\n",
            "Requirement already satisfied: httpx<1,>=0.23.0 in /Users/apple/Documents/haystack-book/.venv/lib/python3.9/site-packages (from openai>=1.1.0->haystack-ai) (0.27.0)\n",
            "Requirement already satisfied: pydantic<3,>=1.9.0 in /Users/apple/Documents/haystack-book/.venv/lib/python3.9/site-packages (from openai>=1.1.0->haystack-ai) (2.6.4)\n",
            "Requirement already satisfied: sniffio in /Users/apple/Documents/haystack-book/.venv/lib/python3.9/site-packages (from openai>=1.1.0->haystack-ai) (1.3.1)\n",
            "Requirement already satisfied: MarkupSafe>=2.0 in /Users/apple/Documents/haystack-book/.venv/lib/python3.9/site-packages (from jinja2->haystack-ai) (2.1.5)\n",
            "Requirement already satisfied: pytz>=2020.1 in /Users/apple/Documents/haystack-book/.venv/lib/python3.9/site-packages (from pandas->haystack-ai) (2024.1)\n",
            "Requirement already satisfied: tzdata>=2022.7 in /Users/apple/Documents/haystack-book/.venv/lib/python3.9/site-packages (from pandas->haystack-ai) (2024.1)\n",
            "Requirement already satisfied: six>=1.5 in /Users/apple/Documents/haystack-book/.venv/lib/python3.9/site-packages (from python-dateutil->haystack-ai) (1.16.0)\n",
            "Requirement already satisfied: monotonic>=1.5 in /Users/apple/Documents/haystack-book/.venv/lib/python3.9/site-packages (from posthog->haystack-ai) (1.6)\n",
            "Requirement already satisfied: backoff>=1.10.0 in /Users/apple/Documents/haystack-book/.venv/lib/python3.9/site-packages (from posthog->haystack-ai) (2.2.1)\n",
            "Requirement already satisfied: charset-normalizer<4,>=2 in /Users/apple/Documents/haystack-book/.venv/lib/python3.9/site-packages (from requests->haystack-ai) (3.3.2)\n",
            "Requirement already satisfied: idna<4,>=2.5 in /Users/apple/Documents/haystack-book/.venv/lib/python3.9/site-packages (from requests->haystack-ai) (3.6)\n",
            "Requirement already satisfied: urllib3<3,>=1.21.1 in /Users/apple/Documents/haystack-book/.venv/lib/python3.9/site-packages (from requests->haystack-ai) (2.2.1)\n",
            "Requirement already satisfied: certifi>=2017.4.17 in /Users/apple/Documents/haystack-book/.venv/lib/python3.9/site-packages (from requests->haystack-ai) (2024.2.2)\n",
            "Requirement already satisfied: exceptiongroup>=1.0.2 in /Users/apple/Documents/haystack-book/.venv/lib/python3.9/site-packages (from anyio<5,>=3.5.0->openai>=1.1.0->haystack-ai) (1.2.0)\n",
            "Requirement already satisfied: httpcore==1.* in /Users/apple/Documents/haystack-book/.venv/lib/python3.9/site-packages (from httpx<1,>=0.23.0->openai>=1.1.0->haystack-ai) (1.0.5)\n",
            "Requirement already satisfied: h11<0.15,>=0.13 in /Users/apple/Documents/haystack-book/.venv/lib/python3.9/site-packages (from httpcore==1.*->httpx<1,>=0.23.0->openai>=1.1.0->haystack-ai) (0.14.0)\n",
            "Requirement already satisfied: annotated-types>=0.4.0 in /Users/apple/Documents/haystack-book/.venv/lib/python3.9/site-packages (from pydantic<3,>=1.9.0->openai>=1.1.0->haystack-ai) (0.6.0)\n",
            "Requirement already satisfied: pydantic-core==2.16.3 in /Users/apple/Documents/haystack-book/.venv/lib/python3.9/site-packages (from pydantic<3,>=1.9.0->openai>=1.1.0->haystack-ai) (2.16.3)\n",
            "Requirement already satisfied: datasets>=2.6.1 in /Users/apple/Documents/haystack-book/.venv/lib/python3.9/site-packages (2.18.0)\n",
            "Requirement already satisfied: filelock in /Users/apple/Documents/haystack-book/.venv/lib/python3.9/site-packages (from datasets>=2.6.1) (3.13.3)\n",
            "Requirement already satisfied: numpy>=1.17 in /Users/apple/Documents/haystack-book/.venv/lib/python3.9/site-packages (from datasets>=2.6.1) (1.26.4)\n",
            "Requirement already satisfied: pyarrow>=12.0.0 in /Users/apple/Documents/haystack-book/.venv/lib/python3.9/site-packages (from datasets>=2.6.1) (15.0.2)\n",
            "Requirement already satisfied: pyarrow-hotfix in /Users/apple/Documents/haystack-book/.venv/lib/python3.9/site-packages (from datasets>=2.6.1) (0.6)\n",
            "Requirement already satisfied: dill<0.3.9,>=0.3.0 in /Users/apple/Documents/haystack-book/.venv/lib/python3.9/site-packages (from datasets>=2.6.1) (0.3.8)\n",
            "Requirement already satisfied: pandas in /Users/apple/Documents/haystack-book/.venv/lib/python3.9/site-packages (from datasets>=2.6.1) (2.2.1)\n",
            "Requirement already satisfied: requests>=2.19.0 in /Users/apple/Documents/haystack-book/.venv/lib/python3.9/site-packages (from datasets>=2.6.1) (2.31.0)\n",
            "Requirement already satisfied: tqdm>=4.62.1 in /Users/apple/Documents/haystack-book/.venv/lib/python3.9/site-packages (from datasets>=2.6.1) (4.66.2)\n",
            "Requirement already satisfied: xxhash in /Users/apple/Documents/haystack-book/.venv/lib/python3.9/site-packages (from datasets>=2.6.1) (3.4.1)\n",
            "Requirement already satisfied: multiprocess in /Users/apple/Documents/haystack-book/.venv/lib/python3.9/site-packages (from datasets>=2.6.1) (0.70.16)\n",
            "Requirement already satisfied: fsspec<=2024.2.0,>=2023.1.0 in /Users/apple/Documents/haystack-book/.venv/lib/python3.9/site-packages (from fsspec[http]<=2024.2.0,>=2023.1.0->datasets>=2.6.1) (2024.2.0)\n",
            "Requirement already satisfied: aiohttp in /Users/apple/Documents/haystack-book/.venv/lib/python3.9/site-packages (from datasets>=2.6.1) (3.9.3)\n",
            "Requirement already satisfied: huggingface-hub>=0.19.4 in /Users/apple/Documents/haystack-book/.venv/lib/python3.9/site-packages (from datasets>=2.6.1) (0.22.2)\n",
            "Requirement already satisfied: packaging in /Users/apple/Documents/haystack-book/.venv/lib/python3.9/site-packages (from datasets>=2.6.1) (24.0)\n",
            "Requirement already satisfied: pyyaml>=5.1 in /Users/apple/Documents/haystack-book/.venv/lib/python3.9/site-packages (from datasets>=2.6.1) (6.0.1)\n",
            "Requirement already satisfied: aiosignal>=1.1.2 in /Users/apple/Documents/haystack-book/.venv/lib/python3.9/site-packages (from aiohttp->datasets>=2.6.1) (1.3.1)\n",
            "Requirement already satisfied: attrs>=17.3.0 in /Users/apple/Documents/haystack-book/.venv/lib/python3.9/site-packages (from aiohttp->datasets>=2.6.1) (23.2.0)\n",
            "Requirement already satisfied: frozenlist>=1.1.1 in /Users/apple/Documents/haystack-book/.venv/lib/python3.9/site-packages (from aiohttp->datasets>=2.6.1) (1.4.1)\n",
            "Requirement already satisfied: multidict<7.0,>=4.5 in /Users/apple/Documents/haystack-book/.venv/lib/python3.9/site-packages (from aiohttp->datasets>=2.6.1) (6.0.5)\n",
            "Requirement already satisfied: yarl<2.0,>=1.0 in /Users/apple/Documents/haystack-book/.venv/lib/python3.9/site-packages (from aiohttp->datasets>=2.6.1) (1.9.4)\n",
            "Requirement already satisfied: async-timeout<5.0,>=4.0 in /Users/apple/Documents/haystack-book/.venv/lib/python3.9/site-packages (from aiohttp->datasets>=2.6.1) (4.0.3)\n",
            "Requirement already satisfied: typing-extensions>=3.7.4.3 in /Users/apple/Documents/haystack-book/.venv/lib/python3.9/site-packages (from huggingface-hub>=0.19.4->datasets>=2.6.1) (4.10.0)\n",
            "Requirement already satisfied: charset-normalizer<4,>=2 in /Users/apple/Documents/haystack-book/.venv/lib/python3.9/site-packages (from requests>=2.19.0->datasets>=2.6.1) (3.3.2)\n",
            "Requirement already satisfied: idna<4,>=2.5 in /Users/apple/Documents/haystack-book/.venv/lib/python3.9/site-packages (from requests>=2.19.0->datasets>=2.6.1) (3.6)\n",
            "Requirement already satisfied: urllib3<3,>=1.21.1 in /Users/apple/Documents/haystack-book/.venv/lib/python3.9/site-packages (from requests>=2.19.0->datasets>=2.6.1) (2.2.1)\n",
            "Requirement already satisfied: certifi>=2017.4.17 in /Users/apple/Documents/haystack-book/.venv/lib/python3.9/site-packages (from requests>=2.19.0->datasets>=2.6.1) (2024.2.2)\n",
            "Requirement already satisfied: python-dateutil>=2.8.2 in /Users/apple/Documents/haystack-book/.venv/lib/python3.9/site-packages (from pandas->datasets>=2.6.1) (2.9.0.post0)\n",
            "Requirement already satisfied: pytz>=2020.1 in /Users/apple/Documents/haystack-book/.venv/lib/python3.9/site-packages (from pandas->datasets>=2.6.1) (2024.1)\n",
            "Requirement already satisfied: tzdata>=2022.7 in /Users/apple/Documents/haystack-book/.venv/lib/python3.9/site-packages (from pandas->datasets>=2.6.1) (2024.1)\n",
            "Requirement already satisfied: six>=1.5 in /Users/apple/Documents/haystack-book/.venv/lib/python3.9/site-packages (from python-dateutil>=2.8.2->pandas->datasets>=2.6.1) (1.16.0)\n",
            "Requirement already satisfied: sentence-transformers>=2.2.0 in /Users/apple/Documents/haystack-book/.venv/lib/python3.9/site-packages (2.6.1)\n",
            "Requirement already satisfied: transformers<5.0.0,>=4.32.0 in /Users/apple/Documents/haystack-book/.venv/lib/python3.9/site-packages (from sentence-transformers>=2.2.0) (4.39.2)\n",
            "Requirement already satisfied: tqdm in /Users/apple/Documents/haystack-book/.venv/lib/python3.9/site-packages (from sentence-transformers>=2.2.0) (4.66.2)\n",
            "Requirement already satisfied: torch>=1.11.0 in /Users/apple/Documents/haystack-book/.venv/lib/python3.9/site-packages (from sentence-transformers>=2.2.0) (2.2.2)\n",
            "Requirement already satisfied: numpy in /Users/apple/Documents/haystack-book/.venv/lib/python3.9/site-packages (from sentence-transformers>=2.2.0) (1.26.4)\n",
            "Requirement already satisfied: scikit-learn in /Users/apple/Documents/haystack-book/.venv/lib/python3.9/site-packages (from sentence-transformers>=2.2.0) (1.4.1.post1)\n",
            "Requirement already satisfied: scipy in /Users/apple/Documents/haystack-book/.venv/lib/python3.9/site-packages (from sentence-transformers>=2.2.0) (1.12.0)\n",
            "Requirement already satisfied: huggingface-hub>=0.15.1 in /Users/apple/Documents/haystack-book/.venv/lib/python3.9/site-packages (from sentence-transformers>=2.2.0) (0.22.2)\n",
            "Requirement already satisfied: Pillow in /Users/apple/Documents/haystack-book/.venv/lib/python3.9/site-packages (from sentence-transformers>=2.2.0) (10.2.0)\n",
            "Requirement already satisfied: filelock in /Users/apple/Documents/haystack-book/.venv/lib/python3.9/site-packages (from huggingface-hub>=0.15.1->sentence-transformers>=2.2.0) (3.13.3)\n",
            "Requirement already satisfied: fsspec>=2023.5.0 in /Users/apple/Documents/haystack-book/.venv/lib/python3.9/site-packages (from huggingface-hub>=0.15.1->sentence-transformers>=2.2.0) (2024.2.0)\n",
            "Requirement already satisfied: packaging>=20.9 in /Users/apple/Documents/haystack-book/.venv/lib/python3.9/site-packages (from huggingface-hub>=0.15.1->sentence-transformers>=2.2.0) (24.0)\n",
            "Requirement already satisfied: pyyaml>=5.1 in /Users/apple/Documents/haystack-book/.venv/lib/python3.9/site-packages (from huggingface-hub>=0.15.1->sentence-transformers>=2.2.0) (6.0.1)\n",
            "Requirement already satisfied: requests in /Users/apple/Documents/haystack-book/.venv/lib/python3.9/site-packages (from huggingface-hub>=0.15.1->sentence-transformers>=2.2.0) (2.31.0)\n",
            "Requirement already satisfied: typing-extensions>=3.7.4.3 in /Users/apple/Documents/haystack-book/.venv/lib/python3.9/site-packages (from huggingface-hub>=0.15.1->sentence-transformers>=2.2.0) (4.10.0)\n",
            "Requirement already satisfied: sympy in /Users/apple/Documents/haystack-book/.venv/lib/python3.9/site-packages (from torch>=1.11.0->sentence-transformers>=2.2.0) (1.12)\n",
            "Requirement already satisfied: networkx in /Users/apple/Documents/haystack-book/.venv/lib/python3.9/site-packages (from torch>=1.11.0->sentence-transformers>=2.2.0) (3.2.1)\n",
            "Requirement already satisfied: jinja2 in /Users/apple/Documents/haystack-book/.venv/lib/python3.9/site-packages (from torch>=1.11.0->sentence-transformers>=2.2.0) (3.1.3)\n",
            "Requirement already satisfied: regex!=2019.12.17 in /Users/apple/Documents/haystack-book/.venv/lib/python3.9/site-packages (from transformers<5.0.0,>=4.32.0->sentence-transformers>=2.2.0) (2023.12.25)\n",
            "Requirement already satisfied: tokenizers<0.19,>=0.14 in /Users/apple/Documents/haystack-book/.venv/lib/python3.9/site-packages (from transformers<5.0.0,>=4.32.0->sentence-transformers>=2.2.0) (0.15.2)\n",
            "Requirement already satisfied: safetensors>=0.4.1 in /Users/apple/Documents/haystack-book/.venv/lib/python3.9/site-packages (from transformers<5.0.0,>=4.32.0->sentence-transformers>=2.2.0) (0.4.2)\n",
            "Requirement already satisfied: joblib>=1.2.0 in /Users/apple/Documents/haystack-book/.venv/lib/python3.9/site-packages (from scikit-learn->sentence-transformers>=2.2.0) (1.3.2)\n",
            "Requirement already satisfied: threadpoolctl>=2.0.0 in /Users/apple/Documents/haystack-book/.venv/lib/python3.9/site-packages (from scikit-learn->sentence-transformers>=2.2.0) (3.4.0)\n",
            "Requirement already satisfied: MarkupSafe>=2.0 in /Users/apple/Documents/haystack-book/.venv/lib/python3.9/site-packages (from jinja2->torch>=1.11.0->sentence-transformers>=2.2.0) (2.1.5)\n",
            "Requirement already satisfied: charset-normalizer<4,>=2 in /Users/apple/Documents/haystack-book/.venv/lib/python3.9/site-packages (from requests->huggingface-hub>=0.15.1->sentence-transformers>=2.2.0) (3.3.2)\n",
            "Requirement already satisfied: idna<4,>=2.5 in /Users/apple/Documents/haystack-book/.venv/lib/python3.9/site-packages (from requests->huggingface-hub>=0.15.1->sentence-transformers>=2.2.0) (3.6)\n",
            "Requirement already satisfied: urllib3<3,>=1.21.1 in /Users/apple/Documents/haystack-book/.venv/lib/python3.9/site-packages (from requests->huggingface-hub>=0.15.1->sentence-transformers>=2.2.0) (2.2.1)\n",
            "Requirement already satisfied: certifi>=2017.4.17 in /Users/apple/Documents/haystack-book/.venv/lib/python3.9/site-packages (from requests->huggingface-hub>=0.15.1->sentence-transformers>=2.2.0) (2024.2.2)\n",
            "Requirement already satisfied: mpmath>=0.19 in /Users/apple/Documents/haystack-book/.venv/lib/python3.9/site-packages (from sympy->torch>=1.11.0->sentence-transformers>=2.2.0) (1.3.0)\n",
            "Requirement already satisfied: opentelemetry-sdk in /Users/apple/Documents/haystack-book/.venv/lib/python3.9/site-packages (1.24.0)\n",
            "Requirement already satisfied: opentelemetry-api==1.24.0 in /Users/apple/Documents/haystack-book/.venv/lib/python3.9/site-packages (from opentelemetry-sdk) (1.24.0)\n",
            "Requirement already satisfied: opentelemetry-semantic-conventions==0.45b0 in /Users/apple/Documents/haystack-book/.venv/lib/python3.9/site-packages (from opentelemetry-sdk) (0.45b0)\n",
            "Requirement already satisfied: typing-extensions>=3.7.4 in /Users/apple/Documents/haystack-book/.venv/lib/python3.9/site-packages (from opentelemetry-sdk) (4.10.0)\n",
            "Requirement already satisfied: deprecated>=1.2.6 in /Users/apple/Documents/haystack-book/.venv/lib/python3.9/site-packages (from opentelemetry-api==1.24.0->opentelemetry-sdk) (1.2.14)\n",
            "Requirement already satisfied: importlib-metadata<=7.0,>=6.0 in /Users/apple/Documents/haystack-book/.venv/lib/python3.9/site-packages (from opentelemetry-api==1.24.0->opentelemetry-sdk) (7.0.0)\n",
            "Requirement already satisfied: wrapt<2,>=1.10 in /Users/apple/Documents/haystack-book/.venv/lib/python3.9/site-packages (from deprecated>=1.2.6->opentelemetry-api==1.24.0->opentelemetry-sdk) (1.16.0)\n",
            "Requirement already satisfied: zipp>=0.5 in /Users/apple/Documents/haystack-book/.venv/lib/python3.9/site-packages (from importlib-metadata<=7.0,>=6.0->opentelemetry-api==1.24.0->opentelemetry-sdk) (3.18.1)\n",
            "Requirement already satisfied: opentelemetry-exporter-otlp in /Users/apple/Documents/haystack-book/.venv/lib/python3.9/site-packages (1.24.0)\n",
            "Requirement already satisfied: opentelemetry-exporter-otlp-proto-grpc==1.24.0 in /Users/apple/Documents/haystack-book/.venv/lib/python3.9/site-packages (from opentelemetry-exporter-otlp) (1.24.0)\n",
            "Requirement already satisfied: opentelemetry-exporter-otlp-proto-http==1.24.0 in /Users/apple/Documents/haystack-book/.venv/lib/python3.9/site-packages (from opentelemetry-exporter-otlp) (1.24.0)\n",
            "Requirement already satisfied: deprecated>=1.2.6 in /Users/apple/Documents/haystack-book/.venv/lib/python3.9/site-packages (from opentelemetry-exporter-otlp-proto-grpc==1.24.0->opentelemetry-exporter-otlp) (1.2.14)\n",
            "Requirement already satisfied: googleapis-common-protos~=1.52 in /Users/apple/Documents/haystack-book/.venv/lib/python3.9/site-packages (from opentelemetry-exporter-otlp-proto-grpc==1.24.0->opentelemetry-exporter-otlp) (1.63.0)\n",
            "Requirement already satisfied: grpcio<2.0.0,>=1.0.0 in /Users/apple/Documents/haystack-book/.venv/lib/python3.9/site-packages (from opentelemetry-exporter-otlp-proto-grpc==1.24.0->opentelemetry-exporter-otlp) (1.62.1)\n",
            "Requirement already satisfied: opentelemetry-api~=1.15 in /Users/apple/Documents/haystack-book/.venv/lib/python3.9/site-packages (from opentelemetry-exporter-otlp-proto-grpc==1.24.0->opentelemetry-exporter-otlp) (1.24.0)\n",
            "Requirement already satisfied: opentelemetry-exporter-otlp-proto-common==1.24.0 in /Users/apple/Documents/haystack-book/.venv/lib/python3.9/site-packages (from opentelemetry-exporter-otlp-proto-grpc==1.24.0->opentelemetry-exporter-otlp) (1.24.0)\n",
            "Requirement already satisfied: opentelemetry-proto==1.24.0 in /Users/apple/Documents/haystack-book/.venv/lib/python3.9/site-packages (from opentelemetry-exporter-otlp-proto-grpc==1.24.0->opentelemetry-exporter-otlp) (1.24.0)\n",
            "Requirement already satisfied: opentelemetry-sdk~=1.24.0 in /Users/apple/Documents/haystack-book/.venv/lib/python3.9/site-packages (from opentelemetry-exporter-otlp-proto-grpc==1.24.0->opentelemetry-exporter-otlp) (1.24.0)\n",
            "Requirement already satisfied: requests~=2.7 in /Users/apple/Documents/haystack-book/.venv/lib/python3.9/site-packages (from opentelemetry-exporter-otlp-proto-http==1.24.0->opentelemetry-exporter-otlp) (2.31.0)\n",
            "Requirement already satisfied: protobuf<5.0,>=3.19 in /Users/apple/Documents/haystack-book/.venv/lib/python3.9/site-packages (from opentelemetry-proto==1.24.0->opentelemetry-exporter-otlp-proto-grpc==1.24.0->opentelemetry-exporter-otlp) (4.25.3)\n",
            "Requirement already satisfied: wrapt<2,>=1.10 in /Users/apple/Documents/haystack-book/.venv/lib/python3.9/site-packages (from deprecated>=1.2.6->opentelemetry-exporter-otlp-proto-grpc==1.24.0->opentelemetry-exporter-otlp) (1.16.0)\n",
            "Requirement already satisfied: importlib-metadata<=7.0,>=6.0 in /Users/apple/Documents/haystack-book/.venv/lib/python3.9/site-packages (from opentelemetry-api~=1.15->opentelemetry-exporter-otlp-proto-grpc==1.24.0->opentelemetry-exporter-otlp) (7.0.0)\n",
            "Requirement already satisfied: opentelemetry-semantic-conventions==0.45b0 in /Users/apple/Documents/haystack-book/.venv/lib/python3.9/site-packages (from opentelemetry-sdk~=1.24.0->opentelemetry-exporter-otlp-proto-grpc==1.24.0->opentelemetry-exporter-otlp) (0.45b0)\n",
            "Requirement already satisfied: typing-extensions>=3.7.4 in /Users/apple/Documents/haystack-book/.venv/lib/python3.9/site-packages (from opentelemetry-sdk~=1.24.0->opentelemetry-exporter-otlp-proto-grpc==1.24.0->opentelemetry-exporter-otlp) (4.10.0)\n",
            "Requirement already satisfied: charset-normalizer<4,>=2 in /Users/apple/Documents/haystack-book/.venv/lib/python3.9/site-packages (from requests~=2.7->opentelemetry-exporter-otlp-proto-http==1.24.0->opentelemetry-exporter-otlp) (3.3.2)\n",
            "Requirement already satisfied: idna<4,>=2.5 in /Users/apple/Documents/haystack-book/.venv/lib/python3.9/site-packages (from requests~=2.7->opentelemetry-exporter-otlp-proto-http==1.24.0->opentelemetry-exporter-otlp) (3.6)\n",
            "Requirement already satisfied: urllib3<3,>=1.21.1 in /Users/apple/Documents/haystack-book/.venv/lib/python3.9/site-packages (from requests~=2.7->opentelemetry-exporter-otlp-proto-http==1.24.0->opentelemetry-exporter-otlp) (2.2.1)\n",
            "Requirement already satisfied: certifi>=2017.4.17 in /Users/apple/Documents/haystack-book/.venv/lib/python3.9/site-packages (from requests~=2.7->opentelemetry-exporter-otlp-proto-http==1.24.0->opentelemetry-exporter-otlp) (2024.2.2)\n",
            "Requirement already satisfied: zipp>=0.5 in /Users/apple/Documents/haystack-book/.venv/lib/python3.9/site-packages (from importlib-metadata<=7.0,>=6.0->opentelemetry-api~=1.15->opentelemetry-exporter-otlp-proto-grpc==1.24.0->opentelemetry-exporter-otlp) (3.18.1)\n"
          ]
        }
      ],
      "source": [
        "%%bash\n",
        "\n",
        "pip install haystack-ai\n",
        "pip install \"datasets>=2.6.1\"\n",
        "pip install \"sentence-transformers>=2.2.0\"\n",
        "pip install opentelemetry-sdk\n",
        "pip install opentelemetry-exporter-otlp"
      ]
    },
    {
      "cell_type": "markdown",
      "metadata": {},
      "source": [
        "## Enabling Tracing using [OpenTelemetry](https://opentelemetry.io)\n",
        "\n",
        "[Logging](https://docs.haystack.deepset.ai/docs/logging) and [Tracing](https://docs.haystack.deepset.ai/docs/tracing) are the two main methods to analyse the working of RAG Pipeline and debug the issue and understand the root cause of the problems. Without these all our understanding about the issue is purely hypothetical with no evidence/proof to support what we speak. So rather it is important to enable them to support our views.\n",
        "\n",
        "[Logging is a subset of Tracing](https://microsoft.github.io/code-with-engineering-playbook/observability/log-vs-metric-vs-trace/), in the sense we log the events that occur within a particular component or a set of components. Whereas tracing considers the overall program/data flow progression. With these data we can handle the errors and figure out the right solution in a much quicker way as it helps us understand the behaviour of the system.\n",
        "\n",
        "Haystack offers these solutions out of the box. They support [OpenTelemetry](https://docs.haystack.deepset.ai/docs/tracing#opentelemetry), [Datadog](https://docs.haystack.deepset.ai/docs/tracing#datadog), and [custom](https://docs.haystack.deepset.ai/docs/tracing#custom-tracing-backend) tracing solutions.\n",
        "\n",
        "Before enabling tracing make sure to start the Docker daemon. Then run this command in the terminal to fetch the `jaeger` image.\n",
        "\n",
        "```bash\n",
        "docker run --rm -d --name jaeger \\\n",
        "  -e COLLECTOR_ZIPKIN_HOST_PORT=:9411 \\\n",
        "  -p 6831:6831/udp \\\n",
        "  -p 6832:6832/udp \\\n",
        "  -p 5778:5778 \\\n",
        "  -p 16686:16686 \\\n",
        "  -p 4317:4317 \\\n",
        "  -p 4318:4318 \\\n",
        "  -p 14250:14250 \\\n",
        "  -p 14268:14268 \\\n",
        "  -p 14269:14269 \\\n",
        "  -p 9411:9411 \\\n",
        "  jaegertracing/all-in-one:1\n",
        "```\n",
        "Then we can access the Jaegar locally through `http://localhost:16686/search`. We need to select **haystack** under `Service`. Then click on `Find Traces`.\n",
        "\n",
        "![service selection](https://gist.github.com/assets/81156510/b9d50547-cec1-4ab6-9bd8-d5314866e779)\n",
        "\n",
        "Then every time you run the pipeline. The tracer records it and can be viewed as a list of traces as shown:\n",
        "![list-of-traces](https://gist.github.com/assets/81156510/ce895755-969d-4692-bd8e-796af4a1a446)\n",
        "\n",
        "As obvious there are majorly two main types of traces:\n",
        "- Success 🟢\n",
        "\n",
        "![successful-trace](https://gist.github.com/assets/81156510/e58c8396-8e24-4b6b-9701-e59b69d4e8ea)\n",
        "\n",
        "- Failure 🔴\n",
        "\n",
        "![failed-trace](https://gist.github.com/assets/81156510/6e0ddbc8-442a-40e4-8198-5e8a69d823f3)"
      ]
    },
    {
      "cell_type": "code",
      "execution_count": 2,
      "metadata": {},
      "outputs": [
        {
          "name": "stderr",
          "output_type": "stream",
          "text": [
            "/Users/apple/Documents/haystack-book/.venv/lib/python3.9/site-packages/urllib3/__init__.py:35: NotOpenSSLWarning: urllib3 v2 only supports OpenSSL 1.1.1+, currently the 'ssl' module is compiled with 'LibreSSL 2.8.3'. See: https://github.com/urllib3/urllib3/issues/3020\n",
            "  warnings.warn(\n",
            "/Users/apple/Documents/haystack-book/.venv/lib/python3.9/site-packages/ddtrace/internal/module.py:220: TqdmWarning: IProgress not found. Please update jupyter and ipywidgets. See https://ipywidgets.readthedocs.io/en/stable/user_install.html\n",
            "  self.loader.exec_module(module)\n"
          ]
        }
      ],
      "source": [
        "from haystack import tracing\n",
        "from opentelemetry.sdk.resources import SERVICE_NAME, Resource\n",
        "from opentelemetry import trace\n",
        "from opentelemetry.exporter.otlp.proto.http.trace_exporter import OTLPSpanExporter\n",
        "from opentelemetry.sdk.trace import TracerProvider\n",
        "from opentelemetry.sdk.trace.export import BatchSpanProcessor\n",
        "\n",
        "# Service name is required for most backends\n",
        "resource = Resource(attributes={SERVICE_NAME: \"haystack\"})\n",
        "\n",
        "traceProvider = TracerProvider(resource=resource)\n",
        "processor = BatchSpanProcessor(OTLPSpanExporter(endpoint=\"http://localhost:4318/v1/traces\"))\n",
        "\n",
        "traceProvider.add_span_processor(processor)\n",
        "trace.set_tracer_provider(traceProvider)\n",
        "\n",
        "tracing.auto_enable_tracing()"
      ]
    },
    {
      "cell_type": "markdown",
      "metadata": {
        "id": "_lvfew16O-qa"
      },
      "source": [
        "## Fetching and Indexing Documents\n",
        "\n",
        "You'll start creating your question answering system by downloading the data and indexing the data with its embeddings to a DocumenStore.\n",
        "\n",
        "In this tutorial, you will take a simple approach to writing documents and their embeddings into the DocumenStore. For a full indexing pipeline with preprocessing, cleaning and splitting, check out our tutorial on [Preprocessing Different File Types](https://haystack.deepset.ai/tutorials/30_file_type_preprocessing_index_pipeline).\n",
        "\n",
        "### Initializing the DocumentStore\n",
        "\n",
        "Initialize a DocumentStore to index your documents. A DocumentStore stores the Documents that the question answering system uses to find answers to your questions. In this tutorial, you'll be using the `InMemoryDocumentStore`.\n"
      ]
    },
    {
      "cell_type": "code",
      "execution_count": 3,
      "metadata": {
        "id": "CbVN-s5LO-qa"
      },
      "outputs": [],
      "source": [
        "from haystack.document_stores.in_memory import InMemoryDocumentStore\n",
        "\n",
        "document_store = InMemoryDocumentStore()"
      ]
    },
    {
      "cell_type": "markdown",
      "metadata": {
        "id": "yL8nuJdWO-qa"
      },
      "source": [
        "> `InMemoryDocumentStore` is the simplest DocumentStore to get started with. It requires no external dependencies and it's a good option for smaller projects and debugging. But it doesn't scale up so well to larger Document collections, so it's not a good choice for production systems. To learn more about the different types of external databases that Haystack supports, see [DocumentStore Integrations](https://haystack.deepset.ai/integrations?type=Document+Store).\n"
      ]
    },
    {
      "cell_type": "markdown",
      "metadata": {
        "id": "XvLVaFHTO-qb"
      },
      "source": [
        "The DocumentStore is now ready. Now it's time to fill it with some Documents.\n"
      ]
    },
    {
      "cell_type": "markdown",
      "metadata": {
        "id": "HryYZP9ZO-qb"
      },
      "source": [
        "### Fetch the Data\n",
        "\n",
        "Here, we query the poetryDB API to obtain poems by Shakespeare and store as a json file. Create documents from json file and add them to the DocumentStore.\n"
      ]
    },
    {
      "cell_type": "code",
      "execution_count": 4,
      "metadata": {
        "id": "INdC3WvLO-qb"
      },
      "outputs": [],
      "source": [
        "from datasets import load_dataset\n",
        "from haystack import Document"
      ]
    },
    {
      "cell_type": "code",
      "execution_count": 5,
      "metadata": {
        "id": "33JmUbzXDg9H"
      },
      "outputs": [],
      "source": [
        "import requests\n",
        "import json"
      ]
    },
    {
      "cell_type": "code",
      "execution_count": 6,
      "metadata": {
        "id": "5gbgff6FDa6H"
      },
      "outputs": [
        {
          "name": "stdout",
          "output_type": "stream",
          "text": [
            "Totally 162 were added successfully to the Document Store.\n"
          ]
        }
      ],
      "source": [
        "url = \"https://poetrydb.org/author/\"\n",
        "author_name = \"William Shakespeare\"\n",
        "\n",
        "data = requests.get(url + author_name)\n",
        "data = data.json()\n",
        "# print(data)\n",
        "\n",
        "with open(\"data.json\", \"w\") as outfile:\n",
        "    json.dump(data, outfile)\n",
        "\n",
        "\n",
        "with open(\"data.json\") as f:\n",
        "    data = json.load(f)\n",
        "\n",
        "documents = []\n",
        "for doc in data:\n",
        "    lines = \"\"\n",
        "    for line in doc[\"lines\"]:\n",
        "        lines = line + \"\"\n",
        "\n",
        "    documents.append(\n",
        "        Document(\n",
        "            content=\"Title: \" + doc[\"title\"] + \" \" + lines,\n",
        "        )\n",
        "    )\n",
        "\n",
        "total_docs = document_store.write_documents(documents)\n",
        "print(\"Totally \" + str(total_docs) + \" were added successfully to the Document Store.\")"
      ]
    },
    {
      "cell_type": "markdown",
      "metadata": {
        "id": "IdojTxg6uubn"
      },
      "source": [
        "## Building the RAG Pipeline\n",
        "\n",
        "The next step is to build a [Pipeline](https://docs.haystack.deepset.ai/v2.0/docs/pipelines) to generate answers for the user query following the RAG approach. To create the pipeline, you first need to initialize each component, add them to your pipeline, and connect them.\n"
      ]
    },
    {
      "cell_type": "markdown",
      "metadata": {
        "id": "0_cj-5m-O-qb"
      },
      "source": [
        "### Initialize the Retriever\n",
        "\n",
        "Initialize a InMemoryBM25Retriever and make it use the InMemoryDocumentStore you initialized earlier in this tutorial. This Retriever will get the relevant documents to the query.\n"
      ]
    },
    {
      "cell_type": "code",
      "execution_count": 7,
      "metadata": {
        "id": "-uo-6fjiO-qb"
      },
      "outputs": [],
      "source": [
        "from haystack.components.retrievers.in_memory import InMemoryBM25Retriever\n",
        "\n",
        "retriever = InMemoryBM25Retriever(document_store=document_store)"
      ]
    },
    {
      "cell_type": "markdown",
      "metadata": {
        "id": "6CEuQpB7O-qb"
      },
      "source": [
        "### Define a Template Prompt\n",
        "\n",
        "Create a custom prompt for a generative question answering task using the RAG approach. The prompt should take in two parameters: `documents`, which are retrieved from a document store, and a `question` from the user. Use the Jinja2 looping syntax to combine the content of the retrieved documents in the prompt.\n",
        "\n",
        "Next, initialize a [PromptBuilder](https://docs.haystack.deepset.ai/v2.0/docs/promptbuilder) instance with your prompt template. The PromptBuilder, when given the necessary values, will automatically fill in the variable values and generate a complete prompt. This approach allows for a more tailored and effective question-answering experience.\n"
      ]
    },
    {
      "cell_type": "code",
      "execution_count": 8,
      "metadata": {
        "id": "ObahTh45FqOT"
      },
      "outputs": [],
      "source": [
        "from haystack.components.builders import PromptBuilder\n",
        "\n",
        "template = \"\"\"\n",
        "Given the following information, answer the question.\n",
        "\n",
        "Context:\n",
        "{% for document in documents %}\n",
        "    {{ document.content }}\n",
        "{% endfor %}\n",
        "\n",
        "Question: {{question}}\n",
        "Answer:\n",
        "\"\"\"\n",
        "\n",
        "prompt_builder = PromptBuilder(template=template)"
      ]
    },
    {
      "cell_type": "markdown",
      "metadata": {
        "id": "HR14lbfcFtXj"
      },
      "source": [
        "### Initialize a Generator\n",
        "\n",
        "Generators are the components that interact with large language models (LLMs). Now, set `OPENAI_API_KEY` environment variable and initialize a [OpenAIGenerator](https://docs.haystack.deepset.ai/v2.0/docs/OpenAIGenerator) that can communicate with OpenAI GPT models. As you initialize, provide a model name:\n"
      ]
    },
    {
      "cell_type": "code",
      "execution_count": 9,
      "metadata": {
        "id": "SavE_FAqfApo"
      },
      "outputs": [],
      "source": [
        "import os\n",
        "from getpass import getpass\n",
        "from haystack.components.generators import OpenAIGenerator\n",
        "\n",
        "os.environ[\"OPENAI_API_KEY\"] = getpass(\"Enter OpenAI API key: \")\n",
        "generator = OpenAIGenerator(model=\"gpt-3.5-turbo\")"
      ]
    },
    {
      "cell_type": "markdown",
      "metadata": {
        "id": "nenbo2SvycHd"
      },
      "source": [
        "> You can replace `OpenAIGenerator` in your pipeline with another `Generator`. Check out the full list of generators [here](https://docs.haystack.deepset.ai/v2.0/docs/generators).\n"
      ]
    },
    {
      "cell_type": "markdown",
      "metadata": {
        "id": "1bfHwOQwycHe"
      },
      "source": [
        "### Build the Pipeline\n",
        "\n",
        "To build a pipeline, add all components to your pipeline and connect them. Create connections from `text_embedder`'s \"embedding\" output to \"query_embedding\" input of `retriever`, from `retriever` to `prompt_builder` and from `prompt_builder` to `llm`. Explicitly connect the output of `retriever` with \"documents\" input of the `prompt_builder` to make the connection obvious as `prompt_builder` has two inputs (\"documents\" and \"question\").\n",
        "\n",
        "For more information on pipelines and creating connections, refer to [Creating Pipelines](https://docs.haystack.deepset.ai/v2.0/docs/creating-pipelines) documentation.\n"
      ]
    },
    {
      "cell_type": "code",
      "execution_count": 10,
      "metadata": {
        "colab": {
          "base_uri": "https://localhost:8080/",
          "height": 928
        },
        "id": "f6NFmpjEO-qb",
        "outputId": "5846ddba-8757-4195-a0bf-169087d6ebb3"
      },
      "outputs": [
        {
          "data": {
            "image/png": "[encoded data removed]",
            "text/plain": [
              "<IPython.core.display.Image object>"
            ]
          },
          "metadata": {},
          "output_type": "display_data"
        },
        {
          "data": {
            "text/plain": []
          },
          "execution_count": 10,
          "metadata": {},
          "output_type": "execute_result"
        }
      ],
      "source": [
        "from haystack import Pipeline\n",
        "\n",
        "basic_rag_pipeline = Pipeline()\n",
        "# Add components to your pipeline\n",
        "basic_rag_pipeline.add_component(\"retriever\", retriever)\n",
        "basic_rag_pipeline.add_component(\"prompt_builder\", prompt_builder)\n",
        "basic_rag_pipeline.add_component(\"llm\", generator)\n",
        "\n",
        "# Now, connect the components to each other\n",
        "basic_rag_pipeline.connect(\"retriever\", \"prompt_builder.documents\")\n",
        "basic_rag_pipeline.connect(\"prompt_builder\", \"llm\")"
      ]
    },
    {
      "cell_type": "markdown",
      "metadata": {
        "id": "6NqyLhx7O-qc"
      },
      "source": [
        "That's it! Your RAG pipeline is ready to generate answers to questions!\n"
      ]
    },
    {
      "cell_type": "markdown",
      "metadata": {
        "id": "DBAyF5tVO-qc"
      },
      "source": [
        "## Asking a Question\n",
        "\n",
        "When asking a question, use the `run()` method of the pipeline. Make sure to provide the question to both the `text_embedder` and the `prompt_builder`. This ensures that the `{{question}}` variable in the template prompt gets replaced with your specific question.\n"
      ]
    },
    {
      "cell_type": "code",
      "execution_count": 11,
      "metadata": {
        "colab": {
          "base_uri": "https://localhost:8080/",
          "height": 49,
          "referenced_widgets": [
            "eaa7aec2a3d4493d92d267be62c987ee",
            "6c8cc440872d4cb8b9f0390cad38e4ef",
            "c71f2f0f9f824f9b9cb368083d1eadf1",
            "1b60c683ee3a43e79a3f66dca2b242d3",
            "6fc8469ba4234d7aa0fb997d2713488e",
            "acc377ad1c9746369f66650dd7bb38bf",
            "6bda7f4b5e7c4c1ab406cb7fa7668f35",
            "70cef9cd45ed4c549cbea2ba47f29a2d",
            "49ad34d9a5044408844e1056e2b41918",
            "57229da54ad1470abfe54648e4251d7e",
            "cc5e2054d98c436d80a2103206531bef"
          ]
        },
        "id": "Vnt283M5O-qc",
        "outputId": "4b7582bd-fbd6-46b4-e4ea-51d05674033d"
      },
      "outputs": [
        {
          "name": "stderr",
          "output_type": "stream",
          "text": [
            "Ranking by BM25...: 100%|██████████| 162/162 [00:00<00:00, 133230.83 docs/s]\n"
          ]
        }
      ],
      "source": [
        "question = \"Give a short summary about Sonnet 24\"\n",
        "\n",
        "results = basic_rag_pipeline.run(\n",
        "    {\"retriever\": {\"query\": question}, \"prompt_builder\": {\"question\": question}}\n",
        "    # {\"retriever\": {\"query\": \"\"}, \"prompt_builder\": {\"question\": question}}\n",
        ")"
      ]
    },
    {
      "cell_type": "markdown",
      "metadata": {
        "id": "IWQN-aoGO-qc"
      },
      "source": [
        "Here are some other example questions to test:\n"
      ]
    },
    {
      "cell_type": "code",
      "execution_count": 12,
      "metadata": {
        "colab": {
          "base_uri": "https://localhost:8080/"
        },
        "id": "_OHUQ5xxO-qc",
        "outputId": "4e2ff50c-5e11-4b1f-bb95-0ad918958e58"
      },
      "outputs": [
        {
          "name": "stdout",
          "output_type": "stream",
          "text": [
            "Sonnet 24 discusses the idea that the eye only captures the outer appearance of a person or object, without truly knowing the heart or essence within. It suggests that what is seen may not always be an accurate representation of what lies beneath the surface.\n"
          ]
        }
      ],
      "source": [
        "print(results[\"llm\"][\"replies\"][0])"
      ]
    },
    {
      "cell_type": "code",
      "execution_count": null,
      "metadata": {},
      "outputs": [],
      "source": []
    }
  ],
  "metadata": {
    "accelerator": "GPU",
    "colab": {
      "gpuType": "T4",
      "provenance": []
    },
    "kernelspec": {
      "display_name": "Python 3",
      "name": "python3"
    },
    "language_info": {
      "codemirror_mode": {
        "name": "ipython",
        "version": 3
      },
      "file_extension": ".py",
      "mimetype": "text/x-python",
      "name": "python",
      "nbconvert_exporter": "python",
      "pygments_lexer": "ipython3",
      "version": "3.9.6"
    },
    "orig_nbformat": 4,
    "vscode": {
      "interpreter": {
        "hash": "31f2aee4e71d21fbe5cf8b01ff0e069b9275f58929596ceb00d14d90e3e16cd6"
      }
    },
    "widgets": {
      "application/vnd.jupyter.widget-state+json": {
        "1b60c683ee3a43e79a3f66dca2b242d3": {
          "model_module": "@jupyter-widgets/controls",
          "model_module_version": "1.5.0",
          "model_name": "HTMLModel",
          "state": {
            "_dom_classes": [],
            "_model_module": "@jupyter-widgets/controls",
            "_model_module_version": "1.5.0",
            "_model_name": "HTMLModel",
            "_view_count": null,
            "_view_module": "@jupyter-widgets/controls",
            "_view_module_version": "1.5.0",
            "_view_name": "HTMLView",
            "description": "",
            "description_tooltip": null,
            "layout": "IPY_MODEL_57229da54ad1470abfe54648e4251d7e",
            "placeholder": "​",
            "style": "IPY_MODEL_cc5e2054d98c436d80a2103206531bef",
            "value": " 0/0 [00:00&lt;?, ? docs/s]"
          }
        },
        "49ad34d9a5044408844e1056e2b41918": {
          "model_module": "@jupyter-widgets/controls",
          "model_module_version": "1.5.0",
          "model_name": "ProgressStyleModel",
          "state": {
            "_model_module": "@jupyter-widgets/controls",
            "_model_module_version": "1.5.0",
            "_model_name": "ProgressStyleModel",
            "_view_count": null,
            "_view_module": "@jupyter-widgets/base",
            "_view_module_version": "1.2.0",
            "_view_name": "StyleView",
            "bar_color": null,
            "description_width": ""
          }
        },
        "57229da54ad1470abfe54648e4251d7e": {
          "model_module": "@jupyter-widgets/base",
          "model_module_version": "1.2.0",
          "model_name": "LayoutModel",
          "state": {
            "_model_module": "@jupyter-widgets/base",
            "_model_module_version": "1.2.0",
            "_model_name": "LayoutModel",
            "_view_count": null,
            "_view_module": "@jupyter-widgets/base",
            "_view_module_version": "1.2.0",
            "_view_name": "LayoutView",
            "align_content": null,
            "align_items": null,
            "align_self": null,
            "border": null,
            "bottom": null,
            "display": null,
            "flex": null,
            "flex_flow": null,
            "grid_area": null,
            "grid_auto_columns": null,
            "grid_auto_flow": null,
            "grid_auto_rows": null,
            "grid_column": null,
            "grid_gap": null,
            "grid_row": null,
            "grid_template_areas": null,
            "grid_template_columns": null,
            "grid_template_rows": null,
            "height": null,
            "justify_content": null,
            "justify_items": null,
            "left": null,
            "margin": null,
            "max_height": null,
            "max_width": null,
            "min_height": null,
            "min_width": null,
            "object_fit": null,
            "object_position": null,
            "order": null,
            "overflow": null,
            "overflow_x": null,
            "overflow_y": null,
            "padding": null,
            "right": null,
            "top": null,
            "visibility": null,
            "width": null
          }
        },
        "6bda7f4b5e7c4c1ab406cb7fa7668f35": {
          "model_module": "@jupyter-widgets/controls",
          "model_module_version": "1.5.0",
          "model_name": "DescriptionStyleModel",
          "state": {
            "_model_module": "@jupyter-widgets/controls",
            "_model_module_version": "1.5.0",
            "_model_name": "DescriptionStyleModel",
            "_view_count": null,
            "_view_module": "@jupyter-widgets/base",
            "_view_module_version": "1.2.0",
            "_view_name": "StyleView",
            "description_width": ""
          }
        },
        "6c8cc440872d4cb8b9f0390cad38e4ef": {
          "model_module": "@jupyter-widgets/controls",
          "model_module_version": "1.5.0",
          "model_name": "HTMLModel",
          "state": {
            "_dom_classes": [],
            "_model_module": "@jupyter-widgets/controls",
            "_model_module_version": "1.5.0",
            "_model_name": "HTMLModel",
            "_view_count": null,
            "_view_module": "@jupyter-widgets/controls",
            "_view_module_version": "1.5.0",
            "_view_name": "HTMLView",
            "description": "",
            "description_tooltip": null,
            "layout": "IPY_MODEL_acc377ad1c9746369f66650dd7bb38bf",
            "placeholder": "​",
            "style": "IPY_MODEL_6bda7f4b5e7c4c1ab406cb7fa7668f35",
            "value": "Ranking by BM25...: "
          }
        },
        "6fc8469ba4234d7aa0fb997d2713488e": {
          "model_module": "@jupyter-widgets/base",
          "model_module_version": "1.2.0",
          "model_name": "LayoutModel",
          "state": {
            "_model_module": "@jupyter-widgets/base",
            "_model_module_version": "1.2.0",
            "_model_name": "LayoutModel",
            "_view_count": null,
            "_view_module": "@jupyter-widgets/base",
            "_view_module_version": "1.2.0",
            "_view_name": "LayoutView",
            "align_content": null,
            "align_items": null,
            "align_self": null,
            "border": null,
            "bottom": null,
            "display": null,
            "flex": null,
            "flex_flow": null,
            "grid_area": null,
            "grid_auto_columns": null,
            "grid_auto_flow": null,
            "grid_auto_rows": null,
            "grid_column": null,
            "grid_gap": null,
            "grid_row": null,
            "grid_template_areas": null,
            "grid_template_columns": null,
            "grid_template_rows": null,
            "height": null,
            "justify_content": null,
            "justify_items": null,
            "left": null,
            "margin": null,
            "max_height": null,
            "max_width": null,
            "min_height": null,
            "min_width": null,
            "object_fit": null,
            "object_position": null,
            "order": null,
            "overflow": null,
            "overflow_x": null,
            "overflow_y": null,
            "padding": null,
            "right": null,
            "top": null,
            "visibility": null,
            "width": null
          }
        },
        "70cef9cd45ed4c549cbea2ba47f29a2d": {
          "model_module": "@jupyter-widgets/base",
          "model_module_version": "1.2.0",
          "model_name": "LayoutModel",
          "state": {
            "_model_module": "@jupyter-widgets/base",
            "_model_module_version": "1.2.0",
            "_model_name": "LayoutModel",
            "_view_count": null,
            "_view_module": "@jupyter-widgets/base",
            "_view_module_version": "1.2.0",
            "_view_name": "LayoutView",
            "align_content": null,
            "align_items": null,
            "align_self": null,
            "border": null,
            "bottom": null,
            "display": null,
            "flex": null,
            "flex_flow": null,
            "grid_area": null,
            "grid_auto_columns": null,
            "grid_auto_flow": null,
            "grid_auto_rows": null,
            "grid_column": null,
            "grid_gap": null,
            "grid_row": null,
            "grid_template_areas": null,
            "grid_template_columns": null,
            "grid_template_rows": null,
            "height": null,
            "justify_content": null,
            "justify_items": null,
            "left": null,
            "margin": null,
            "max_height": null,
            "max_width": null,
            "min_height": null,
            "min_width": null,
            "object_fit": null,
            "object_position": null,
            "order": null,
            "overflow": null,
            "overflow_x": null,
            "overflow_y": null,
            "padding": null,
            "right": null,
            "top": null,
            "visibility": null,
            "width": "20px"
          }
        },
        "acc377ad1c9746369f66650dd7bb38bf": {
          "model_module": "@jupyter-widgets/base",
          "model_module_version": "1.2.0",
          "model_name": "LayoutModel",
          "state": {
            "_model_module": "@jupyter-widgets/base",
            "_model_module_version": "1.2.0",
            "_model_name": "LayoutModel",
            "_view_count": null,
            "_view_module": "@jupyter-widgets/base",
            "_view_module_version": "1.2.0",
            "_view_name": "LayoutView",
            "align_content": null,
            "align_items": null,
            "align_self": null,
            "border": null,
            "bottom": null,
            "display": null,
            "flex": null,
            "flex_flow": null,
            "grid_area": null,
            "grid_auto_columns": null,
            "grid_auto_flow": null,
            "grid_auto_rows": null,
            "grid_column": null,
            "grid_gap": null,
            "grid_row": null,
            "grid_template_areas": null,
            "grid_template_columns": null,
            "grid_template_rows": null,
            "height": null,
            "justify_content": null,
            "justify_items": null,
            "left": null,
            "margin": null,
            "max_height": null,
            "max_width": null,
            "min_height": null,
            "min_width": null,
            "object_fit": null,
            "object_position": null,
            "order": null,
            "overflow": null,
            "overflow_x": null,
            "overflow_y": null,
            "padding": null,
            "right": null,
            "top": null,
            "visibility": null,
            "width": null
          }
        },
        "c71f2f0f9f824f9b9cb368083d1eadf1": {
          "model_module": "@jupyter-widgets/controls",
          "model_module_version": "1.5.0",
          "model_name": "FloatProgressModel",
          "state": {
            "_dom_classes": [],
            "_model_module": "@jupyter-widgets/controls",
            "_model_module_version": "1.5.0",
            "_model_name": "FloatProgressModel",
            "_view_count": null,
            "_view_module": "@jupyter-widgets/controls",
            "_view_module_version": "1.5.0",
            "_view_name": "ProgressView",
            "bar_style": "success",
            "description": "",
            "description_tooltip": null,
            "layout": "IPY_MODEL_70cef9cd45ed4c549cbea2ba47f29a2d",
            "max": 1,
            "min": 0,
            "orientation": "horizontal",
            "style": "IPY_MODEL_49ad34d9a5044408844e1056e2b41918",
            "value": 0
          }
        },
        "cc5e2054d98c436d80a2103206531bef": {
          "model_module": "@jupyter-widgets/controls",
          "model_module_version": "1.5.0",
          "model_name": "DescriptionStyleModel",
          "state": {
            "_model_module": "@jupyter-widgets/controls",
            "_model_module_version": "1.5.0",
            "_model_name": "DescriptionStyleModel",
            "_view_count": null,
            "_view_module": "@jupyter-widgets/base",
            "_view_module_version": "1.2.0",
            "_view_name": "StyleView",
            "description_width": ""
          }
        },
        "eaa7aec2a3d4493d92d267be62c987ee": {
          "model_module": "@jupyter-widgets/controls",
          "model_module_version": "1.5.0",
          "model_name": "HBoxModel",
          "state": {
            "_dom_classes": [],
            "_model_module": "@jupyter-widgets/controls",
            "_model_module_version": "1.5.0",
            "_model_name": "HBoxModel",
            "_view_count": null,
            "_view_module": "@jupyter-widgets/controls",
            "_view_module_version": "1.5.0",
            "_view_name": "HBoxView",
            "box_style": "",
            "children": [
              "IPY_MODEL_6c8cc440872d4cb8b9f0390cad38e4ef",
              "IPY_MODEL_c71f2f0f9f824f9b9cb368083d1eadf1",
              "IPY_MODEL_1b60c683ee3a43e79a3f66dca2b242d3"
            ],
            "layout": "IPY_MODEL_6fc8469ba4234d7aa0fb997d2713488e"
          }
        }
      }
    }
  },
  "nbformat": 4,
  "nbformat_minor": 0
}
