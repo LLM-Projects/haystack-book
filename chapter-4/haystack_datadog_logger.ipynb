{
  "cells": [
    {
      "cell_type": "markdown",
      "metadata": {
        "id": "-C9Xj58Wpwcb"
      },
      "source": [
        "## Install Required Dependencies"
      ]
    },
    {
      "cell_type": "code",
      "execution_count": 1,
      "metadata": {
        "colab": {
          "base_uri": "https://localhost:8080/"
        },
        "id": "g8zbDBPN09H-",
        "outputId": "5cf7e609-7367-499f-e166-64a71cb92f82"
      },
      "outputs": [
        {
          "name": "stdout",
          "output_type": "stream",
          "text": [
            "Requirement already satisfied: structlog in /Users/apple/Documents/haystack-book/.venv/lib/python3.9/site-packages (24.1.0)\n",
            "Requirement already satisfied: haystack-ai in /Users/apple/Documents/haystack-book/.venv/lib/python3.9/site-packages (2.0.0)\n",
            "Requirement already satisfied: ddtrace in /Users/apple/Documents/haystack-book/.venv/lib/python3.9/site-packages (2.7.5)\n",
            "Requirement already satisfied: boilerpy3 in /Users/apple/Documents/haystack-book/.venv/lib/python3.9/site-packages (from haystack-ai) (1.0.7)\n",
            "Requirement already satisfied: haystack-bm25 in /Users/apple/Documents/haystack-book/.venv/lib/python3.9/site-packages (from haystack-ai) (1.0.2)\n",
            "Requirement already satisfied: jinja2 in /Users/apple/Documents/haystack-book/.venv/lib/python3.9/site-packages (from haystack-ai) (3.1.3)\n",
            "Requirement already satisfied: lazy-imports in /Users/apple/Documents/haystack-book/.venv/lib/python3.9/site-packages (from haystack-ai) (0.3.1)\n",
            "Requirement already satisfied: more-itertools in /Users/apple/Documents/haystack-book/.venv/lib/python3.9/site-packages (from haystack-ai) (10.2.0)\n",
            "Requirement already satisfied: networkx in /Users/apple/Documents/haystack-book/.venv/lib/python3.9/site-packages (from haystack-ai) (3.2.1)\n",
            "Requirement already satisfied: numpy in /Users/apple/Documents/haystack-book/.venv/lib/python3.9/site-packages (from haystack-ai) (1.26.4)\n",
            "Requirement already satisfied: openai>=1.1.0 in /Users/apple/Documents/haystack-book/.venv/lib/python3.9/site-packages (from haystack-ai) (1.14.3)\n",
            "Requirement already satisfied: pandas in /Users/apple/Documents/haystack-book/.venv/lib/python3.9/site-packages (from haystack-ai) (2.2.1)\n",
            "Requirement already satisfied: posthog in /Users/apple/Documents/haystack-book/.venv/lib/python3.9/site-packages (from haystack-ai) (3.5.0)\n",
            "Requirement already satisfied: python-dateutil in /Users/apple/Documents/haystack-book/.venv/lib/python3.9/site-packages (from haystack-ai) (2.9.0.post0)\n",
            "Requirement already satisfied: pyyaml in /Users/apple/Documents/haystack-book/.venv/lib/python3.9/site-packages (from haystack-ai) (6.0.1)\n",
            "Requirement already satisfied: requests in /Users/apple/Documents/haystack-book/.venv/lib/python3.9/site-packages (from haystack-ai) (2.31.0)\n",
            "Requirement already satisfied: tenacity in /Users/apple/Documents/haystack-book/.venv/lib/python3.9/site-packages (from haystack-ai) (8.2.3)\n",
            "Requirement already satisfied: tqdm in /Users/apple/Documents/haystack-book/.venv/lib/python3.9/site-packages (from haystack-ai) (4.66.2)\n",
            "Requirement already satisfied: typing-extensions>=4.7 in /Users/apple/Documents/haystack-book/.venv/lib/python3.9/site-packages (from haystack-ai) (4.10.0)\n",
            "Requirement already satisfied: attrs>=20 in /Users/apple/Documents/haystack-book/.venv/lib/python3.9/site-packages (from ddtrace) (23.2.0)\n",
            "Requirement already satisfied: cattrs in /Users/apple/Documents/haystack-book/.venv/lib/python3.9/site-packages (from ddtrace) (23.2.3)\n",
            "Requirement already satisfied: ddsketch>=2.0.1 in /Users/apple/Documents/haystack-book/.venv/lib/python3.9/site-packages (from ddtrace) (2.0.4)\n",
            "Requirement already satisfied: envier~=0.5 in /Users/apple/Documents/haystack-book/.venv/lib/python3.9/site-packages (from ddtrace) (0.5.1)\n",
            "Requirement already satisfied: opentelemetry-api>=1 in /Users/apple/Documents/haystack-book/.venv/lib/python3.9/site-packages (from ddtrace) (1.24.0)\n",
            "Requirement already satisfied: protobuf>=3 in /Users/apple/Documents/haystack-book/.venv/lib/python3.9/site-packages (from ddtrace) (4.25.3)\n",
            "Requirement already satisfied: six>=1.12.0 in /Users/apple/Documents/haystack-book/.venv/lib/python3.9/site-packages (from ddtrace) (1.16.0)\n",
            "Requirement already satisfied: xmltodict>=0.12 in /Users/apple/Documents/haystack-book/.venv/lib/python3.9/site-packages (from ddtrace) (0.13.0)\n",
            "Requirement already satisfied: sqlparse>=0.2.2 in /Users/apple/Documents/haystack-book/.venv/lib/python3.9/site-packages (from ddtrace) (0.4.4)\n",
            "Requirement already satisfied: bytecode>=0.13.0 in /Users/apple/Documents/haystack-book/.venv/lib/python3.9/site-packages (from ddtrace) (0.15.1)\n",
            "Requirement already satisfied: anyio<5,>=3.5.0 in /Users/apple/Documents/haystack-book/.venv/lib/python3.9/site-packages (from openai>=1.1.0->haystack-ai) (4.3.0)\n",
            "Requirement already satisfied: distro<2,>=1.7.0 in /Users/apple/Documents/haystack-book/.venv/lib/python3.9/site-packages (from openai>=1.1.0->haystack-ai) (1.9.0)\n",
            "Requirement already satisfied: httpx<1,>=0.23.0 in /Users/apple/Documents/haystack-book/.venv/lib/python3.9/site-packages (from openai>=1.1.0->haystack-ai) (0.27.0)\n",
            "Requirement already satisfied: pydantic<3,>=1.9.0 in /Users/apple/Documents/haystack-book/.venv/lib/python3.9/site-packages (from openai>=1.1.0->haystack-ai) (2.6.4)\n",
            "Requirement already satisfied: sniffio in /Users/apple/Documents/haystack-book/.venv/lib/python3.9/site-packages (from openai>=1.1.0->haystack-ai) (1.3.1)\n",
            "Requirement already satisfied: deprecated>=1.2.6 in /Users/apple/Documents/haystack-book/.venv/lib/python3.9/site-packages (from opentelemetry-api>=1->ddtrace) (1.2.14)\n",
            "Requirement already satisfied: importlib-metadata<=7.0,>=6.0 in /Users/apple/Documents/haystack-book/.venv/lib/python3.9/site-packages (from opentelemetry-api>=1->ddtrace) (7.0.0)\n",
            "Requirement already satisfied: exceptiongroup>=1.1.1 in /Users/apple/Documents/haystack-book/.venv/lib/python3.9/site-packages (from cattrs->ddtrace) (1.2.0)\n",
            "Requirement already satisfied: MarkupSafe>=2.0 in /Users/apple/Documents/haystack-book/.venv/lib/python3.9/site-packages (from jinja2->haystack-ai) (2.1.5)\n",
            "Requirement already satisfied: pytz>=2020.1 in /Users/apple/Documents/haystack-book/.venv/lib/python3.9/site-packages (from pandas->haystack-ai) (2024.1)\n",
            "Requirement already satisfied: tzdata>=2022.7 in /Users/apple/Documents/haystack-book/.venv/lib/python3.9/site-packages (from pandas->haystack-ai) (2024.1)\n",
            "Requirement already satisfied: monotonic>=1.5 in /Users/apple/Documents/haystack-book/.venv/lib/python3.9/site-packages (from posthog->haystack-ai) (1.6)\n",
            "Requirement already satisfied: backoff>=1.10.0 in /Users/apple/Documents/haystack-book/.venv/lib/python3.9/site-packages (from posthog->haystack-ai) (2.2.1)\n",
            "Requirement already satisfied: charset-normalizer<4,>=2 in /Users/apple/Documents/haystack-book/.venv/lib/python3.9/site-packages (from requests->haystack-ai) (3.3.2)\n",
            "Requirement already satisfied: idna<4,>=2.5 in /Users/apple/Documents/haystack-book/.venv/lib/python3.9/site-packages (from requests->haystack-ai) (3.6)\n",
            "Requirement already satisfied: urllib3<3,>=1.21.1 in /Users/apple/Documents/haystack-book/.venv/lib/python3.9/site-packages (from requests->haystack-ai) (2.2.1)\n",
            "Requirement already satisfied: certifi>=2017.4.17 in /Users/apple/Documents/haystack-book/.venv/lib/python3.9/site-packages (from requests->haystack-ai) (2024.2.2)\n",
            "Requirement already satisfied: wrapt<2,>=1.10 in /Users/apple/Documents/haystack-book/.venv/lib/python3.9/site-packages (from deprecated>=1.2.6->opentelemetry-api>=1->ddtrace) (1.16.0)\n",
            "Requirement already satisfied: httpcore==1.* in /Users/apple/Documents/haystack-book/.venv/lib/python3.9/site-packages (from httpx<1,>=0.23.0->openai>=1.1.0->haystack-ai) (1.0.5)\n",
            "Requirement already satisfied: h11<0.15,>=0.13 in /Users/apple/Documents/haystack-book/.venv/lib/python3.9/site-packages (from httpcore==1.*->httpx<1,>=0.23.0->openai>=1.1.0->haystack-ai) (0.14.0)\n",
            "Requirement already satisfied: zipp>=0.5 in /Users/apple/Documents/haystack-book/.venv/lib/python3.9/site-packages (from importlib-metadata<=7.0,>=6.0->opentelemetry-api>=1->ddtrace) (3.18.1)\n",
            "Requirement already satisfied: annotated-types>=0.4.0 in /Users/apple/Documents/haystack-book/.venv/lib/python3.9/site-packages (from pydantic<3,>=1.9.0->openai>=1.1.0->haystack-ai) (0.6.0)\n",
            "Requirement already satisfied: pydantic-core==2.16.3 in /Users/apple/Documents/haystack-book/.venv/lib/python3.9/site-packages (from pydantic<3,>=1.9.0->openai>=1.1.0->haystack-ai) (2.16.3)\n"
          ]
        }
      ],
      "source": [
        "%%bash\n",
        "\n",
        "pip install structlog haystack-ai ddtrace"
      ]
    },
    {
      "cell_type": "markdown",
      "metadata": {
        "id": "hLMssOq6pr6d"
      },
      "source": [
        "## Import Libraries"
      ]
    },
    {
      "cell_type": "code",
      "execution_count": 2,
      "metadata": {
        "id": "IgMezFgC0wLf"
      },
      "outputs": [
        {
          "name": "stderr",
          "output_type": "stream",
          "text": [
            "/Users/apple/Documents/haystack-book/.venv/lib/python3.9/site-packages/urllib3/__init__.py:35: NotOpenSSLWarning: urllib3 v2 only supports OpenSSL 1.1.1+, currently the 'ssl' module is compiled with 'LibreSSL 2.8.3'. See: https://github.com/urllib3/urllib3/issues/3020\n",
            "  warnings.warn(\n",
            "/Users/apple/Documents/haystack-book/.venv/lib/python3.9/site-packages/ddtrace/internal/module.py:220: TqdmWarning: IProgress not found. Please update jupyter and ipywidgets. See https://ipywidgets.readthedocs.io/en/stable/user_install.html\n",
            "  self.loader.exec_module(module)\n"
          ]
        }
      ],
      "source": [
        "import logging\n",
        "import haystack\n",
        "\n",
        "from haystack.tracing.datadog import DatadogTracer\n",
        "from haystack import tracing\n",
        "import ddtrace"
      ]
    },
    {
      "cell_type": "markdown",
      "metadata": {
        "id": "IjK-IB5Np15Q"
      },
      "source": [
        "## Create a new [Logger](https://docs.python.org/3/library/logging.html) Instance\n",
        "\n"
      ]
    },
    {
      "cell_type": "code",
      "execution_count": 3,
      "metadata": {
        "colab": {
          "base_uri": "https://localhost:8080/",
          "height": 173
        },
        "id": "djmUgrjh8twP",
        "outputId": "dbc15c65-8056-4cd3-98be-9a1d93f80bd3"
      },
      "outputs": [],
      "source": [
        "logger = logging.getLogger(\"haystack\")\n",
        "\n",
        "logger.setLevel(logging.DEBUG) # Default level: WARNING"
      ]
    },
    {
      "cell_type": "code",
      "execution_count": 4,
      "metadata": {
        "colab": {
          "base_uri": "https://localhost:8080/"
        },
        "id": "teaXU1hD00hc",
        "outputId": "ceabc536-0708-4d18-fd39-c5d8b146145f"
      },
      "outputs": [
        {
          "name": "stderr",
          "output_type": "stream",
          "text": [
            "\u001b[2m2024-04-09T16:21:26.840367Z\u001b[0m [\u001b[32m\u001b[1minfo     \u001b[0m] \u001b[1mHi...                         \u001b[0m \u001b[36mlineno\u001b[0m=\u001b[35m1\u001b[0m \u001b[36mmodule\u001b[0m=\u001b[35mhaystack\u001b[0m\n"
          ]
        }
      ],
      "source": [
        "logger.info(\"Hi...\")"
      ]
    },
    {
      "cell_type": "code",
      "execution_count": 5,
      "metadata": {
        "id": "DL9Ru4uj2MKH"
      },
      "outputs": [],
      "source": [
        "haystack.logging.configure_logging(use_json=True)"
      ]
    },
    {
      "cell_type": "code",
      "execution_count": 6,
      "metadata": {
        "colab": {
          "base_uri": "https://localhost:8080/"
        },
        "id": "fhjMGBPn7Uhd",
        "outputId": "53e7a88a-a44d-438c-df61-bf5ffd40d850"
      },
      "outputs": [
        {
          "name": "stderr",
          "output_type": "stream",
          "text": [
            "{\"event\": \"\\u26a0\\ufe0f\", \"level\": \"critical\", \"timestamp\": \"2024-04-09T16:21:29.386819Z\", \"lineno\": 1, \"module\": \"haystack\"}\n"
          ]
        }
      ],
      "source": [
        "logger.critical(\"⚠️\")"
      ]
    },
    {
      "cell_type": "markdown",
      "metadata": {
        "id": "4TH3cTXwqKEt"
      },
      "source": [
        "## Create [Datadog](https://docs.haystack.deepset.ai/docs/tracing#datadog) Tracer"
      ]
    },
    {
      "cell_type": "code",
      "execution_count": 7,
      "metadata": {
        "id": "Q55O6R7_8fs2"
      },
      "outputs": [],
      "source": [
        "tracer = ddtrace.tracer\n",
        "tracing.enable_tracing(DatadogTracer(tracer))"
      ]
    },
    {
      "cell_type": "code",
      "execution_count": null,
      "metadata": {
        "id": "UACWxRS489he"
      },
      "outputs": [],
      "source": []
    }
  ],
  "metadata": {
    "colab": {
      "provenance": []
    },
    "kernelspec": {
      "display_name": "Python 3",
      "name": "python3"
    },
    "language_info": {
      "codemirror_mode": {
        "name": "ipython",
        "version": 3
      },
      "file_extension": ".py",
      "mimetype": "text/x-python",
      "name": "python",
      "nbconvert_exporter": "python",
      "pygments_lexer": "ipython3",
      "version": "3.9.6"
    }
  },
  "nbformat": 4,
  "nbformat_minor": 0
}
