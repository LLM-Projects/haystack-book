{
  "cells": [
    {
      "cell_type": "code",
      "execution_count": 1,
      "metadata": {
        "colab": {
          "base_uri": "https://localhost:8080/"
        },
        "id": "bvoZNqm1C8TY",
        "outputId": "c98a7ce0-4521-4361-ae13-80fe1c77ce48"
      },
      "outputs": [
        {
          "name": "stdout",
          "output_type": "stream",
          "text": [
            "Defaulting to user installation because normal site-packages is not writeable\n",
            "Collecting langfuse-haystack\n",
            "  Using cached langfuse_haystack-0.0.4-py3-none-any.whl.metadata (4.7 kB)\n",
            "Requirement already satisfied: haystack-ai in /Users/apple/Library/Python/3.9/lib/python/site-packages (from langfuse-haystack) (2.0.0)\n",
            "Collecting langfuse (from langfuse-haystack)\n",
            "  Downloading langfuse-2.31.0-py3-none-any.whl.metadata (3.1 kB)\n",
            "Requirement already satisfied: boilerpy3 in /Users/apple/Library/Python/3.9/lib/python/site-packages (from haystack-ai->langfuse-haystack) (1.0.7)\n",
            "Requirement already satisfied: haystack-bm25 in /Users/apple/Library/Python/3.9/lib/python/site-packages (from haystack-ai->langfuse-haystack) (1.0.2)\n",
            "Requirement already satisfied: jinja2 in /Users/apple/Library/Python/3.9/lib/python/site-packages (from haystack-ai->langfuse-haystack) (3.1.2)\n",
            "Requirement already satisfied: lazy-imports in /Users/apple/Library/Python/3.9/lib/python/site-packages (from haystack-ai->langfuse-haystack) (0.3.1)\n",
            "Requirement already satisfied: more-itertools in /Users/apple/Library/Python/3.9/lib/python/site-packages (from haystack-ai->langfuse-haystack) (10.2.0)\n",
            "Requirement already satisfied: networkx in /Users/apple/Library/Python/3.9/lib/python/site-packages (from haystack-ai->langfuse-haystack) (3.2.1)\n",
            "Requirement already satisfied: numpy in /Users/apple/Library/Python/3.9/lib/python/site-packages (from haystack-ai->langfuse-haystack) (1.25.2)\n",
            "Requirement already satisfied: openai>=1.1.0 in /Users/apple/Library/Python/3.9/lib/python/site-packages (from haystack-ai->langfuse-haystack) (1.13.3)\n",
            "Requirement already satisfied: pandas in /Users/apple/Library/Python/3.9/lib/python/site-packages (from haystack-ai->langfuse-haystack) (2.1.4)\n",
            "Requirement already satisfied: posthog in /Users/apple/Library/Python/3.9/lib/python/site-packages (from haystack-ai->langfuse-haystack) (3.5.0)\n",
            "Requirement already satisfied: python-dateutil in /Users/apple/Library/Python/3.9/lib/python/site-packages (from haystack-ai->langfuse-haystack) (2.8.2)\n",
            "Requirement already satisfied: pyyaml in /Users/apple/Library/Python/3.9/lib/python/site-packages (from haystack-ai->langfuse-haystack) (6.0.1)\n",
            "Requirement already satisfied: requests in /Users/apple/Library/Python/3.9/lib/python/site-packages (from haystack-ai->langfuse-haystack) (2.31.0)\n",
            "Requirement already satisfied: tenacity in /Users/apple/Library/Python/3.9/lib/python/site-packages (from haystack-ai->langfuse-haystack) (8.2.3)\n",
            "Requirement already satisfied: tqdm in /Users/apple/Library/Python/3.9/lib/python/site-packages (from haystack-ai->langfuse-haystack) (4.66.1)\n",
            "Requirement already satisfied: typing-extensions>=4.7 in /Users/apple/Library/Python/3.9/lib/python/site-packages (from haystack-ai->langfuse-haystack) (4.9.0)\n",
            "Requirement already satisfied: backoff>=1.10.0 in /Users/apple/Library/Python/3.9/lib/python/site-packages (from langfuse->langfuse-haystack) (2.2.1)\n",
            "Requirement already satisfied: httpx<1.0,>=0.15.4 in /Users/apple/Library/Python/3.9/lib/python/site-packages (from langfuse->langfuse-haystack) (0.27.0)\n",
            "Collecting idna<4.0,>=3.7 (from langfuse->langfuse-haystack)\n",
            "  Using cached idna-3.7-py3-none-any.whl.metadata (9.9 kB)\n",
            "Requirement already satisfied: packaging<24.0,>=23.2 in /Users/apple/Library/Python/3.9/lib/python/site-packages (from langfuse->langfuse-haystack) (23.2)\n",
            "Requirement already satisfied: pydantic<3.0,>=1.10.7 in /Users/apple/Library/Python/3.9/lib/python/site-packages (from langfuse->langfuse-haystack) (2.5.2)\n",
            "Requirement already satisfied: wrapt<2.0,>=1.14 in /Users/apple/Library/Python/3.9/lib/python/site-packages (from langfuse->langfuse-haystack) (1.16.0)\n",
            "Requirement already satisfied: anyio in /Users/apple/Library/Python/3.9/lib/python/site-packages (from httpx<1.0,>=0.15.4->langfuse->langfuse-haystack) (4.3.0)\n",
            "Requirement already satisfied: certifi in /Users/apple/Library/Python/3.9/lib/python/site-packages (from httpx<1.0,>=0.15.4->langfuse->langfuse-haystack) (2023.11.17)\n",
            "Requirement already satisfied: httpcore==1.* in /Users/apple/Library/Python/3.9/lib/python/site-packages (from httpx<1.0,>=0.15.4->langfuse->langfuse-haystack) (1.0.4)\n",
            "Requirement already satisfied: sniffio in /Users/apple/Library/Python/3.9/lib/python/site-packages (from httpx<1.0,>=0.15.4->langfuse->langfuse-haystack) (1.3.1)\n",
            "Requirement already satisfied: h11<0.15,>=0.13 in /Users/apple/Library/Python/3.9/lib/python/site-packages (from httpcore==1.*->httpx<1.0,>=0.15.4->langfuse->langfuse-haystack) (0.14.0)\n",
            "Requirement already satisfied: distro<2,>=1.7.0 in /Users/apple/Library/Python/3.9/lib/python/site-packages (from openai>=1.1.0->haystack-ai->langfuse-haystack) (1.9.0)\n",
            "Requirement already satisfied: annotated-types>=0.4.0 in /Users/apple/Library/Python/3.9/lib/python/site-packages (from pydantic<3.0,>=1.10.7->langfuse->langfuse-haystack) (0.6.0)\n",
            "Requirement already satisfied: pydantic-core==2.14.5 in /Users/apple/Library/Python/3.9/lib/python/site-packages (from pydantic<3.0,>=1.10.7->langfuse->langfuse-haystack) (2.14.5)\n",
            "Requirement already satisfied: MarkupSafe>=2.0 in /Users/apple/Library/Python/3.9/lib/python/site-packages (from jinja2->haystack-ai->langfuse-haystack) (2.1.3)\n",
            "Requirement already satisfied: pytz>=2020.1 in /Users/apple/Library/Python/3.9/lib/python/site-packages (from pandas->haystack-ai->langfuse-haystack) (2023.3.post1)\n",
            "Requirement already satisfied: tzdata>=2022.1 in /Users/apple/Library/Python/3.9/lib/python/site-packages (from pandas->haystack-ai->langfuse-haystack) (2023.3)\n",
            "Requirement already satisfied: six>=1.5 in /Library/Developer/CommandLineTools/Library/Frameworks/Python3.framework/Versions/3.9/lib/python3.9/site-packages (from python-dateutil->haystack-ai->langfuse-haystack) (1.15.0)\n",
            "Requirement already satisfied: monotonic>=1.5 in /Users/apple/Library/Python/3.9/lib/python/site-packages (from posthog->haystack-ai->langfuse-haystack) (1.6)\n",
            "Requirement already satisfied: charset-normalizer<4,>=2 in /Users/apple/Library/Python/3.9/lib/python/site-packages (from requests->haystack-ai->langfuse-haystack) (3.3.2)\n",
            "Requirement already satisfied: urllib3<3,>=1.21.1 in /Users/apple/Library/Python/3.9/lib/python/site-packages (from requests->haystack-ai->langfuse-haystack) (2.1.0)\n",
            "Requirement already satisfied: exceptiongroup>=1.0.2 in /Users/apple/Library/Python/3.9/lib/python/site-packages (from anyio->httpx<1.0,>=0.15.4->langfuse->langfuse-haystack) (1.2.0)\n",
            "Using cached langfuse_haystack-0.0.4-py3-none-any.whl (10 kB)\n",
            "Downloading langfuse-2.31.0-py3-none-any.whl (161 kB)\n",
            "\u001b[2K   \u001b[38;2;114;156;31m━━━━━━━━━━━━━━━━━━━━━━━━━━━━━━━━━━━━━━━━\u001b[0m \u001b[32m161.8/161.8 kB\u001b[0m \u001b[31m3.5 MB/s\u001b[0m eta \u001b[36m0:00:00\u001b[0m[31m4.0 MB/s\u001b[0m eta \u001b[36m0:00:01\u001b[0m\n",
            "\u001b[?25hUsing cached idna-3.7-py3-none-any.whl (66 kB)\n",
            "Installing collected packages: idna, langfuse, langfuse-haystack\n",
            "  Attempting uninstall: idna\n",
            "    Found existing installation: idna 3.6\n",
            "    Uninstalling idna-3.6:\n",
            "      Successfully uninstalled idna-3.6\n",
            "Successfully installed idna-3.7 langfuse-2.31.0 langfuse-haystack-0.0.4\n"
          ]
        }
      ],
      "source": [
        "!pip install langfuse-haystack\n",
        "\n",
        "import os\n",
        "from getpass import getpass\n",
        "\n",
        "from haystack import Pipeline\n",
        "from haystack.components.builders import DynamicChatPromptBuilder\n",
        "from haystack.components.generators.chat import OpenAIChatGenerator\n",
        "from haystack.dataclasses import ChatMessage\n",
        "from haystack_integrations.components.connectors.langfuse import LangfuseConnector"
      ]
    },
    {
      "cell_type": "code",
      "execution_count": 2,
      "metadata": {
        "colab": {
          "base_uri": "https://localhost:8080/"
        },
        "id": "ZdiOQJHDDa7o",
        "outputId": "df1b676e-e00b-44e4-8151-33e10145e2e0"
      },
      "outputs": [],
      "source": [
        "os.environ[\"OPENAI_API_KEY\"] = getpass(\"Enter OpenAI API key:\")\n",
        "os.environ[\"LANGFUSE_SECRET_KEY\"] = getpass(\"Enter LANGFUSE_SECRET_KEY key:\")\n",
        "os.environ[\"LANGFUSE_PUBLIC_KEY\"] = getpass(\"Enter LANGFUSE_PUBLIC_KEY key:\")\n",
        "os.environ[\"HAYSTACK_CONTENT_TRACING_ENABLED\"] = \"True\""
      ]
    },
    {
      "cell_type": "code",
      "execution_count": 3,
      "metadata": {
        "colab": {
          "base_uri": "https://localhost:8080/"
        },
        "id": "yGxLl2y9Du0x",
        "outputId": "f90e1449-ff75-4a3e-8d6f-cb0452dc349f"
      },
      "outputs": [
        {
          "name": "stderr",
          "output_type": "stream",
          "text": [
            "/Users/apple/Library/Python/3.9/lib/python/site-packages/urllib3/__init__.py:34: NotOpenSSLWarning: urllib3 v2 only supports OpenSSL 1.1.1+, currently the 'ssl' module is compiled with 'LibreSSL 2.8.3'. See: https://github.com/urllib3/urllib3/issues/3020\n",
            "  warnings.warn(\n"
          ]
        },
        {
          "name": "stdout",
          "output_type": "stream",
          "text": [
            "ChatMessage(content='Berlin ist die Hauptstadt und größte Stadt Deutschlands. Es ist bekannt für seine reiche Geschichte, lebendige Kunstszene, alternative Kultur und pulsierendes Nachtleben. Zu den bekanntesten Sehenswürdigkeiten gehören das Brandenburger Tor, der Berliner Dom, die Berliner Mauer und der Reichstag. Berlin ist auch ein wichtiger Standort für Technologie, Politik, Medien und Wissenschaft. Die Stadt hat eine vielfältige Bevölkerung und zieht Besucher aus der ganzen Welt an.', role=<ChatRole.ASSISTANT: 'assistant'>, name=None, meta={'model': 'gpt-3.5-turbo-0125', 'index': 0, 'finish_reason': 'stop', 'usage': {'completion_tokens': 122, 'prompt_tokens': 29, 'total_tokens': 151}})\n",
            "https://cloud.langfuse.com/trace/aa71e3db-e2f7-4b37-950a-2a9cbcf5d9e1\n"
          ]
        }
      ],
      "source": [
        "pipe = Pipeline()\n",
        "pipe.add_component(\"tracer\", LangfuseConnector(\"Chat example\"))\n",
        "pipe.add_component(\"prompt_builder\", DynamicChatPromptBuilder())\n",
        "pipe.add_component(\"llm\", OpenAIChatGenerator(model=\"gpt-3.5-turbo\"))\n",
        "\n",
        "pipe.connect(\"prompt_builder.prompt\", \"llm.messages\")\n",
        "messages = [\n",
        "    ChatMessage.from_system(\n",
        "        \"Always respond in German even if some input data is in other languages.\"\n",
        "    ),\n",
        "    ChatMessage.from_user(\"Tell me about {{location}}\"),\n",
        "]\n",
        "\n",
        "response = pipe.run(\n",
        "    data={\n",
        "        \"prompt_builder\": {\n",
        "            \"template_variables\": {\"location\": \"Berlin\"},\n",
        "            \"prompt_source\": messages,\n",
        "        }\n",
        "    }\n",
        ")\n",
        "print(response[\"llm\"][\"replies\"][0])\n",
        "print(response[\"tracer\"][\"trace_url\"])"
      ]
    },
    {
      "cell_type": "code",
      "execution_count": null,
      "metadata": {
        "id": "ZxrfQh-AETbe"
      },
      "outputs": [],
      "source": []
    }
  ],
  "metadata": {
    "colab": {
      "provenance": []
    },
    "kernelspec": {
      "display_name": "Python 3",
      "name": "python3"
    },
    "language_info": {
      "codemirror_mode": {
        "name": "ipython",
        "version": 3
      },
      "file_extension": ".py",
      "mimetype": "text/x-python",
      "name": "python",
      "nbconvert_exporter": "python",
      "pygments_lexer": "ipython3",
      "version": "3.9.6"
    }
  },
  "nbformat": 4,
  "nbformat_minor": 0
}
