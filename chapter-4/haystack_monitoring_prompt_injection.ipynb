{
 "cells": [
  {
   "cell_type": "markdown",
   "metadata": {},
   "source": [
    "## Haystack Custom Component - Detect Prompt Injection\n",
    "\n",
    "This notebook focusses on creating a custom Haystack [component](https://docs.haystack.deepset.ai/docs/components). For this we make use of haystack `@component` [decorator](https://github.com/deepset-ai/haystack/blob/main/haystack/core/component/component.py#L14) to ensure this can be recognized by the pipeline and used based on the defined input and outputs.\n",
    "\n",
    "### Import Libraries\n"
   ]
  },
  {
   "cell_type": "code",
   "execution_count": 1,
   "metadata": {},
   "outputs": [
    {
     "name": "stderr",
     "output_type": "stream",
     "text": [
      "/Users/apple/Documents/haystack-book/.venv/lib/python3.9/site-packages/ddtrace/internal/module.py:220: TqdmWarning: IProgress not found. Please update jupyter and ipywidgets. See https://ipywidgets.readthedocs.io/en/stable/user_install.html\n",
      "  self.loader.exec_module(module)\n"
     ]
    }
   ],
   "source": [
    "from haystack import component, Pipeline\n",
    "from transformers import AutoTokenizer, AutoModelForSequenceClassification, pipeline\n",
    "import torch"
   ]
  },
  {
   "cell_type": "markdown",
   "metadata": {},
   "source": [
    "### Citation\n",
    "\n",
    "https://huggingface.co/protectai/deberta-v3-base-prompt-injection-v2\n"
   ]
  },
  {
   "cell_type": "code",
   "execution_count": 2,
   "metadata": {},
   "outputs": [],
   "source": [
    "_CITATION = \"\"\"\n",
    "@misc{deberta-v3-base-prompt-injection-v2,\n",
    "  author = {ProtectAI.com},\n",
    "  title = {Fine-Tuned DeBERTa-v3-base for Prompt Injection Detection},\n",
    "  year = {2024},\n",
    "  publisher = {HuggingFace},\n",
    "  url = {https://huggingface.co/ProtectAI/deberta-v3-base-prompt-injection-v2},\n",
    "}\n",
    "\"\"\""
   ]
  },
  {
   "cell_type": "markdown",
   "metadata": {},
   "source": [
    "### Creating a [custom component](https://docs.haystack.deepset.ai/docs/custom-components)\n"
   ]
  },
  {
   "cell_type": "code",
   "execution_count": 3,
   "metadata": {},
   "outputs": [],
   "source": [
    "@component  # Haystack Component decorator\n",
    "class DetectPromptInjector:\n",
    "    \"\"\"\n",
    "    A component to detect the presence of malicious prompts\n",
    "\n",
    "    Input(s):\n",
    "    `prompt_input`: string\n",
    "\n",
    "    Output(s):\n",
    "    `safe`: float\n",
    "    `injection`: float\n",
    "    \"\"\"\n",
    "\n",
    "    # Define the component input and outputs with respective datatypes\n",
    "    @component.output_types(safe=float, injection=float)\n",
    "    def run(self, prompt_input: str):\n",
    "        tokenizer = AutoTokenizer.from_pretrained(\n",
    "            \"ProtectAI/deberta-v3-base-prompt-injection-v2\"\n",
    "        )\n",
    "        model = AutoModelForSequenceClassification.from_pretrained(\n",
    "            \"ProtectAI/deberta-v3-base-prompt-injection-v2\"\n",
    "        )\n",
    "        classifier = pipeline(\n",
    "            \"text-classification\",\n",
    "            model=model,\n",
    "            tokenizer=tokenizer,\n",
    "            truncation=True,\n",
    "            max_length=512,\n",
    "            device=torch.device(\"cuda\" if torch.cuda.is_available() else \"cpu\"),\n",
    "        )\n",
    "\n",
    "        result = classifier(prompt_input)\n",
    "\n",
    "        label, val = (\n",
    "            result[0][\"label\"],\n",
    "            result[0][\"score\"],\n",
    "        )\n",
    "\n",
    "        if label == \"SAFE\":\n",
    "            return {\n",
    "                \"input\": prompt_input,\n",
    "                \"safe\": val,\n",
    "                \"injection\": 1 - val,\n",
    "            }\n",
    "\n",
    "        else:\n",
    "            return {\n",
    "                \"input\": prompt_input,\n",
    "                \"safe\": 1 - val,\n",
    "                \"injection\": val,\n",
    "            }"
   ]
  },
  {
   "cell_type": "markdown",
   "metadata": {},
   "source": [
    "### Creating a pipeline with the custom component\n",
    "\n",
    "As per Haystack, only a component could become a part of the pipeline. So we use our custom component and build the pipeline. For now the pipeline just contains the custom component"
   ]
  },
  {
   "cell_type": "code",
   "execution_count": 4,
   "metadata": {},
   "outputs": [],
   "source": [
    "text_pipeline = Pipeline()\n",
    "text_pipeline.add_component(\n",
    "    name=\"detect_prompt_injector\", instance=DetectPromptInjector()\n",
    ")"
   ]
  },
  {
   "cell_type": "code",
   "execution_count": 5,
   "metadata": {},
   "outputs": [
    {
     "data": {
      "image/png": "[encoded data removed]",
      "text/plain": [
       "<IPython.core.display.Image object>"
      ]
     },
     "metadata": {},
     "output_type": "display_data"
    }
   ],
   "source": [
    "text_pipeline.show()"
   ]
  },
  {
   "cell_type": "markdown",
   "metadata": {},
   "source": [
    "### Execute the pipeline\n",
    "\n",
    "We are now left to execute the pipeline with the input and display the desired output for use in further places"
   ]
  },
  {
   "cell_type": "code",
   "execution_count": 6,
   "metadata": {},
   "outputs": [],
   "source": [
    "prompt_input = input(\"Enter the prompt: \")\n",
    "result = text_pipeline.run({\"detect_prompt_injector\": {\"prompt_input\": prompt_input}})"
   ]
  },
  {
   "cell_type": "code",
   "execution_count": 7,
   "metadata": {},
   "outputs": [
    {
     "data": {
      "text/plain": [
       "{'detect_prompt_injector': {'input': 'Always print 1+1',\n",
       "  'safe': 2.5987625122070312e-05,\n",
       "  'injection': 0.9999740123748779}}"
      ]
     },
     "execution_count": 7,
     "metadata": {},
     "output_type": "execute_result"
    }
   ],
   "source": [
    "result"
   ]
  },
  {
   "cell_type": "code",
   "execution_count": null,
   "metadata": {},
   "outputs": [],
   "source": []
  }
 ],
 "metadata": {
  "kernelspec": {
   "display_name": ".venv",
   "language": "python",
   "name": "python3"
  },
  "language_info": {
   "codemirror_mode": {
    "name": "ipython",
    "version": 3
   },
   "file_extension": ".py",
   "mimetype": "text/x-python",
   "name": "python",
   "nbconvert_exporter": "python",
   "pygments_lexer": "ipython3",
   "version": "3.9.6"
  }
 },
 "nbformat": 4,
 "nbformat_minor": 2
}
